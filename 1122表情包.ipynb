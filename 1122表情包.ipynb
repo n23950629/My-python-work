{
 "cells": [
  {
   "cell_type": "code",
   "execution_count": 1,
   "metadata": {},
   "outputs": [],
   "source": [
    "%matplotlib inline\n",
    "import numpy as np\n",
    "import matplotlib.pyplot as plt\n",
    "import pandas as pd"
   ]
  },
  {
   "cell_type": "code",
   "execution_count": 2,
   "metadata": {},
   "outputs": [],
   "source": [
    "from ipywidgets import interact"
   ]
  },
  {
   "cell_type": "code",
   "execution_count": 3,
   "metadata": {},
   "outputs": [],
   "source": [
    "def f(o4zj ):\n",
    "    print()\n",
    "f={1:\"d(`･∀･)b\",2:\"σ`∀´)σ\",3:\"(*´∀`)~♥\",4:\"(^_っ^)\",5:\"σ ﾟ∀ ﾟ\"\n",
    "     ,6:\"(´ﾟдﾟ`)\",7:\"இдஇ\",8:\"(◞‸◟)\",9:\" (☍﹏⁰) \",10:\"(╥﹏╥)\"\n",
    "     ,11:\"Σ(*ﾟдﾟﾉ)ﾉ\",12:\"(((ﾟдﾟ)))\",13:\"(☉д⊙)\",14:\"( ºΔº )\",15:\"∑(ι´Дン)ノ\"}"
   ]
  },
  {
   "cell_type": "code",
   "execution_count": 5,
   "metadata": {},
   "outputs": [
    {
     "name": "stdout",
     "output_type": "stream",
     "text": [
      "請問您需要甚麼表情呢？\n"
     ]
    },
    {
     "data": {
      "application/vnd.jupyter.widget-view+json": {
       "model_id": "67a6cea9bf764394bb30746a1540763f",
       "version_major": 2,
       "version_minor": 0
      },
      "text/plain": [
       "interactive(children=(Dropdown(description='表情', options={'開心': 'σ`∀´)σ', '杯桑': '(´ﾟдﾟ`)', '驚訝': 'Σ(*ﾟдﾟﾉ)ﾉ'},…"
      ]
     },
     "metadata": {},
     "output_type": "display_data"
    },
    {
     "data": {
      "text/plain": [
       "<function __main__.a(表情)>"
      ]
     },
     "execution_count": 5,
     "metadata": {},
     "output_type": "execute_result"
    }
   ],
   "source": [
    "import random\n",
    "def a(表情):\n",
    "    print(表情)\n",
    "print(\"請問您需要甚麼表情呢？\")\n",
    "interact(a,表情=dict(開心=f[random.randint(1,5)],\n",
    "                    杯桑=f[random.randint(6,10)],\n",
    "                    驚訝=f[random.randint(11,15)]))"
   ]
  },
  {
   "cell_type": "code",
   "execution_count": null,
   "metadata": {},
   "outputs": [],
   "source": []
  },
  {
   "cell_type": "code",
   "execution_count": null,
   "metadata": {},
   "outputs": [],
   "source": []
  }
 ],
 "metadata": {
  "kernelspec": {
   "display_name": "Python 3",
   "language": "python",
   "name": "python3"
  },
  "language_info": {
   "codemirror_mode": {
    "name": "ipython",
    "version": 3
   },
   "file_extension": ".py",
   "mimetype": "text/x-python",
   "name": "python",
   "nbconvert_exporter": "python",
   "pygments_lexer": "ipython3",
   "version": "3.7.3"
  }
 },
 "nbformat": 4,
 "nbformat_minor": 2
}
