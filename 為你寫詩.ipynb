{
 "cells": [
  {
   "cell_type": "code",
   "execution_count": 2,
   "metadata": {},
   "outputs": [],
   "source": [
    "%matplotlib inline\n",
    "import numpy as np\n",
    "import matplotlib.pyplot as plt\n",
    "import pandas as pd\n",
    "\n",
    "from numpy.random import randint\n",
    "from numpy.random import choice"
   ]
  },
  {
   "cell_type": "code",
   "execution_count": 3,
   "metadata": {},
   "outputs": [],
   "source": [
    "words='''\n",
    "靜聽松風寒\n",
    "散步詠涼天\n",
    "素手玉房前\n",
    "驅車登古原\n",
    "莫買沃洲山\n",
    "積雪浮雲端\n",
    "城中增暮寒\n",
    "美人捲珠簾\n",
    "杳杳鐘聲晚\n",
    "幽人應未眠\n",
    "時時誤拂絃\n",
    "雙淚落君前\n",
    "深宮二十年\n",
    "卻下水晶簾\n",
    "雷鼓動山川\n",
    "羌戎賀勞旋\n",
    "紅顏棄軒冕\n",
    "細草微風岸\n",
    "有弟皆分散\n",
    "關中昔喪亂\n",
    "閨中只獨看\n",
    "未解憶長安\n",
    "雙照淚痕幹'''"
   ]
  },
  {
   "cell_type": "code",
   "execution_count": 4,
   "metadata": {},
   "outputs": [],
   "source": [
    "phrase=words.split(\"\\n\")"
   ]
  },
  {
   "cell_type": "code",
   "execution_count": 8,
   "metadata": {},
   "outputs": [
    {
     "name": "stdout",
     "output_type": "stream",
     "text": [
      "閨中只獨看\n",
      "杳杳鐘聲晚\n",
      "雙照淚痕幹\n",
      "卻下水晶簾\n"
     ]
    }
   ],
   "source": [
    "n=4\n",
    "for i in range(n):\n",
    "    egg=choice(phrase,1)\n",
    "    print(\" \".join(egg))"
   ]
  },
  {
   "cell_type": "code",
   "execution_count": null,
   "metadata": {},
   "outputs": [],
   "source": []
  }
 ],
 "metadata": {
  "kernelspec": {
   "display_name": "Python 3",
   "language": "python",
   "name": "python3"
  },
  "language_info": {
   "codemirror_mode": {
    "name": "ipython",
    "version": 3
   },
   "file_extension": ".py",
   "mimetype": "text/x-python",
   "name": "python",
   "nbconvert_exporter": "python",
   "pygments_lexer": "ipython3",
   "version": "3.7.3"
  }
 },
 "nbformat": 4,
 "nbformat_minor": 2
}
