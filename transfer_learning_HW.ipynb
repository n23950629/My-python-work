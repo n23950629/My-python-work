{
  "nbformat": 4,
  "nbformat_minor": 0,
  "metadata": {
    "colab": {
      "name": "transfer learning HW.ipynb",
      "provenance": [],
      "collapsed_sections": [],
      "authorship_tag": "ABX9TyOmi9VOz4vOrv+L6Sly2jew",
      "include_colab_link": true
    },
    "kernelspec": {
      "name": "python3",
      "display_name": "Python 3"
    }
  },
  "cells": [
    {
      "cell_type": "markdown",
      "metadata": {
        "id": "view-in-github",
        "colab_type": "text"
      },
      "source": [
        "<a href=\"https://colab.research.google.com/github/n23950629/My-python-work/blob/master/transfer_learning_HW.ipynb\" target=\"_parent\"><img src=\"https://colab.research.google.com/assets/colab-badge.svg\" alt=\"Open In Colab\"/></a>"
      ]
    },
    {
      "cell_type": "markdown",
      "metadata": {
        "id": "wN0t1JDkW27l",
        "colab_type": "text"
      },
      "source": [
        "### 初始動作，載入套件"
      ]
    },
    {
      "cell_type": "code",
      "metadata": {
        "id": "Ujqivo2f8hYk",
        "colab_type": "code",
        "colab": {}
      },
      "source": [
        "%tensorflow_version 2.x\n",
        "\n",
        "import matplotlib.pyplot as plt\n",
        "import numpy as np\n",
        "\n",
        "from tensorflow.keras.models import Sequential\n",
        "from tensorflow.keras.layers import Dense\n",
        "from tensorflow.keras.layers import Flatten\n",
        "from tensorflow.keras.layers import Conv2D, MaxPool2D, GlobalAveragePooling2D\n",
        "from tensorflow.keras.optimizers import Adam\n",
        "from tensorflow.keras import datasets\n",
        "from tensorflow.keras.utils import to_categorical"
      ],
      "execution_count": 0,
      "outputs": []
    },
    {
      "cell_type": "markdown",
      "metadata": {
        "id": "DNt47663W_os",
        "colab_type": "text"
      },
      "source": [
        "### 載入資料集(cifar10)"
      ]
    },
    {
      "cell_type": "code",
      "metadata": {
        "id": "qGGfdmFU8sgs",
        "colab_type": "code",
        "colab": {}
      },
      "source": [
        "(x_train, y_train0), (x_test, y_test0) = datasets.cifar10.load_data()"
      ],
      "execution_count": 0,
      "outputs": []
    },
    {
      "cell_type": "code",
      "metadata": {
        "id": "Jj3rGbxv9Fo-",
        "colab_type": "code",
        "colab": {}
      },
      "source": [
        "name_list = ['airplane', 'automobile', 'bird', 'cat', 'deer', 'dog', 'frog', 'horse', 'ship', 'truck']"
      ],
      "execution_count": 0,
      "outputs": []
    },
    {
      "cell_type": "markdown",
      "metadata": {
        "id": "Un7yI-MjXGsS",
        "colab_type": "text"
      },
      "source": [
        "### 處理"
      ]
    },
    {
      "cell_type": "code",
      "metadata": {
        "id": "tK0CJKC_9W7_",
        "colab_type": "code",
        "colab": {
          "base_uri": "https://localhost:8080/",
          "height": 264
        },
        "outputId": "026f7114-8732-4f01-e37d-fcf2a9e4ce64"
      },
      "source": [
        "idx = np.random.randint(x_train.shape[0])\n",
        "x_sample = x_train[idx]\n",
        "y_sample = y_train0[idx].squeeze()\n",
        "\n",
        "plt.imshow(x_sample)\n",
        "plt.title(name_list[y_sample])\n",
        "plt.axis('off');"
      ],
      "execution_count": 11,
      "outputs": [
        {
          "output_type": "display_data",
          "data": {
            "image/png": "[encoded data removed]",
            "text/plain": [
              "<Figure size 432x288 with 1 Axes>"
            ]
          },
          "metadata": {
            "tags": [],
            "needs_background": "light"
          }
        }
      ]
    },
    {
      "cell_type": "code",
      "metadata": {
        "id": "sNx6G1DD90EM",
        "colab_type": "code",
        "colab": {
          "base_uri": "https://localhost:8080/",
          "height": 84
        },
        "outputId": "7e0142fa-0971-4759-9adf-db421035b232"
      },
      "source": [
        "print(\"x_train:\", x_train.shape)\n",
        "print(\"x_test:\", x_test.shape)\n",
        "print(\"y_train:\", y_train0.shape)\n",
        "print(\"y_test:\", y_test0.shape)"
      ],
      "execution_count": 12,
      "outputs": [
        {
          "output_type": "stream",
          "text": [
            "x_train: (50000, 32, 32, 3)\n",
            "x_test: (10000, 32, 32, 3)\n",
            "y_train: (50000, 1)\n",
            "y_test: (10000, 1)\n"
          ],
          "name": "stdout"
        }
      ]
    },
    {
      "cell_type": "code",
      "metadata": {
        "id": "Uzw1wOtC9_3f",
        "colab_type": "code",
        "colab": {}
      },
      "source": [
        "x_train = x_train / x_train.max()\n",
        "x_test = x_test / x_test.max()\n",
        "\n",
        "y_train = to_categorical(y_train0, 10)\n",
        "y_test = to_categorical(y_test0, 10)"
      ],
      "execution_count": 0,
      "outputs": []
    },
    {
      "cell_type": "markdown",
      "metadata": {
        "id": "dheEsJaHXJfB",
        "colab_type": "text"
      },
      "source": [
        "### 建(cifar10)神經網路"
      ]
    },
    {
      "cell_type": "code",
      "metadata": {
        "id": "dCAcQF_k9f4L",
        "colab_type": "code",
        "colab": {}
      },
      "source": [
        "CF_CNN_layers_10 = [Conv2D(32, (3, 3), input_shape=(32, 32, 3), padding='same', activation='relu'),\n",
        "           MaxPool2D(),\n",
        "           Conv2D(128, (3, 3), padding='same', activation='relu'),\n",
        "           MaxPool2D(),\n",
        "           Conv2D(512, (3, 3), padding='same', activation='relu'),\n",
        "           GlobalAveragePooling2D()]"
      ],
      "execution_count": 0,
      "outputs": []
    },
    {
      "cell_type": "code",
      "metadata": {
        "id": "1suJsrLr9sVq",
        "colab_type": "code",
        "colab": {}
      },
      "source": [
        "FC_layers = [Dense(units=256, activation='relu'),\n",
        "       Dense(units=10, activation='softmax')]"
      ],
      "execution_count": 0,
      "outputs": []
    },
    {
      "cell_type": "markdown",
      "metadata": {
        "id": "KnBf27poXUhn",
        "colab_type": "text"
      },
      "source": [
        "### 看模型長相"
      ]
    },
    {
      "cell_type": "code",
      "metadata": {
        "id": "phF91Yov-P3a",
        "colab_type": "code",
        "colab": {
          "base_uri": "https://localhost:8080/",
          "height": 420
        },
        "outputId": "9e1be5b0-444e-42c6-fe3d-231bac9812d2"
      },
      "source": [
        "model = Sequential(CF_10_CNN_layers+FC_layers)\n",
        "model.summary()"
      ],
      "execution_count": 24,
      "outputs": [
        {
          "output_type": "stream",
          "text": [
            "Model: \"sequential_1\"\n",
            "_________________________________________________________________\n",
            "Layer (type)                 Output Shape              Param #   \n",
            "=================================================================\n",
            "conv2d_3 (Conv2D)            (None, 32, 32, 32)        896       \n",
            "_________________________________________________________________\n",
            "max_pooling2d_2 (MaxPooling2 (None, 16, 16, 32)        0         \n",
            "_________________________________________________________________\n",
            "conv2d_4 (Conv2D)            (None, 16, 16, 128)       36992     \n",
            "_________________________________________________________________\n",
            "max_pooling2d_3 (MaxPooling2 (None, 8, 8, 128)         0         \n",
            "_________________________________________________________________\n",
            "conv2d_5 (Conv2D)            (None, 8, 8, 512)         590336    \n",
            "_________________________________________________________________\n",
            "global_average_pooling2d_1 ( (None, 512)               0         \n",
            "_________________________________________________________________\n",
            "dense_2 (Dense)              (None, 256)               131328    \n",
            "_________________________________________________________________\n",
            "dense_3 (Dense)              (None, 10)                2570      \n",
            "=================================================================\n",
            "Total params: 762,122\n",
            "Trainable params: 762,122\n",
            "Non-trainable params: 0\n",
            "_________________________________________________________________\n"
          ],
          "name": "stdout"
        }
      ]
    },
    {
      "cell_type": "markdown",
      "metadata": {
        "id": "uMIObV64XbmG",
        "colab_type": "text"
      },
      "source": [
        "### 設定評量好壞的指標"
      ]
    },
    {
      "cell_type": "code",
      "metadata": {
        "id": "NRXA_NH2-Shr",
        "colab_type": "code",
        "colab": {}
      },
      "source": [
        "model.compile(\n",
        "    loss='categorical_crossentropy',\n",
        "    optimizer=Adam(),\n",
        "    metrics=['categorical_accuracy'])"
      ],
      "execution_count": 0,
      "outputs": []
    },
    {
      "cell_type": "markdown",
      "metadata": {
        "id": "MdwBx3r3Xgqx",
        "colab_type": "text"
      },
      "source": [
        "### 訓練步驟"
      ]
    },
    {
      "cell_type": "code",
      "metadata": {
        "id": "9EEWDxLN-fZK",
        "colab_type": "code",
        "colab": {
          "base_uri": "https://localhost:8080/",
          "height": 202
        },
        "outputId": "5627791c-3ffa-45af-e9e0-780cca83763d"
      },
      "source": [
        "model.fit(x_train, y_train, batch_size=128, epochs=5,validation_data=(x_test, y_test))"
      ],
      "execution_count": 26,
      "outputs": [
        {
          "output_type": "stream",
          "text": [
            "Epoch 1/5\n",
            "391/391 [==============================] - 550s 1s/step - loss: 1.7635 - categorical_accuracy: 0.3304 - val_loss: 1.5918 - val_categorical_accuracy: 0.4120\n",
            "Epoch 2/5\n",
            "391/391 [==============================] - 551s 1s/step - loss: 1.4203 - categorical_accuracy: 0.4775 - val_loss: 1.3650 - val_categorical_accuracy: 0.5019\n",
            "Epoch 3/5\n",
            "391/391 [==============================] - 500s 1s/step - loss: 1.2508 - categorical_accuracy: 0.5442 - val_loss: 1.1750 - val_categorical_accuracy: 0.5699\n",
            "Epoch 4/5\n",
            "391/391 [==============================] - 444s 1s/step - loss: 1.1579 - categorical_accuracy: 0.5844 - val_loss: 1.1056 - val_categorical_accuracy: 0.6015\n",
            "Epoch 5/5\n",
            "391/391 [==============================] - 446s 1s/step - loss: 1.0573 - categorical_accuracy: 0.6226 - val_loss: 1.0367 - val_categorical_accuracy: 0.6313\n"
          ],
          "name": "stdout"
        },
        {
          "output_type": "execute_result",
          "data": {
            "text/plain": [
              "<tensorflow.python.keras.callbacks.History at 0x7f94abbc97b8>"
            ]
          },
          "metadata": {
            "tags": []
          },
          "execution_count": 26
        }
      ]
    },
    {
      "cell_type": "markdown",
      "metadata": {
        "id": "OjJwxDFAJdRN",
        "colab_type": "text"
      },
      "source": [
        "### 儲存模型"
      ]
    },
    {
      "cell_type": "code",
      "metadata": {
        "id": "IWgOnkf_JmZb",
        "colab_type": "code",
        "colab": {}
      },
      "source": [
        "from google.colab import drive"
      ],
      "execution_count": 0,
      "outputs": []
    },
    {
      "cell_type": "code",
      "metadata": {
        "id": "ciN_mfW8KuGY",
        "colab_type": "code",
        "colab": {
          "base_uri": "https://localhost:8080/",
          "height": 34
        },
        "outputId": "5a5ea95b-0902-4c9a-ca06-e67535467b1e"
      },
      "source": [
        "%ls /content/drive"
      ],
      "execution_count": 33,
      "outputs": [
        {
          "output_type": "stream",
          "text": [
            "\u001b[0m\u001b[01;34m'My Drive'\u001b[0m/\n"
          ],
          "name": "stdout"
        }
      ]
    },
    {
      "cell_type": "code",
      "metadata": {
        "id": "f-WdS9JOJn9I",
        "colab_type": "code",
        "colab": {
          "base_uri": "https://localhost:8080/",
          "height": 34
        },
        "outputId": "8164aa77-e262-4141-e052-040ed4504bd8"
      },
      "source": [
        "drive.mount('/content/drive')"
      ],
      "execution_count": 34,
      "outputs": [
        {
          "output_type": "stream",
          "text": [
            "Drive already mounted at /content/drive; to attempt to forcibly remount, call drive.mount(\"/content/drive\", force_remount=True).\n"
          ],
          "name": "stdout"
        }
      ]
    },
    {
      "cell_type": "code",
      "metadata": {
        "id": "RvUpQGh7K20g",
        "colab_type": "code",
        "colab": {
          "base_uri": "https://localhost:8080/",
          "height": 34
        },
        "outputId": "4c87569b-f752-4436-8102-21a5cfd7486b"
      },
      "source": [
        "%cd /content/drive/My\\ Drive"
      ],
      "execution_count": 35,
      "outputs": [
        {
          "output_type": "stream",
          "text": [
            "/content/drive/My Drive\n"
          ],
          "name": "stdout"
        }
      ]
    },
    {
      "cell_type": "code",
      "metadata": {
        "id": "8XcDVV6kK4RQ",
        "colab_type": "code",
        "colab": {
          "base_uri": "https://localhost:8080/",
          "height": 34
        },
        "outputId": "278f6bb2-6f16-4e3a-c1df-fa1d59854753"
      },
      "source": [
        "%cd my_ai_data"
      ],
      "execution_count": 36,
      "outputs": [
        {
          "output_type": "stream",
          "text": [
            "/content/drive/My Drive/my_ai_data\n"
          ],
          "name": "stdout"
        }
      ]
    },
    {
      "cell_type": "code",
      "metadata": {
        "id": "NlweDfntK7MD",
        "colab_type": "code",
        "colab": {
          "base_uri": "https://localhost:8080/",
          "height": 84
        },
        "outputId": "c76af8dd-85b4-42e0-f472-49ad32a2aa04"
      },
      "source": [
        "%ls"
      ],
      "execution_count": 37,
      "outputs": [
        {
          "output_type": "stream",
          "text": [
            " checkpoint                                 model.ckpt-1.index\n",
            "'checkpoint 的副本'                        'model.ckpt-1.index 的副本'\n",
            " model.ckpt-1.data-00000-of-00001           myCNNmodel.h5\n",
            "'model.ckpt-1.data-00000-of-00001 的副本'  'myCNNmodel.h5 的副本'\n"
          ],
          "name": "stdout"
        }
      ]
    },
    {
      "cell_type": "code",
      "metadata": {
        "id": "Sgpol93D-lWX",
        "colab_type": "code",
        "colab": {}
      },
      "source": [
        "model.save_weights('transfer_HW_cifar10_weight.h5')  # 存在nccu帳號裡"
      ],
      "execution_count": 0,
      "outputs": []
    },
    {
      "cell_type": "code",
      "metadata": {
        "id": "Zt6FgPDrJLrJ",
        "colab_type": "code",
        "colab": {
          "base_uri": "https://localhost:8080/",
          "height": 84
        },
        "outputId": "2f0b138f-dcff-4789-cd75-b667a8fc4d70"
      },
      "source": [
        "score_train = model.evaluate(x_train, y_train)\n",
        "score_test = model.evaluate(x_test, y_test)\n",
        "\n",
        "print(f'Train Accuracy: {score_train[1]*100}')\n",
        "print(f'Test Accuracy: {score_test[1]*100}')"
      ],
      "execution_count": 40,
      "outputs": [
        {
          "output_type": "stream",
          "text": [
            "1563/1563 [==============================] - 98s 62ms/step - loss: 1.0070 - categorical_accuracy: 0.6435\n",
            "313/313 [==============================] - 19s 62ms/step - loss: 1.0367 - categorical_accuracy: 0.6313\n",
            "Train Accuracy: 64.34999704360962\n",
            "Test Accuracy: 63.12999725341797\n"
          ],
          "name": "stdout"
        }
      ]
    },
    {
      "cell_type": "markdown",
      "metadata": {
        "id": "FC55NX1-McLO",
        "colab_type": "text"
      },
      "source": [
        "# Transfer learning"
      ]
    },
    {
      "cell_type": "markdown",
      "metadata": {
        "id": "1mp5jrJrXmNV",
        "colab_type": "text"
      },
      "source": [
        "### 讀入資料集(mnist)"
      ]
    },
    {
      "cell_type": "code",
      "metadata": {
        "id": "ERnzeQK4LiRP",
        "colab_type": "code",
        "colab": {}
      },
      "source": [
        "(a_train, b_train0), (a_test, b_test0) = datasets.mnist.load_data()"
      ],
      "execution_count": 0,
      "outputs": []
    },
    {
      "cell_type": "markdown",
      "metadata": {
        "id": "fHsHBKvnXyOq",
        "colab_type": "text"
      },
      "source": [
        "### 處理"
      ]
    },
    {
      "cell_type": "code",
      "metadata": {
        "id": "G_SzrbUvQ-iJ",
        "colab_type": "code",
        "colab": {
          "base_uri": "https://localhost:8080/",
          "height": 264
        },
        "outputId": "bc8347f3-fa41-4ee7-dc1f-a9d2c5dd60a4"
      },
      "source": [
        "idx = np.random.randint(a_train.shape[0])\n",
        "a_sample = a_train[idx]\n",
        "b_sample = b_train0[idx]\n",
        "plt.imshow(a_sample)\n",
        "plt.title(b_sample)\n",
        "plt.axis('off');"
      ],
      "execution_count": 76,
      "outputs": [
        {
          "output_type": "display_data",
          "data": {
            "image/png": "[encoded data removed]",
            "text/plain": [
              "<Figure size 432x288 with 1 Axes>"
            ]
          },
          "metadata": {
            "tags": [],
            "needs_background": "light"
          }
        }
      ]
    },
    {
      "cell_type": "code",
      "metadata": {
        "id": "zcv-ym-fROoy",
        "colab_type": "code",
        "colab": {
          "base_uri": "https://localhost:8080/",
          "height": 84
        },
        "outputId": "4c33c83c-b306-4129-8d5c-f31053fa54d9"
      },
      "source": [
        "print(\"a_train:\", a_train.shape)\n",
        "print(\"a_test:\", a_test.shape)\n",
        "print(\"b_train:\", b_train0.shape)\n",
        "print(\"b_test:\", b_test0.shape)"
      ],
      "execution_count": 77,
      "outputs": [
        {
          "output_type": "stream",
          "text": [
            "a_train: (60000, 28, 28)\n",
            "a_test: (10000, 28, 28)\n",
            "b_train: (60000,)\n",
            "b_test: (10000,)\n"
          ],
          "name": "stdout"
        }
      ]
    },
    {
      "cell_type": "code",
      "metadata": {
        "id": "WxQ0QaynRSO5",
        "colab_type": "code",
        "colab": {}
      },
      "source": [
        "a_train = a_train.reshape(60000, 28, 28, 1)\n",
        "a_test = a_test.reshape(10000, 28, 28, 1)"
      ],
      "execution_count": 0,
      "outputs": []
    },
    {
      "cell_type": "code",
      "metadata": {
        "id": "5_qKsOiDReJf",
        "colab_type": "code",
        "colab": {}
      },
      "source": [
        "a_train = a_train / a_train.max()\n",
        "a_test = a_test / a_test.max()\n",
        "\n",
        "b_train = to_categorical(b_train0, 10)\n",
        "b_test = to_categorical(b_test0, 10)"
      ],
      "execution_count": 0,
      "outputs": []
    },
    {
      "cell_type": "markdown",
      "metadata": {
        "id": "05Hhrq0fX1Hc",
        "colab_type": "text"
      },
      "source": [
        "### 建(mnist)神經網路"
      ]
    },
    {
      "cell_type": "code",
      "metadata": {
        "id": "NiB51clFRr2M",
        "colab_type": "code",
        "colab": {}
      },
      "source": [
        "CNN_layers = [Conv2D(28, (3, 3), input_shape=(28, 28, 1), padding='same', activation='relu'),\n",
        "        MaxPool2D(),\n",
        "        Conv2D(64, (3, 3), padding='same', activation='relu'),\n",
        "        MaxPool2D(),\n",
        "        Conv2D(128, (3, 3), padding='same', activation='relu'),\n",
        "        GlobalAveragePooling2D()]"
      ],
      "execution_count": 0,
      "outputs": []
    },
    {
      "cell_type": "code",
      "metadata": {
        "id": "IBMprKhXSPfK",
        "colab_type": "code",
        "colab": {}
      },
      "source": [
        "FC_layers = [Dense(units=256, activation='relu'),\n",
        "       Dense(units=10, activation='softmax')]"
      ],
      "execution_count": 0,
      "outputs": []
    },
    {
      "cell_type": "markdown",
      "metadata": {
        "id": "_i2j_jVMX7XY",
        "colab_type": "text"
      },
      "source": [
        "### 看看模型長相"
      ]
    },
    {
      "cell_type": "code",
      "metadata": {
        "id": "phIEJktHR4yK",
        "colab_type": "code",
        "colab": {
          "base_uri": "https://localhost:8080/",
          "height": 420
        },
        "outputId": "72e550f6-6718-4177-81f3-63d55dd91e95"
      },
      "source": [
        "model_10 = Sequential(CNN_layers+FC_layers)\n",
        "model_10.summary()"
      ],
      "execution_count": 82,
      "outputs": [
        {
          "output_type": "stream",
          "text": [
            "Model: \"sequential_6\"\n",
            "_________________________________________________________________\n",
            "Layer (type)                 Output Shape              Param #   \n",
            "=================================================================\n",
            "conv2d_15 (Conv2D)           (None, 28, 28, 28)        280       \n",
            "_________________________________________________________________\n",
            "max_pooling2d_10 (MaxPooling (None, 14, 14, 28)        0         \n",
            "_________________________________________________________________\n",
            "conv2d_16 (Conv2D)           (None, 14, 14, 64)        16192     \n",
            "_________________________________________________________________\n",
            "max_pooling2d_11 (MaxPooling (None, 7, 7, 64)          0         \n",
            "_________________________________________________________________\n",
            "conv2d_17 (Conv2D)           (None, 7, 7, 128)         73856     \n",
            "_________________________________________________________________\n",
            "global_average_pooling2d_5 ( (None, 128)               0         \n",
            "_________________________________________________________________\n",
            "dense_10 (Dense)             (None, 256)               33024     \n",
            "_________________________________________________________________\n",
            "dense_11 (Dense)             (None, 10)                2570      \n",
            "=================================================================\n",
            "Total params: 125,922\n",
            "Trainable params: 125,922\n",
            "Non-trainable params: 0\n",
            "_________________________________________________________________\n"
          ],
          "name": "stdout"
        }
      ]
    },
    {
      "cell_type": "code",
      "metadata": {
        "id": "E1Up8iTYSKXO",
        "colab_type": "code",
        "colab": {}
      },
      "source": [
        "for layer in FC_layers:\n",
        "    layer.train = False"
      ],
      "execution_count": 0,
      "outputs": []
    },
    {
      "cell_type": "markdown",
      "metadata": {
        "id": "U5b3oZTTYBId",
        "colab_type": "text"
      },
      "source": [
        "### 設定評量好壞的指標"
      ]
    },
    {
      "cell_type": "code",
      "metadata": {
        "id": "02DeDjpqSWky",
        "colab_type": "code",
        "colab": {}
      },
      "source": [
        "model_10.compile(\n",
        "    loss='categorical_crossentropy', \n",
        "    optimizer=Adam(), \n",
        "    metrics=['categorical_accuracy'])"
      ],
      "execution_count": 0,
      "outputs": []
    },
    {
      "cell_type": "markdown",
      "metadata": {
        "id": "w5SRXFL8YFyX",
        "colab_type": "text"
      },
      "source": [
        "### 訓練"
      ]
    },
    {
      "cell_type": "code",
      "metadata": {
        "id": "ic0iZr_eSdm5",
        "colab_type": "code",
        "colab": {
          "base_uri": "https://localhost:8080/",
          "height": 202
        },
        "outputId": "89b76448-6c42-45e1-a07f-4b682eeab325"
      },
      "source": [
        "model_10.fit(a_train, b_train, batch_size=128, epochs=5, validation_data=(a_test, b_test))"
      ],
      "execution_count": 85,
      "outputs": [
        {
          "output_type": "stream",
          "text": [
            "Epoch 1/5\n",
            "469/469 [==============================] - 85s 182ms/step - loss: 0.7347 - categorical_accuracy: 0.7563 - val_loss: 0.2816 - val_categorical_accuracy: 0.9184\n",
            "Epoch 2/5\n",
            "469/469 [==============================] - 85s 182ms/step - loss: 0.2360 - categorical_accuracy: 0.9269 - val_loss: 0.2765 - val_categorical_accuracy: 0.9108\n",
            "Epoch 3/5\n",
            "469/469 [==============================] - 88s 187ms/step - loss: 0.1694 - categorical_accuracy: 0.9477 - val_loss: 0.1432 - val_categorical_accuracy: 0.9577\n",
            "Epoch 4/5\n",
            "469/469 [==============================] - 85s 181ms/step - loss: 0.1295 - categorical_accuracy: 0.9599 - val_loss: 0.1189 - val_categorical_accuracy: 0.9648\n",
            "Epoch 5/5\n",
            "469/469 [==============================] - 85s 181ms/step - loss: 0.1081 - categorical_accuracy: 0.9662 - val_loss: 0.0985 - val_categorical_accuracy: 0.9657\n"
          ],
          "name": "stdout"
        },
        {
          "output_type": "execute_result",
          "data": {
            "text/plain": [
              "<tensorflow.python.keras.callbacks.History at 0x7f94a88ee2e8>"
            ]
          },
          "metadata": {
            "tags": []
          },
          "execution_count": 85
        }
      ]
    },
    {
      "cell_type": "markdown",
      "metadata": {
        "id": "uDmxlByZYH4U",
        "colab_type": "text"
      },
      "source": [
        "### 儲存模型"
      ]
    },
    {
      "cell_type": "code",
      "metadata": {
        "id": "Ju8Xdd0FSrag",
        "colab_type": "code",
        "colab": {
          "base_uri": "https://localhost:8080/",
          "height": 34
        },
        "outputId": "e01da390-6309-40ec-cfb1-f1d712afd284"
      },
      "source": [
        "%ls /content/drive"
      ],
      "execution_count": 87,
      "outputs": [
        {
          "output_type": "stream",
          "text": [
            "\u001b[0m\u001b[01;34m'My Drive'\u001b[0m/\n"
          ],
          "name": "stdout"
        }
      ]
    },
    {
      "cell_type": "code",
      "metadata": {
        "id": "e9S_jDdGVw13",
        "colab_type": "code",
        "colab": {
          "base_uri": "https://localhost:8080/",
          "height": 34
        },
        "outputId": "607b112b-0f93-4cc9-80ac-40e71e6476b0"
      },
      "source": [
        "drive.mount('/content/drive')"
      ],
      "execution_count": 88,
      "outputs": [
        {
          "output_type": "stream",
          "text": [
            "Drive already mounted at /content/drive; to attempt to forcibly remount, call drive.mount(\"/content/drive\", force_remount=True).\n"
          ],
          "name": "stdout"
        }
      ]
    },
    {
      "cell_type": "code",
      "metadata": {
        "id": "1P6YvdnIV6TX",
        "colab_type": "code",
        "colab": {
          "base_uri": "https://localhost:8080/",
          "height": 34
        },
        "outputId": "f3eae55e-0d88-41ea-e3fe-83d1bc01381e"
      },
      "source": [
        "%cd /content/drive/My\\ Drive"
      ],
      "execution_count": 89,
      "outputs": [
        {
          "output_type": "stream",
          "text": [
            "/content/drive/My Drive\n"
          ],
          "name": "stdout"
        }
      ]
    },
    {
      "cell_type": "code",
      "metadata": {
        "id": "6KdZiAKnV87F",
        "colab_type": "code",
        "colab": {
          "base_uri": "https://localhost:8080/",
          "height": 34
        },
        "outputId": "9d5270a3-de24-4bfe-faf9-50f9ab8ff840"
      },
      "source": [
        "%cd my_ai_data"
      ],
      "execution_count": 90,
      "outputs": [
        {
          "output_type": "stream",
          "text": [
            "/content/drive/My Drive/my_ai_data\n"
          ],
          "name": "stdout"
        }
      ]
    },
    {
      "cell_type": "code",
      "metadata": {
        "id": "KXUv_6YqV_u0",
        "colab_type": "code",
        "colab": {
          "base_uri": "https://localhost:8080/",
          "height": 101
        },
        "outputId": "9207e1a6-5e59-45dc-889b-7b8b875f60bb"
      },
      "source": [
        "%ls"
      ],
      "execution_count": 91,
      "outputs": [
        {
          "output_type": "stream",
          "text": [
            " checkpoint                                'model.ckpt-1.index 的副本'\n",
            "'checkpoint 的副本'                         myCNNmodel.h5\n",
            " model.ckpt-1.data-00000-of-00001          'myCNNmodel.h5 的副本'\n",
            "'model.ckpt-1.data-00000-of-00001 的副本'   transfer_HW_cifar10_weight.h5\n",
            " model.ckpt-1.index\n"
          ],
          "name": "stdout"
        }
      ]
    },
    {
      "cell_type": "code",
      "metadata": {
        "id": "KUX-DNTBWDbp",
        "colab_type": "code",
        "colab": {}
      },
      "source": [
        "model.save_weights('transfer_HW_mnist_weight.h5')  # 存在nccu帳號裡"
      ],
      "execution_count": 0,
      "outputs": []
    },
    {
      "cell_type": "markdown",
      "metadata": {
        "id": "tY6PqKO9YLtE",
        "colab_type": "text"
      },
      "source": [
        "### 看看結果"
      ]
    },
    {
      "cell_type": "code",
      "metadata": {
        "id": "OJsKQQ3FWMHy",
        "colab_type": "code",
        "colab": {
          "base_uri": "https://localhost:8080/",
          "height": 84
        },
        "outputId": "1d357c37-dfb1-4adf-f614-4c8664cac51f"
      },
      "source": [
        "score_train_2 = model_10.evaluate(a_train, b_train)\n",
        "score_test_2 = model_10.evaluate(a_test, b_test)\n",
        "\n",
        "print(f'Train Accuracy: {score_train_2[1]*100}')\n",
        "print(f'Test Accuracy: {score_test_2[1]*100}')"
      ],
      "execution_count": 95,
      "outputs": [
        {
          "output_type": "stream",
          "text": [
            "1875/1875 [==============================] - 33s 17ms/step - loss: 0.1059 - categorical_accuracy: 0.9664\n",
            "313/313 [==============================] - 5s 16ms/step - loss: 0.0985 - categorical_accuracy: 0.9657\n",
            "Train Accuracy: 96.64499759674072\n",
            "Test Accuracy: 96.56999707221985\n"
          ],
          "name": "stdout"
        }
      ]
    },
    {
      "cell_type": "code",
      "metadata": {
        "id": "J8QgYrgTWPfk",
        "colab_type": "code",
        "colab": {}
      },
      "source": [
        ""
      ],
      "execution_count": 0,
      "outputs": []
    }
  ]
}