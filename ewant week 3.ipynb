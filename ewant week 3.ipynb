{
 "cells": [
  {
   "cell_type": "code",
   "execution_count": 1,
   "metadata": {},
   "outputs": [],
   "source": [
    "%matplotlib inline\n",
    "import numpy as np\n",
    "import matplotlib.pyplot as plt\n",
    "import pandas as pd"
   ]
  },
  {
   "cell_type": "code",
   "execution_count": 3,
   "metadata": {},
   "outputs": [],
   "source": [
    "C_A=np.random.randint(100,size=(10,5))\n",
    "C_B=np.random.randint(100,size=(10,5))\n",
    "C_C=np.random.randint(100,size=(10,5))"
   ]
  },
  {
   "cell_type": "code",
   "execution_count": 4,
   "metadata": {},
   "outputs": [],
   "source": [
    "weight=[0.25,0.25,0.25,.15,0.10]\n",
    "new=np.array(weight)\n",
    "W=np.array(weight)"
   ]
  },
  {
   "cell_type": "code",
   "execution_count": 6,
   "metadata": {},
   "outputs": [],
   "source": [
    "A=np.dot(C_A,W)\n",
    "B=np.dot(C_B,W)\n",
    "C=np.dot(C_C,W)"
   ]
  },
  {
   "cell_type": "code",
   "execution_count": 7,
   "metadata": {},
   "outputs": [
    {
     "name": "stdout",
     "output_type": "stream",
     "text": [
      "A班加權平均： [45.45 33.6  55.35 44.05 31.35 45.75 44.8  59.9  57.1  61.05]\n",
      "B班加權平均 [36.9  59.9  32.6  49.4  62.45 69.8  49.4  48.8  59.3  51.2 ]\n",
      "C班加權平均 [22.95 71.85 36.75 67.9  51.15 39.65 25.1  50.75 22.85 62.35]\n"
     ]
    }
   ],
   "source": [
    "print(\"A班加權平均：\",A)\n",
    "print(\"B班加權平均\",B)\n",
    "print(\"C班加權平均\",C)"
   ]
  }
 ],
 "metadata": {
  "kernelspec": {
   "display_name": "Python 3",
   "language": "python",
   "name": "python3"
  },
  "language_info": {
   "codemirror_mode": {
    "name": "ipython",
    "version": 3
   },
   "file_extension": ".py",
   "mimetype": "text/x-python",
   "name": "python",
   "nbconvert_exporter": "python",
   "pygments_lexer": "ipython3",
   "version": "3.7.3"
  }
 },
 "nbformat": 4,
 "nbformat_minor": 2
}
