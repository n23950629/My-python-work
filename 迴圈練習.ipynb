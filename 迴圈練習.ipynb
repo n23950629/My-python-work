{
 "cells": [
  {
   "cell_type": "code",
   "execution_count": 11,
   "metadata": {},
   "outputs": [
    {
     "name": "stdout",
     "output_type": "stream",
     "text": [
      "0\n",
      "1\n",
      "2\n",
      "3\n",
      "4\n",
      "5\n",
      "6\n",
      "7\n",
      "8\n",
      "9\n",
      "----\n",
      "\n",
      "2\n",
      "4\n",
      "6\n",
      "8\n",
      "10\n",
      "----\n",
      "\n",
      "2\n",
      "4\n",
      "6\n",
      "8\n",
      "10\n",
      "----\n",
      "\n",
      "H\n",
      "e\n",
      "l\n",
      "l\n",
      "o\n",
      " \n",
      "I\n",
      " \n",
      "a\n",
      "m\n",
      " \n",
      "L\n",
      "i\n",
      "n\n",
      "d\n",
      "a\n",
      "----\n",
      "\n"
     ]
    }
   ],
   "source": [
    "array1 = [2, 4, 6, 8, 10]\n",
    "str1 = 'Hello I am Linda'\n",
    "\n",
    "for i in range(10):  # for i in 容器 產生含有10個元素的range 範圍1~9\n",
    "    print(i)         # 從第一個開始拿出來\n",
    "print('----\\n')\n",
    "\n",
    "for i in range(len(array1)): #for i in 容器 產生arr1的長度5的range 範圍1~4\n",
    "    print(array1[i])         #若直接print(i) 會產生1~4 所以要print(arr1[index])\n",
    "print('----\\n')\n",
    "\n",
    "for i in array1:\n",
    "    print(i)\n",
    "print('----\\n')\n",
    "\n",
    "for i in str1:\n",
    "    print(i)\n",
    "print('----\\n')"
   ]
  },
  {
   "cell_type": "code",
   "execution_count": null,
   "metadata": {},
   "outputs": [],
   "source": []
  }
 ],
 "metadata": {
  "kernelspec": {
   "display_name": "Python 3",
   "language": "python",
   "name": "python3"
  },
  "language_info": {
   "codemirror_mode": {
    "name": "ipython",
    "version": 3
   },
   "file_extension": ".py",
   "mimetype": "text/x-python",
   "name": "python",
   "nbconvert_exporter": "python",
   "pygments_lexer": "ipython3",
   "version": "3.7.3"
  }
 },
 "nbformat": 4,
 "nbformat_minor": 2
}
