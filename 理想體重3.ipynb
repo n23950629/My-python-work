{
 "cells": [
  {
   "cell_type": "markdown",
   "metadata": {},
   "source": [
    "# 理想體重計算機\n",
    "\n",
    "### 快檢查自己有沒有過輕過重！"
   ]
  },
  {
   "cell_type": "code",
   "execution_count": null,
   "metadata": {},
   "outputs": [
    {
     "name": "stdout",
     "output_type": "stream",
     "text": [
      "理想體重計算機\n",
      "請輸入您的身高(公尺): 1.58\n",
      "您的理想體重為54.92080000000001公斤\n",
      "正常體重範圍為49.92080000000001到59.92080000000001公斤\n"
     ]
    }
   ],
   "source": [
    "print(\"理想體重計算機\")\n",
    "f=0\n",
    "c=0\n",
    "d=0\n",
    "while(True):\n",
    "    height=input(\"請輸入您的身高(公尺): \")\n",
    "    a=float(height)\n",
    "    f=a*a*22\n",
    "    c=float(c)\n",
    "    c=f-int(f/10)\n",
    "    d=float(d)\n",
    "    d=f+int(f/10)\n",
    "    print(\"您的理想體重為\"+str(f)+\"公斤\")\n",
    "    print(\"正常體重範圍為\"+str(c)+\"到\"+str(d)+\"公斤\")"
   ]
  },
  {
   "cell_type": "code",
   "execution_count": null,
   "metadata": {},
   "outputs": [],
   "source": []
  }
 ],
 "metadata": {
  "kernelspec": {
   "display_name": "Python 3",
   "language": "python",
   "name": "python3"
  },
  "language_info": {
   "codemirror_mode": {
    "name": "ipython",
    "version": 3
   },
   "file_extension": ".py",
   "mimetype": "text/x-python",
   "name": "python",
   "nbconvert_exporter": "python",
   "pygments_lexer": "ipython3",
   "version": "3.7.3"
  }
 },
 "nbformat": 4,
 "nbformat_minor": 2
}
