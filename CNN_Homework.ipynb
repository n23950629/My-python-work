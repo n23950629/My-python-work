{
  "nbformat": 4,
  "nbformat_minor": 0,
  "metadata": {
    "colab": {
      "name": "CNN Homework.ipynb",
      "provenance": [],
      "authorship_tag": "ABX9TyNE8+74BpC4HZKLGOtSVcSF",
      "include_colab_link": true
    },
    "kernelspec": {
      "name": "python3",
      "display_name": "Python 3"
    },
    "widgets": {
      "application/vnd.jupyter.widget-state+json": {
        "74d84db127904819b6975c5e35f88a6f": {
          "model_module": "@jupyter-widgets/controls",
          "model_name": "VBoxModel",
          "state": {
            "_view_name": "VBoxView",
            "_dom_classes": [
              "widget-interact"
            ],
            "_model_name": "VBoxModel",
            "_view_module": "@jupyter-widgets/controls",
            "_model_module_version": "1.5.0",
            "_view_count": null,
            "_view_module_version": "1.5.0",
            "box_style": "",
            "layout": "IPY_MODEL_701a9f538e30422881ec60cc67a3a147",
            "_model_module": "@jupyter-widgets/controls",
            "children": [
              "IPY_MODEL_01926d7b0e444de58be79b9e1c732b25",
              "IPY_MODEL_cb7a6e6397a94c2d9d88b575e7567453",
              "IPY_MODEL_53f906e253444b9d9d33a2fe80c51377"
            ]
          }
        },
        "701a9f538e30422881ec60cc67a3a147": {
          "model_module": "@jupyter-widgets/base",
          "model_name": "LayoutModel",
          "state": {
            "_view_name": "LayoutView",
            "grid_template_rows": null,
            "right": null,
            "justify_content": null,
            "_view_module": "@jupyter-widgets/base",
            "overflow": null,
            "_model_module_version": "1.2.0",
            "_view_count": null,
            "flex_flow": null,
            "width": null,
            "min_width": null,
            "border": null,
            "align_items": null,
            "bottom": null,
            "_model_module": "@jupyter-widgets/base",
            "top": null,
            "grid_column": null,
            "overflow_y": null,
            "overflow_x": null,
            "grid_auto_flow": null,
            "grid_area": null,
            "grid_template_columns": null,
            "flex": null,
            "_model_name": "LayoutModel",
            "justify_items": null,
            "grid_row": null,
            "max_height": null,
            "align_content": null,
            "visibility": null,
            "align_self": null,
            "height": null,
            "min_height": null,
            "padding": null,
            "grid_auto_rows": null,
            "grid_gap": null,
            "max_width": null,
            "order": null,
            "_view_module_version": "1.2.0",
            "grid_template_areas": null,
            "object_position": null,
            "object_fit": null,
            "grid_auto_columns": null,
            "margin": null,
            "display": null,
            "left": null
          }
        },
        "01926d7b0e444de58be79b9e1c732b25": {
          "model_module": "@jupyter-widgets/controls",
          "model_name": "IntSliderModel",
          "state": {
            "_view_name": "IntSliderView",
            "style": "IPY_MODEL_b86a10eafac44237b8dd10faaf5dab9b",
            "_dom_classes": [],
            "description": "n",
            "step": 1,
            "_model_name": "IntSliderModel",
            "orientation": "horizontal",
            "max": 9999,
            "_view_module": "@jupyter-widgets/controls",
            "_model_module_version": "1.5.0",
            "value": 6972,
            "_view_count": null,
            "disabled": false,
            "_view_module_version": "1.5.0",
            "min": 0,
            "continuous_update": true,
            "readout_format": "d",
            "description_tooltip": null,
            "readout": true,
            "_model_module": "@jupyter-widgets/controls",
            "layout": "IPY_MODEL_a47e2a3ad975438a9bf0664dbf3f16df"
          }
        },
        "cb7a6e6397a94c2d9d88b575e7567453": {
          "model_module": "@jupyter-widgets/controls",
          "model_name": "ButtonModel",
          "state": {
            "_view_name": "ButtonView",
            "style": "IPY_MODEL_ae0ded9e11e8463e98242c58cf881f6c",
            "_dom_classes": [],
            "description": "Run Interact",
            "_model_name": "ButtonModel",
            "button_style": "",
            "_view_module": "@jupyter-widgets/controls",
            "_model_module_version": "1.5.0",
            "tooltip": "",
            "_view_count": null,
            "disabled": false,
            "_view_module_version": "1.5.0",
            "layout": "IPY_MODEL_7736a01a58114c25a96f87ca63396bc0",
            "_model_module": "@jupyter-widgets/controls",
            "icon": ""
          }
        },
        "53f906e253444b9d9d33a2fe80c51377": {
          "model_module": "@jupyter-widgets/output",
          "model_name": "OutputModel",
          "state": {
            "_view_name": "OutputView",
            "msg_id": "",
            "_dom_classes": [],
            "_model_name": "OutputModel",
            "outputs": [
              {
                "output_type": "stream",
                "metadata": {
                  "tags": []
                },
                "text": "我可愛的CNN預測是 T-shirt/top\n",
                "stream": "stdout"
              },
              {
                "output_type": "display_data",
                "metadata": {
                  "tags": []
                },
                "image/png": "iVBORw0KGgoAAAANSUhEUgAAAPsAAAD4CAYAAAAq5pAIAAAABHNCSVQICAgIfAhkiAAAAAlwSFlz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\n",
                "text/plain": "<Figure size 432x288 with 1 Axes>"
              }
            ],
            "_view_module": "@jupyter-widgets/output",
            "_model_module_version": "1.0.0",
            "_view_count": null,
            "_view_module_version": "1.0.0",
            "layout": "IPY_MODEL_b4c9d3452ec84f629ad7335d546e1efd",
            "_model_module": "@jupyter-widgets/output"
          }
        },
        "b86a10eafac44237b8dd10faaf5dab9b": {
          "model_module": "@jupyter-widgets/controls",
          "model_name": "SliderStyleModel",
          "state": {
            "_view_name": "StyleView",
            "handle_color": null,
            "_model_name": "SliderStyleModel",
            "description_width": "",
            "_view_module": "@jupyter-widgets/base",
            "_model_module_version": "1.5.0",
            "_view_count": null,
            "_view_module_version": "1.2.0",
            "_model_module": "@jupyter-widgets/controls"
          }
        },
        "a47e2a3ad975438a9bf0664dbf3f16df": {
          "model_module": "@jupyter-widgets/base",
          "model_name": "LayoutModel",
          "state": {
            "_view_name": "LayoutView",
            "grid_template_rows": null,
            "right": null,
            "justify_content": null,
            "_view_module": "@jupyter-widgets/base",
            "overflow": null,
            "_model_module_version": "1.2.0",
            "_view_count": null,
            "flex_flow": null,
            "width": null,
            "min_width": null,
            "border": null,
            "align_items": null,
            "bottom": null,
            "_model_module": "@jupyter-widgets/base",
            "top": null,
            "grid_column": null,
            "overflow_y": null,
            "overflow_x": null,
            "grid_auto_flow": null,
            "grid_area": null,
            "grid_template_columns": null,
            "flex": null,
            "_model_name": "LayoutModel",
            "justify_items": null,
            "grid_row": null,
            "max_height": null,
            "align_content": null,
            "visibility": null,
            "align_self": null,
            "height": null,
            "min_height": null,
            "padding": null,
            "grid_auto_rows": null,
            "grid_gap": null,
            "max_width": null,
            "order": null,
            "_view_module_version": "1.2.0",
            "grid_template_areas": null,
            "object_position": null,
            "object_fit": null,
            "grid_auto_columns": null,
            "margin": null,
            "display": null,
            "left": null
          }
        },
        "ae0ded9e11e8463e98242c58cf881f6c": {
          "model_module": "@jupyter-widgets/controls",
          "model_name": "ButtonStyleModel",
          "state": {
            "_view_name": "StyleView",
            "_model_name": "ButtonStyleModel",
            "_view_module": "@jupyter-widgets/base",
            "_model_module_version": "1.5.0",
            "_view_count": null,
            "button_color": null,
            "font_weight": "",
            "_view_module_version": "1.2.0",
            "_model_module": "@jupyter-widgets/controls"
          }
        },
        "7736a01a58114c25a96f87ca63396bc0": {
          "model_module": "@jupyter-widgets/base",
          "model_name": "LayoutModel",
          "state": {
            "_view_name": "LayoutView",
            "grid_template_rows": null,
            "right": null,
            "justify_content": null,
            "_view_module": "@jupyter-widgets/base",
            "overflow": null,
            "_model_module_version": "1.2.0",
            "_view_count": null,
            "flex_flow": null,
            "width": null,
            "min_width": null,
            "border": null,
            "align_items": null,
            "bottom": null,
            "_model_module": "@jupyter-widgets/base",
            "top": null,
            "grid_column": null,
            "overflow_y": null,
            "overflow_x": null,
            "grid_auto_flow": null,
            "grid_area": null,
            "grid_template_columns": null,
            "flex": null,
            "_model_name": "LayoutModel",
            "justify_items": null,
            "grid_row": null,
            "max_height": null,
            "align_content": null,
            "visibility": null,
            "align_self": null,
            "height": null,
            "min_height": null,
            "padding": null,
            "grid_auto_rows": null,
            "grid_gap": null,
            "max_width": null,
            "order": null,
            "_view_module_version": "1.2.0",
            "grid_template_areas": null,
            "object_position": null,
            "object_fit": null,
            "grid_auto_columns": null,
            "margin": null,
            "display": null,
            "left": null
          }
        },
        "b4c9d3452ec84f629ad7335d546e1efd": {
          "model_module": "@jupyter-widgets/base",
          "model_name": "LayoutModel",
          "state": {
            "_view_name": "LayoutView",
            "grid_template_rows": null,
            "right": null,
            "justify_content": null,
            "_view_module": "@jupyter-widgets/base",
            "overflow": null,
            "_model_module_version": "1.2.0",
            "_view_count": null,
            "flex_flow": null,
            "width": null,
            "min_width": null,
            "border": null,
            "align_items": null,
            "bottom": null,
            "_model_module": "@jupyter-widgets/base",
            "top": null,
            "grid_column": null,
            "overflow_y": null,
            "overflow_x": null,
            "grid_auto_flow": null,
            "grid_area": null,
            "grid_template_columns": null,
            "flex": null,
            "_model_name": "LayoutModel",
            "justify_items": null,
            "grid_row": null,
            "max_height": null,
            "align_content": null,
            "visibility": null,
            "align_self": null,
            "height": null,
            "min_height": null,
            "padding": null,
            "grid_auto_rows": null,
            "grid_gap": null,
            "max_width": null,
            "order": null,
            "_view_module_version": "1.2.0",
            "grid_template_areas": null,
            "object_position": null,
            "object_fit": null,
            "grid_auto_columns": null,
            "margin": null,
            "display": null,
            "left": null
          }
        }
      }
    }
  },
  "cells": [
    {
      "cell_type": "markdown",
      "metadata": {
        "id": "view-in-github",
        "colab_type": "text"
      },
      "source": [
        "<a href=\"https://colab.research.google.com/github/n23950629/My-python-work/blob/master/CNN_Homework.ipynb\" target=\"_parent\"><img src=\"https://colab.research.google.com/assets/colab-badge.svg\" alt=\"Open In Colab\"/></a>"
      ]
    },
    {
      "cell_type": "markdown",
      "metadata": {
        "id": "DNyaLNKf1vRG",
        "colab_type": "text"
      },
      "source": [
        "## 修改了什麼？\n",
        "##### 1. 三層CNN架構數量由 16,32,64 -> 32,64,128\n",
        "##### 2. 神經元數量由 54,10 -> 35,10\n",
        "##### 3. lr=0.087 -> 0.3\n",
        "##### 4. batch_size 調整為50, epochs 調整為25\n"
      ]
    },
    {
      "cell_type": "code",
      "metadata": {
        "id": "48MxnFNUWvT9",
        "colab_type": "code",
        "colab": {}
      },
      "source": [
        "%matplotlib inline\n",
        "\n",
        "import numpy as np\n",
        "import matplotlib.pyplot as plt\n",
        "import pandas as pd\n",
        "\n",
        "%tensorflow_version 2.x"
      ],
      "execution_count": 0,
      "outputs": []
    },
    {
      "cell_type": "markdown",
      "metadata": {
        "id": "ONyXXzlFWwQu",
        "colab_type": "text"
      },
      "source": [
        "### 讀入數據集"
      ]
    },
    {
      "cell_type": "code",
      "metadata": {
        "id": "Bn4sW4OYW7lC",
        "colab_type": "code",
        "outputId": "f33d0222-7548-466a-a768-0023d6be2431",
        "colab": {
          "base_uri": "https://localhost:8080/",
          "height": 151
        }
      },
      "source": [
        "from tensorflow.keras.datasets import fashion_mnist\n",
        "(x_train, y_train), (x_test, y_test) = fashion_mnist.load_data()"
      ],
      "execution_count": 0,
      "outputs": [
        {
          "output_type": "stream",
          "text": [
            "Downloading data from https://storage.googleapis.com/tensorflow/tf-keras-datasets/train-labels-idx1-ubyte.gz\n",
            "32768/29515 [=================================] - 0s 0us/step\n",
            "Downloading data from https://storage.googleapis.com/tensorflow/tf-keras-datasets/train-images-idx3-ubyte.gz\n",
            "26427392/26421880 [==============================] - 0s 0us/step\n",
            "Downloading data from https://storage.googleapis.com/tensorflow/tf-keras-datasets/t10k-labels-idx1-ubyte.gz\n",
            "8192/5148 [===============================================] - 0s 0us/step\n",
            "Downloading data from https://storage.googleapis.com/tensorflow/tf-keras-datasets/t10k-images-idx3-ubyte.gz\n",
            "4423680/4422102 [==============================] - 0s 0us/step\n"
          ],
          "name": "stdout"
        }
      ]
    },
    {
      "cell_type": "code",
      "metadata": {
        "id": "xGIuKLC2XMD0",
        "colab_type": "code",
        "colab": {}
      },
      "source": [
        "class_names = ['T-shirt/top', 'Trouser', 'Pullover', 'Dress', 'Coat',\n",
        "               'Sandal', 'Shirt', 'Sneaker', 'Bag', 'Ankle boot']"
      ],
      "execution_count": 0,
      "outputs": []
    },
    {
      "cell_type": "markdown",
      "metadata": {
        "id": "x8fS0u8ZXmQs",
        "colab_type": "text"
      },
      "source": [
        "### 讀入必要的函式"
      ]
    },
    {
      "cell_type": "code",
      "metadata": {
        "id": "SqdQKqYHXwrp",
        "colab_type": "code",
        "colab": {}
      },
      "source": [
        "from tensorflow.keras.models import Sequential\n",
        "from tensorflow.keras.layers import Conv2D, MaxPooling2D\n",
        "from tensorflow.keras.layers import Dense, Flatten\n",
        "from tensorflow.keras.optimizers import  SGD"
      ],
      "execution_count": 0,
      "outputs": []
    },
    {
      "cell_type": "code",
      "metadata": {
        "id": "fOInatSFXxK-",
        "colab_type": "code",
        "colab": {}
      },
      "source": [
        "x_train = x_train.reshape(60000,28,28,1) / 255\n",
        "x_test = x_test.reshape(10000,28,28,1) / 255"
      ],
      "execution_count": 0,
      "outputs": []
    },
    {
      "cell_type": "code",
      "metadata": {
        "id": "L-2Ke6LlYDWB",
        "colab_type": "code",
        "colab": {}
      },
      "source": [
        "from tensorflow.keras.utils import to_categorical\n",
        "y_train = to_categorical(y_train, 10)\n",
        "y_test = to_categorical(y_test, 10)   #10種資料"
      ],
      "execution_count": 0,
      "outputs": []
    },
    {
      "cell_type": "markdown",
      "metadata": {
        "id": "XLewIVaYYKy8",
        "colab_type": "text"
      },
      "source": [
        "### 打造函數學習機(CNN)"
      ]
    },
    {
      "cell_type": "code",
      "metadata": {
        "id": "qN8uPv72YTq3",
        "colab_type": "code",
        "colab": {}
      },
      "source": [
        "model = Sequential()"
      ],
      "execution_count": 0,
      "outputs": []
    },
    {
      "cell_type": "code",
      "metadata": {
        "id": "1Z8gw3a7YXmv",
        "colab_type": "code",
        "colab": {}
      },
      "source": [
        "model.add(Conv2D(32,(3,3), padding=\"same\",input_shape=(28,28,1),activation=\"relu\"))\n",
        "model.add(MaxPooling2D(pool_size=(2,2)))"
      ],
      "execution_count": 0,
      "outputs": []
    },
    {
      "cell_type": "code",
      "metadata": {
        "id": "fMWcv84aZSPz",
        "colab_type": "code",
        "colab": {}
      },
      "source": [
        "model.add(Conv2D(64,(3,3), padding=\"same\",activation=\"relu\"))\n",
        "model.add(MaxPooling2D(pool_size=(2,2)))"
      ],
      "execution_count": 0,
      "outputs": []
    },
    {
      "cell_type": "code",
      "metadata": {
        "id": "1bs1-Vf4Zmkf",
        "colab_type": "code",
        "colab": {}
      },
      "source": [
        "model.add(Conv2D(128,(3,3),padding='same',activation='relu'))\n",
        "model.add(MaxPooling2D(pool_size=(2,2)))\n"
      ],
      "execution_count": 0,
      "outputs": []
    },
    {
      "cell_type": "code",
      "metadata": {
        "id": "qAsQd1L9ZueE",
        "colab_type": "code",
        "colab": {}
      },
      "source": [
        "model.add(Flatten())"
      ],
      "execution_count": 0,
      "outputs": []
    },
    {
      "cell_type": "code",
      "metadata": {
        "id": "ezYAlKqgZwn6",
        "colab_type": "code",
        "colab": {}
      },
      "source": [
        "model.add(Dense(35, activation='relu'))\n",
        "model.add(Dense(10, activation='softmax'))"
      ],
      "execution_count": 0,
      "outputs": []
    },
    {
      "cell_type": "markdown",
      "metadata": {
        "id": "zAwuSJl2aEoB",
        "colab_type": "text"
      },
      "source": [
        "### 看一下我們的神經網路"
      ]
    },
    {
      "cell_type": "code",
      "metadata": {
        "id": "zhF1kngCaLTP",
        "colab_type": "code",
        "outputId": "4ed45d12-221d-4cf5-efe1-e479dc675705",
        "colab": {
          "base_uri": "https://localhost:8080/",
          "height": 521
        }
      },
      "source": [
        "model.summary()"
      ],
      "execution_count": 0,
      "outputs": [
        {
          "output_type": "stream",
          "text": [
            "Model: \"sequential\"\n",
            "_________________________________________________________________\n",
            "Layer (type)                 Output Shape              Param #   \n",
            "=================================================================\n",
            "conv2d (Conv2D)              (None, 28, 28, 32)        320       \n",
            "_________________________________________________________________\n",
            "max_pooling2d (MaxPooling2D) (None, 14, 14, 32)        0         \n",
            "_________________________________________________________________\n",
            "conv2d_1 (Conv2D)            (None, 14, 14, 64)        18496     \n",
            "_________________________________________________________________\n",
            "max_pooling2d_1 (MaxPooling2 (None, 7, 7, 64)          0         \n",
            "_________________________________________________________________\n",
            "conv2d_2 (Conv2D)            (None, 7, 7, 128)         73856     \n",
            "_________________________________________________________________\n",
            "max_pooling2d_2 (MaxPooling2 (None, 3, 3, 128)         0         \n",
            "_________________________________________________________________\n",
            "flatten (Flatten)            (None, 1152)              0         \n",
            "_________________________________________________________________\n",
            "dense (Dense)                (None, 60)                69180     \n",
            "_________________________________________________________________\n",
            "dense_1 (Dense)              (None, 10)                610       \n",
            "_________________________________________________________________\n",
            "dense_2 (Dense)              (None, 35)                385       \n",
            "_________________________________________________________________\n",
            "dense_3 (Dense)              (None, 10)                360       \n",
            "=================================================================\n",
            "Total params: 163,207\n",
            "Trainable params: 163,207\n",
            "Non-trainable params: 0\n",
            "_________________________________________________________________\n"
          ],
          "name": "stdout"
        }
      ]
    },
    {
      "cell_type": "code",
      "metadata": {
        "id": "xoBPF67faMue",
        "colab_type": "code",
        "colab": {}
      },
      "source": [
        "model.compile(loss='mse',optimizer=SGD(lr=0.3),metrics=['accuracy'])"
      ],
      "execution_count": 0,
      "outputs": []
    },
    {
      "cell_type": "markdown",
      "metadata": {
        "id": "-vblQljGag9u",
        "colab_type": "text"
      },
      "source": [
        "### fit"
      ]
    },
    {
      "cell_type": "code",
      "metadata": {
        "id": "x_0mgOnvao-a",
        "colab_type": "code",
        "outputId": "b22187b1-a915-4224-c078-8814ea5d9f3f",
        "colab": {
          "base_uri": "https://localhost:8080/",
          "height": 874
        }
      },
      "source": [
        "model.fit(x_train, y_train, batch_size=50, epochs=25)"
      ],
      "execution_count": 0,
      "outputs": [
        {
          "output_type": "stream",
          "text": [
            "Epoch 1/25\n",
            "1200/1200 [==============================] - 93s 77ms/step - loss: 0.0161 - accuracy: 0.8951\n",
            "Epoch 2/25\n",
            "1200/1200 [==============================] - 93s 78ms/step - loss: 0.0154 - accuracy: 0.9002\n",
            "Epoch 3/25\n",
            "1200/1200 [==============================] - 93s 78ms/step - loss: 0.0149 - accuracy: 0.9037\n",
            "Epoch 4/25\n",
            "1200/1200 [==============================] - 94s 78ms/step - loss: 0.0145 - accuracy: 0.9066\n",
            "Epoch 5/25\n",
            "1200/1200 [==============================] - 94s 78ms/step - loss: 0.0140 - accuracy: 0.9092\n",
            "Epoch 6/25\n",
            "1200/1200 [==============================] - 93s 78ms/step - loss: 0.0135 - accuracy: 0.9134\n",
            "Epoch 7/25\n",
            "1200/1200 [==============================] - 93s 78ms/step - loss: 0.0131 - accuracy: 0.9153\n",
            "Epoch 8/25\n",
            "1200/1200 [==============================] - 93s 78ms/step - loss: 0.0127 - accuracy: 0.9183\n",
            "Epoch 9/25\n",
            "1200/1200 [==============================] - 94s 78ms/step - loss: 0.0125 - accuracy: 0.9203\n",
            "Epoch 10/25\n",
            "1200/1200 [==============================] - 94s 78ms/step - loss: 0.0121 - accuracy: 0.9223\n",
            "Epoch 11/25\n",
            "1200/1200 [==============================] - 93s 78ms/step - loss: 0.0117 - accuracy: 0.9252\n",
            "Epoch 12/25\n",
            "1200/1200 [==============================] - 94s 78ms/step - loss: 0.0115 - accuracy: 0.9267\n",
            "Epoch 13/25\n",
            "1200/1200 [==============================] - 94s 78ms/step - loss: 0.0112 - accuracy: 0.9290\n",
            "Epoch 14/25\n",
            "1200/1200 [==============================] - 93s 78ms/step - loss: 0.0109 - accuracy: 0.9311\n",
            "Epoch 15/25\n",
            "1200/1200 [==============================] - 94s 78ms/step - loss: 0.0105 - accuracy: 0.9337\n",
            "Epoch 16/25\n",
            "1200/1200 [==============================] - 94s 78ms/step - loss: 0.0103 - accuracy: 0.9352\n",
            "Epoch 17/25\n",
            "1200/1200 [==============================] - 93s 78ms/step - loss: 0.0101 - accuracy: 0.9365\n",
            "Epoch 18/25\n",
            "1200/1200 [==============================] - 94s 78ms/step - loss: 0.0098 - accuracy: 0.9382\n",
            "Epoch 19/25\n",
            "1200/1200 [==============================] - 93s 78ms/step - loss: 0.0095 - accuracy: 0.9407\n",
            "Epoch 20/25\n",
            "1200/1200 [==============================] - 93s 78ms/step - loss: 0.0093 - accuracy: 0.9420\n",
            "Epoch 21/25\n",
            "1200/1200 [==============================] - 93s 78ms/step - loss: 0.0091 - accuracy: 0.9435\n",
            "Epoch 22/25\n",
            "1200/1200 [==============================] - 94s 78ms/step - loss: 0.0088 - accuracy: 0.9456\n",
            "Epoch 23/25\n",
            "1200/1200 [==============================] - 94s 78ms/step - loss: 0.0086 - accuracy: 0.9469\n",
            "Epoch 24/25\n",
            "1200/1200 [==============================] - 93s 78ms/step - loss: 0.0085 - accuracy: 0.9474\n",
            "Epoch 25/25\n",
            "1200/1200 [==============================] - 93s 77ms/step - loss: 0.0082 - accuracy: 0.9493\n"
          ],
          "name": "stdout"
        },
        {
          "output_type": "execute_result",
          "data": {
            "text/plain": [
              "<tensorflow.python.keras.callbacks.History at 0x7f78a687acf8>"
            ]
          },
          "metadata": {
            "tags": []
          },
          "execution_count": 24
        }
      ]
    },
    {
      "cell_type": "markdown",
      "metadata": {
        "id": "RAH3cbS8aqye",
        "colab_type": "text"
      },
      "source": [
        "### 訓練成果"
      ]
    },
    {
      "cell_type": "code",
      "metadata": {
        "id": "d1YeL5VYyg-o",
        "colab_type": "code",
        "outputId": "bfd78914-0e90-4e5f-d9af-112d8880941f",
        "colab": {
          "base_uri": "https://localhost:8080/",
          "height": 87
        }
      },
      "source": [
        "result = model.predict_classes(x_test)"
      ],
      "execution_count": 0,
      "outputs": [
        {
          "output_type": "stream",
          "text": [
            "WARNING:tensorflow:From <ipython-input-25-63af5bb2f9b6>:1: Sequential.predict_classes (from tensorflow.python.keras.engine.sequential) is deprecated and will be removed after 2021-01-01.\n",
            "Instructions for updating:\n",
            "Please use instead:* `np.argmax(model.predict(x), axis=-1)`,   if your model does multi-class classification   (e.g. if it uses a `softmax` last-layer activation).* `(model.predict(x) > 0.5).astype(\"int32\")`,   if your model does binary classification   (e.g. if it uses a `sigmoid` last-layer activation).\n"
          ],
          "name": "stdout"
        }
      ]
    },
    {
      "cell_type": "code",
      "metadata": {
        "id": "ttsRIDXLyk32",
        "colab_type": "code",
        "colab": {}
      },
      "source": [
        "def my_predict(n):\n",
        "\n",
        "    print('我可愛的CNN預測是', class_names[result[n]])\n",
        "    X = x_test[n].reshape(28,28)\n",
        "    plt.imshow(X, cmap='Greys')"
      ],
      "execution_count": 0,
      "outputs": []
    },
    {
      "cell_type": "code",
      "metadata": {
        "id": "axOL4rAUzKxP",
        "colab_type": "code",
        "outputId": "a39aacc8-1104-4d8c-8492-d223d6502950",
        "colab": {
          "base_uri": "https://localhost:8080/",
          "height": 362,
          "referenced_widgets": [
            "74d84db127904819b6975c5e35f88a6f",
            "701a9f538e30422881ec60cc67a3a147",
            "01926d7b0e444de58be79b9e1c732b25",
            "cb7a6e6397a94c2d9d88b575e7567453",
            "53f906e253444b9d9d33a2fe80c51377",
            "b86a10eafac44237b8dd10faaf5dab9b",
            "a47e2a3ad975438a9bf0664dbf3f16df",
            "ae0ded9e11e8463e98242c58cf881f6c",
            "7736a01a58114c25a96f87ca63396bc0",
            "b4c9d3452ec84f629ad7335d546e1efd"
          ]
        }
      },
      "source": [
        "from ipywidgets import interact_manual\n",
        "interact_manual(my_predict, n=(0,9999))"
      ],
      "execution_count": 0,
      "outputs": [
        {
          "output_type": "display_data",
          "data": {
            "application/vnd.jupyter.widget-view+json": {
              "model_id": "74d84db127904819b6975c5e35f88a6f",
              "version_minor": 0,
              "version_major": 2
            },
            "text/plain": [
              "interactive(children=(IntSlider(value=4999, description='n', max=9999), Button(description='Run Interact', sty…"
            ]
          },
          "metadata": {
            "tags": []
          }
        },
        {
          "output_type": "execute_result",
          "data": {
            "text/plain": [
              "<function __main__.my_predict>"
            ]
          },
          "metadata": {
            "tags": []
          },
          "execution_count": 53
        }
      ]
    },
    {
      "cell_type": "code",
      "metadata": {
        "id": "qoDNQXHBzM2E",
        "colab_type": "code",
        "outputId": "557c6b68-cfaa-4167-9bb4-5bbe3342c643",
        "colab": {
          "base_uri": "https://localhost:8080/",
          "height": 34
        }
      },
      "source": [
        "score = model.evaluate(x_test, y_test)"
      ],
      "execution_count": 0,
      "outputs": [
        {
          "output_type": "stream",
          "text": [
            "313/313 [==============================] - 5s 15ms/step - loss: 0.0140 - accuracy: 0.9075\n"
          ],
          "name": "stdout"
        }
      ]
    },
    {
      "cell_type": "code",
      "metadata": {
        "id": "2jypeyFRzOdk",
        "colab_type": "code",
        "outputId": "657266bf-5394-4e9a-a426-59b7d5cf8d93",
        "colab": {
          "base_uri": "https://localhost:8080/",
          "height": 34
        }
      },
      "source": [
        "loss ,acc =score\n",
        "print('測試資料的正確率為', acc)"
      ],
      "execution_count": 0,
      "outputs": [
        {
          "output_type": "stream",
          "text": [
            "測試資料的正確率為 0.9075000286102295\n"
          ],
          "name": "stdout"
        }
      ]
    }
  ]
}