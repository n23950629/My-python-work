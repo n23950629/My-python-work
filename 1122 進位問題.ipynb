{
 "cells": [
  {
   "cell_type": "code",
   "execution_count": 5,
   "metadata": {},
   "outputs": [],
   "source": [
    "%matplotlib inline\n",
    "import numpy as np\n",
    "import matplotlib.pyplot as plt\n",
    "import pandas as pd"
   ]
  },
  {
   "cell_type": "code",
   "execution_count": 11,
   "metadata": {},
   "outputs": [
    {
     "name": "stdout",
     "output_type": "stream",
     "text": [
      "請輸入數字：990\n",
      "此數二進位＝ 0b1111011110\n",
      "此數八進位＝： 0o1736\n",
      "此數十六進位＝ 0x3de\n"
     ]
    }
   ],
   "source": [
    "decimal = int(input(\"請輸入數字：\"))        #輸入 : 十進制 Decimal\n",
    " \n",
    "print(\"此數二進位＝\", bin(decimal))         #輸出 : 二進制 Binary         0b=00\n",
    "print(\"此數八進位＝：\", oct(decimal))       #輸出 : 八進制 Octal          0o=00\n",
    "print(\"此數十六進位＝\", hex(decimal))       #輸出 : 十六進 Hexadecimal    0x=00"
   ]
  },
  {
   "cell_type": "code",
   "execution_count": null,
   "metadata": {},
   "outputs": [],
   "source": []
  }
 ],
 "metadata": {
  "kernelspec": {
   "display_name": "Python 3",
   "language": "python",
   "name": "python3"
  },
  "language_info": {
   "codemirror_mode": {
    "name": "ipython",
    "version": 3
   },
   "file_extension": ".py",
   "mimetype": "text/x-python",
   "name": "python",
   "nbconvert_exporter": "python",
   "pygments_lexer": "ipython3",
   "version": "3.7.3"
  }
 },
 "nbformat": 4,
 "nbformat_minor": 2
}
