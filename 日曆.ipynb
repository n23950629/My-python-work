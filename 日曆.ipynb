{
 "cells": [
  {
   "cell_type": "code",
   "execution_count": 2,
   "metadata": {},
   "outputs": [],
   "source": [
    "%matplotlib inline\n",
    "import numpy as np\n",
    "import matplotlib.pyplot as plt\n",
    "import pandas as pd\n",
    "import calendar"
   ]
  },
  {
   "cell_type": "code",
   "execution_count": 7,
   "metadata": {},
   "outputs": [
    {
     "name": "stdout",
     "output_type": "stream",
     "text": [
      "請問你想查（西元）幾年的呢～2001\n",
      "那麼請問要幾月的呢？07\n",
      "以下就是西元2001年7月的日曆囉！\n",
      "------------------------------\n",
      "     July 2001\n",
      "Mo Tu We Th Fr Sa Su\n",
      "                   1\n",
      " 2  3  4  5  6  7  8\n",
      " 9 10 11 12 13 14 15\n",
      "16 17 18 19 20 21 22\n",
      "23 24 25 26 27 28 29\n",
      "30 31\n",
      "\n",
      "請問你覺得這個系統好用嗎？難用死了\n",
      "不行！你只能說我們很棒(ﾒ ﾟ皿ﾟ)ﾒ\n"
     ]
    }
   ],
   "source": [
    "A=input(\"請問你想查（西元）幾年的呢～\")\n",
    "B=int(A)\n",
    "C=input(\"那麼請問要幾月的呢？\")\n",
    "D=int(C)\n",
    "\n",
    "輸出=calendar.month(B,D)\n",
    "print(\"以下就是西元\"+str(B)+\"年\"+str(D)+\"月的日曆囉！\")\n",
    "print(\"-\"*30)\n",
    "print (輸出)\n",
    "\n",
    "g=input(\"請問你覺得這個系統好用嗎？\")\n",
    "if (\"不錯\" in g):\n",
    "    print(\"謝謝你的鼓勵(*´∀`)~♥\")\n",
    "else:\n",
    "    print(\"不行！你只能說我們很棒(ﾒ ﾟ皿ﾟ)ﾒ\")"
   ]
  },
  {
   "cell_type": "code",
   "execution_count": null,
   "metadata": {},
   "outputs": [],
   "source": []
  }
 ],
 "metadata": {
  "kernelspec": {
   "display_name": "Python 3",
   "language": "python",
   "name": "python3"
  },
  "language_info": {
   "codemirror_mode": {
    "name": "ipython",
    "version": 3
   },
   "file_extension": ".py",
   "mimetype": "text/x-python",
   "name": "python",
   "nbconvert_exporter": "python",
   "pygments_lexer": "ipython3",
   "version": "3.7.3"
  }
 },
 "nbformat": 4,
 "nbformat_minor": 2
}
