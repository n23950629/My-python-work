{
 "cells": [
  {
   "cell_type": "code",
   "execution_count": 36,
   "metadata": {},
   "outputs": [],
   "source": [
    "%matplotlib inline\n",
    "import numpy as np\n",
    "import matplotlib.pyplot as plt\n",
    "import pandas as pd\n",
    "#try搭配finally"
   ]
  },
  {
   "cell_type": "code",
   "execution_count": 37,
   "metadata": {},
   "outputs": [],
   "source": [
    "import random\n",
    "def 猜數字遊戲():\n",
    "    答案=random.randint(1,101) \n",
    "    猜的次數=10\n",
    "    t=0\n",
    "    print(\"歡迎來到猜數字的遊戲！多猜一次多十元！但別擔心，最多只要一百元喔(･ω<)☆\")\n",
    "    while t<猜的次數:\n",
    "        try:\n",
    "            數字=int(input(\"我想猜: \"))\n",
    "            print(f\"您猜了:{數字}\")\n",
    "            if 數字>答案:\n",
    "                print(\"太大了\")\n",
    "            elif 數字<答案:\n",
    "                print(\"太小了\")\n",
    "            else:\n",
    "                print(\"真棒！你答對囉！但沒有獎勵！\")\n",
    "                break\n",
    "        finally:\n",
    "            t+=1\n",
    "            print(\"－－－－－－請注意：您剩下\"+str(猜的次數-t)+\"次喔，您需支付\"+str(10*t)+\"元－－－－－－\")\n",
    "    else:\n",
    "        print(\"ＧＧ！超過十次了！\")\n",
    "                      "
   ]
  },
  {
   "cell_type": "code",
   "execution_count": 38,
   "metadata": {},
   "outputs": [
    {
     "name": "stdout",
     "output_type": "stream",
     "text": [
      "歡迎來到猜數字的遊戲！多猜一次多十元！但別擔心，最多只要一百元喔(･ω<)☆\n",
      "我想猜: 40\n",
      "您猜了:40\n",
      "太小了\n",
      "－－－－－－請注意：您剩下9次喔，您需支付10元－－－－－－\n",
      "我想猜: 90\n",
      "您猜了:90\n",
      "太大了\n",
      "－－－－－－請注意：您剩下8次喔，您需支付20元－－－－－－\n",
      "我想猜: 70\n",
      "您猜了:70\n",
      "太小了\n",
      "－－－－－－請注意：您剩下7次喔，您需支付30元－－－－－－\n",
      "我想猜: 80\n",
      "您猜了:80\n",
      "太大了\n",
      "－－－－－－請注意：您剩下6次喔，您需支付40元－－－－－－\n",
      "我想猜: 75\n",
      "您猜了:75\n",
      "太大了\n",
      "－－－－－－請注意：您剩下5次喔，您需支付50元－－－－－－\n",
      "我想猜: 71\n",
      "您猜了:71\n",
      "太小了\n",
      "－－－－－－請注意：您剩下4次喔，您需支付60元－－－－－－\n",
      "我想猜: 73\n",
      "您猜了:73\n",
      "太大了\n",
      "－－－－－－請注意：您剩下3次喔，您需支付70元－－－－－－\n",
      "我想猜: 72\n",
      "您猜了:72\n",
      "真棒！你答對囉！但沒有獎勵！\n",
      "－－－－－－請注意：您剩下2次喔，您需支付80元－－－－－－\n"
     ]
    }
   ],
   "source": [
    "猜數字遊戲()"
   ]
  },
  {
   "cell_type": "code",
   "execution_count": null,
   "metadata": {},
   "outputs": [],
   "source": []
  }
 ],
 "metadata": {
  "kernelspec": {
   "display_name": "Python 3",
   "language": "python",
   "name": "python3"
  },
  "language_info": {
   "codemirror_mode": {
    "name": "ipython",
    "version": 3
   },
   "file_extension": ".py",
   "mimetype": "text/x-python",
   "name": "python",
   "nbconvert_exporter": "python",
   "pygments_lexer": "ipython3",
   "version": "3.7.3"
  }
 },
 "nbformat": 4,
 "nbformat_minor": 2
}
