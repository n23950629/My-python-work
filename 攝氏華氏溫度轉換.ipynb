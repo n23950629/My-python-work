{
 "cells": [
  {
   "cell_type": "code",
   "execution_count": 1,
   "metadata": {},
   "outputs": [],
   "source": [
    "%matplotlib inline\n",
    "import pandas as pd\n",
    "import numpy as np"
   ]
  },
  {
   "cell_type": "code",
   "execution_count": 10,
   "metadata": {},
   "outputs": [
    {
     "name": "stdout",
     "output_type": "stream",
     "text": [
      "攝氏換華式請按1\n",
      "華式換攝氏請按2\n",
      "1\n",
      "請輸入攝氏溫度:20\n",
      "20.0度攝氏轉為華氏為68.0度\n"
     ]
    }
   ],
   "source": [
    "A = int(input('攝氏換華式請按1\\n華式換攝氏請按2\\n'))\n",
    "if A == 1:\n",
    "    C = float(input('請輸入攝氏溫度:'))\n",
    "    F = (C*1.8)+32\n",
    "    print('%.1f度攝氏轉為華氏為%.1f度' %(C,F))\n",
    "else:\n",
    "    F = float(input('請輸入華氏溫度:'))\n",
    "    C = (F - 32)/1.8 \n",
    "    print('%.1f度華氏轉為攝氏為%.1f度' %(F,C))"
   ]
  },
  {
   "cell_type": "code",
   "execution_count": null,
   "metadata": {},
   "outputs": [],
   "source": []
  }
 ],
 "metadata": {
  "kernelspec": {
   "display_name": "Python 3",
   "language": "python",
   "name": "python3"
  },
  "language_info": {
   "codemirror_mode": {
    "name": "ipython",
    "version": 3
   },
   "file_extension": ".py",
   "mimetype": "text/x-python",
   "name": "python",
   "nbconvert_exporter": "python",
   "pygments_lexer": "ipython3",
   "version": "3.7.3"
  }
 },
 "nbformat": 4,
 "nbformat_minor": 2
}
