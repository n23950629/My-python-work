{
 "cells": [
  {
   "cell_type": "code",
   "execution_count": 16,
   "metadata": {},
   "outputs": [],
   "source": [
    "%matplotlib inline\n",
    "import random\n",
    "import time"
   ]
  },
  {
   "cell_type": "code",
   "execution_count": 20,
   "metadata": {},
   "outputs": [
    {
     "name": "stdout",
     "output_type": "stream",
     "text": [
      "[系統通知]歡迎您來到猜拳遊戲！\n",
      "[BOSS]這位挑戰者，你準備好了嗎？ 0.來吧！ 1.算了...我回家睡覺好了1\n",
      "[BOSS]哼，你是不是被我的實力給嚇跑了啊？\n",
      "[系統通知]遊戲結束。\n"
     ]
    }
   ],
   "source": [
    "print(\"[系統通知]歡迎您來到猜拳遊戲！\")\n",
    "command = int(input(\"[BOSS]這位挑戰者，你準備好了嗎？ 0.來吧！ 1.算了...我回家睡覺好了\"))\n",
    "if command == 0:\n",
    "    choice = int(input (\"[系統通知]請問您想出什麼呢？ 0.剪刀 1.石頭 2.布\"))\n",
    "    c_choice = random.randint(0,2)\n",
    "    if choice == 0:\n",
    "        print(\"[系統通知]您選擇 剪刀！\")\n",
    "        print(\"等待對手中...\")\n",
    "        time.sleep(2)\n",
    "        if c_choice == 0:\n",
    "            print(\"對手也出剪刀，平手！\")\n",
    "        elif c_choice == 1:\n",
    "            print(\"對手出石頭，你輸了！\")\n",
    "            print(\"[系統通知]您已被踢出遊戲。\")\n",
    "        elif c_choice == 2:\n",
    "            print(\"對手出布，恭喜您～\")\n",
    "            print(\"[系統通知]獲得成就：我是幸運寶寶！\")\n",
    "        \n",
    "    elif choice == 1:\n",
    "        print(\"[系統通知]您選擇 石頭！\")\n",
    "        print(\"等待對手中...\")\n",
    "        time.sleep(2)\n",
    "        if c_choice == 0:\n",
    "            print(\"對手出剪刀，恭喜您～\")\n",
    "            print(\"[系統通知]獲得成就：我是幸運寶寶！\")\n",
    "        elif c_choice == 1:\n",
    "            print(\"對手也出石頭，平手！\")\n",
    "        elif c_choice == 2:\n",
    "            print(\"對手出布，你輸了！\")\n",
    "            print(\"[系統通知]您已被踢出遊戲。\")\n",
    "    \n",
    "    elif choice == 2:\n",
    "        print(\"[系統通知]您選擇 布！\")\n",
    "        print(\"等待對手中...\")\n",
    "        time.sleep(2)\n",
    "        if c_choice == 0:\n",
    "            print(\"對手出剪刀，你輸了！\")\n",
    "            print(\"[系統通知]您已被踢出遊戲。\")\n",
    "        elif c_choice == 1:\n",
    "            print(\"對手出石頭，恭喜您～\")\n",
    "            print(\"[系統通知]獲得成就：我是幸運寶寶！\")\n",
    "        elif c_choice == 2:\n",
    "            print(\"對手出布，平手！\")\n",
    "\n",
    "elif command == 1:\n",
    "    print(\"[BOSS]哼，你是不是被我的實力給嚇跑了啊？\")\n",
    "    print(\"[系統通知]遊戲結束。\")"
   ]
  },
  {
   "cell_type": "code",
   "execution_count": null,
   "metadata": {},
   "outputs": [],
   "source": []
  }
 ],
 "metadata": {
  "kernelspec": {
   "display_name": "Python 3",
   "language": "python",
   "name": "python3"
  },
  "language_info": {
   "codemirror_mode": {
    "name": "ipython",
    "version": 3
   },
   "file_extension": ".py",
   "mimetype": "text/x-python",
   "name": "python",
   "nbconvert_exporter": "python",
   "pygments_lexer": "ipython3",
   "version": "3.7.3"
  }
 },
 "nbformat": 4,
 "nbformat_minor": 2
}
