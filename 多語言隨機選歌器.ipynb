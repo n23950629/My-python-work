{
 "cells": [
  {
   "cell_type": "markdown",
   "metadata": {},
   "source": [
    "# 多語言選歌器(已修改)"
   ]
  },
  {
   "cell_type": "code",
   "execution_count": 5,
   "metadata": {},
   "outputs": [],
   "source": [
    "%matplotlib inline\n",
    "import numpy as np\n",
    "import matplotlib.pyplot as plt\n",
    "import pandas as pd\n",
    "from ipywidgets import interact"
   ]
  },
  {
   "cell_type": "code",
   "execution_count": 6,
   "metadata": {},
   "outputs": [],
   "source": [
    "from IPython.display import display,HTML,Markdown,Image,YouTubeVideo\n",
    "import random"
   ]
  },
  {
   "cell_type": "code",
   "execution_count": 7,
   "metadata": {},
   "outputs": [
    {
     "data": {
      "application/vnd.jupyter.widget-view+json": {
       "model_id": "636078b9ce5047aca956681d1be0ab9e",
       "version_major": 2,
       "version_minor": 0
      },
      "text/plain": [
       "interactive(children=(Dropdown(description='choose', options=('study', 'english', 'chinese', 'japanese'), valu…"
      ]
     },
     "metadata": {},
     "output_type": "display_data"
    },
    {
     "data": {
      "text/plain": [
       "<function __main__.f(choose)>"
      ]
     },
     "execution_count": 7,
     "metadata": {},
     "output_type": "execute_result"
    }
   ],
   "source": [
    "study_piano_music= [\"yF5_O407zc0\", \"vwriuInb9nI\", \"wqeJ5Vkb6JE\"]\n",
    "english_music= [\"9thM5gLs2tg\", \"RPILrZTBedY\", \"syFZfO_wfMQ\", \"BiGA7aK5PmI\",\"nfs8NYg7yQM\",\"8sgycukafqQ\",\"D7ab595h0AU\",\"UtF6Jej8yb4\",\"SxGLPVvNjvY\"]\n",
    "chinese_music= [\"jEojOmwDap4\", \"uB1Gj0b0Ax8\", \"Dnj5Tcpev0Q\", \"m9eoYjo5W8c\" , \"pb-kc6DWIDI\",\"gdGdO6KjF1I\",\"3dDyoPVyZ08\",\"tLDk2DueeMI\",\"UtF6Jej8yb4\",\"yjWwfDW9IoA\"]\n",
    "japanese_music= [\"siQJhIp-UTU\",\"9WndyS7wgxY\",\"04VteCjggco\",\"jfC4QcuTk4k\",\"NyXApXudtaU\"]\n",
    "\n",
    "study= np.random.choice(study_piano_music)\n",
    "english= np.random.choice(english_music)\n",
    "chinese= np.random.choice(chinese_music)\n",
    "japanese=np.random.choice(japanese_music)\n",
    "\n",
    "def f(choose):\n",
    "    if \"study\" in choose:\n",
    "        video =YouTubeVideo(study)\n",
    "        display(video)\n",
    "    elif \"english\" in choose:\n",
    "        video2 =YouTubeVideo(english)\n",
    "        display(video2)\n",
    "    elif \"chinese\" in choose:\n",
    "        video3 =YouTubeVideo(chinese)\n",
    "        display (video3)\n",
    "    elif \"japanese\" in choose:\n",
    "        video4 =YouTubeVideo(japanese)\n",
    "        display(video4)\n",
    "        \n",
    "interact (f, choose = {\"study\",\"english\",\"chinese\",\"japanese\"})"
   ]
  },
  {
   "cell_type": "code",
   "execution_count": null,
   "metadata": {},
   "outputs": [],
   "source": []
  }
 ],
 "metadata": {
  "kernelspec": {
   "display_name": "Python 3",
   "language": "python",
   "name": "python3"
  },
  "language_info": {
   "codemirror_mode": {
    "name": "ipython",
    "version": 3
   },
   "file_extension": ".py",
   "mimetype": "text/x-python",
   "name": "python",
   "nbconvert_exporter": "python",
   "pygments_lexer": "ipython3",
   "version": "3.7.3"
  }
 },
 "nbformat": 4,
 "nbformat_minor": 2
}
