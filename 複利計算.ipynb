{
 "cells": [
  {
   "cell_type": "code",
   "execution_count": 5,
   "metadata": {},
   "outputs": [],
   "source": [
    "%matplotlib inline\n",
    "import numpy as np\n",
    "import matplotlib.pyplot as plt\n",
    "import pandas as pd"
   ]
  },
  {
   "cell_type": "code",
   "execution_count": 14,
   "metadata": {},
   "outputs": [
    {
     "name": "stdout",
     "output_type": "stream",
     "text": [
      "年利率為(%): 10\n",
      "每月固定存: 1000\n",
      "存了幾年: 2\n",
      "最後存款為：2310.0\n"
     ]
    }
   ],
   "source": [
    "a=利率=input(\"年利率為(%): \")\n",
    "b=金額=input(\"每月固定存: \")\n",
    "c=時間=input(\"存了幾年: \")\n",
    "total=int(b)*(1+int(a)/100)*(1-(1+int(a)/100)**int(c))/(1-(1+int(a)/100))\n",
    "print(\"最後存款為：\"+str(total))"
   ]
  },
  {
   "cell_type": "code",
   "execution_count": null,
   "metadata": {},
   "outputs": [],
   "source": []
  }
 ],
 "metadata": {
  "kernelspec": {
   "display_name": "Python 3",
   "language": "python",
   "name": "python3"
  },
  "language_info": {
   "codemirror_mode": {
    "name": "ipython",
    "version": 3
   },
   "file_extension": ".py",
   "mimetype": "text/x-python",
   "name": "python",
   "nbconvert_exporter": "python",
   "pygments_lexer": "ipython3",
   "version": "3.7.3"
  }
 },
 "nbformat": 4,
 "nbformat_minor": 2
}
