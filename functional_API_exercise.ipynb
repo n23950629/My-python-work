{
  "nbformat": 4,
  "nbformat_minor": 0,
  "metadata": {
    "colab": {
      "name": "functional API exercise.ipynb",
      "provenance": [],
      "collapsed_sections": [],
      "authorship_tag": "ABX9TyPdogIYuft1KkxkjpSxF1vz",
      "include_colab_link": true
    },
    "kernelspec": {
      "name": "python3",
      "display_name": "Python 3"
    }
  },
  "cells": [
    {
      "cell_type": "markdown",
      "metadata": {
        "id": "view-in-github",
        "colab_type": "text"
      },
      "source": [
        "<a href=\"https://colab.research.google.com/github/n23950629/My-python-work/blob/master/functional_API_exercise.ipynb\" target=\"_parent\"><img src=\"https://colab.research.google.com/assets/colab-badge.svg\" alt=\"Open In Colab\"/></a>"
      ]
    },
    {
      "cell_type": "markdown",
      "metadata": {
        "id": "fwKsgZ77nxgJ",
        "colab_type": "text"
      },
      "source": [
        "### 初始準備"
      ]
    },
    {
      "cell_type": "code",
      "metadata": {
        "id": "mRiyizoWm6_6",
        "colab_type": "code",
        "colab": {}
      },
      "source": [
        "import matplotlib.pyplot as plt\n",
        "import numpy as np\n",
        "\n",
        "from tensorflow.keras.models import Sequential\n",
        "from tensorflow.keras.layers import Flatten\n",
        "from tensorflow.keras.layers import Dense\n",
        "from tensorflow.keras.layers import Conv2D, MaxPool2D, GlobalAveragePooling2D\n",
        "from tensorflow.keras.optimizers import SGD, Adam\n",
        "\n",
        "\n",
        "from tensorflow.keras import datasets\n",
        "from tensorflow.keras.utils import to_categorical\n",
        "\n",
        "from tensorflow.keras.models import Model\n",
        "from tensorflow.keras.layers import Input\n",
        "from tensorflow.keras.layers import concatenate, add"
      ],
      "execution_count": 0,
      "outputs": []
    },
    {
      "cell_type": "markdown",
      "metadata": {
        "id": "TgPIkN4DrbEQ",
        "colab_type": "text"
      },
      "source": [
        "![image.png](data:image/png;base64,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)"
      ]
    },
    {
      "cell_type": "markdown",
      "metadata": {
        "id": "ubMs_PKmwBia",
        "colab_type": "text"
      },
      "source": [
        "$a1 = g1(x)$\n",
        "\n",
        "$a2 = g2(x)$\n",
        "\n",
        "$a3 = g3(a1,a2)$\n",
        "\n",
        "$y = g4(a3)$"
      ]
    },
    {
      "cell_type": "code",
      "metadata": {
        "id": "uUG2cc8Pnvca",
        "colab_type": "code",
        "colab": {}
      },
      "source": [
        "g1 = Dense(300, activation='relu')\n",
        "g2 = Dense(300, activation='relu')\n",
        "g3 = Dense(600, activation='sigmoid')\n",
        "g4 = Dense(10, activation='softmax')"
      ],
      "execution_count": 0,
      "outputs": []
    },
    {
      "cell_type": "code",
      "metadata": {
        "id": "-zqmOrSqt0DE",
        "colab_type": "code",
        "outputId": "1bbae453-f95b-4272-d0ad-178d427a2ceb",
        "colab": {
          "base_uri": "https://localhost:8080/",
          "height": 50
        }
      },
      "source": [
        "x = Input(shape=(784,))\n",
        "print(x)\n",
        "\n",
        "a1 = g1(x)\n",
        "a2 = g2(x)\n",
        "\n",
        "e = concatenate([a1,a2])\n",
        "a3 = g3(e)\n",
        "\n",
        "y = g4(a3)\n",
        "print(y)"
      ],
      "execution_count": 69,
      "outputs": [
        {
          "output_type": "stream",
          "text": [
            "Tensor(\"input_6:0\", shape=(None, 784), dtype=float32)\n",
            "Tensor(\"dense_19/Identity:0\", shape=(None, 10), dtype=float32)\n"
          ],
          "name": "stdout"
        }
      ]
    },
    {
      "cell_type": "markdown",
      "metadata": {
        "id": "i6D10Kvrw5PM",
        "colab_type": "text"
      },
      "source": [
        "### 看一下我們 model 的長相"
      ]
    },
    {
      "cell_type": "code",
      "metadata": {
        "id": "GSzzHTvXxFpD",
        "colab_type": "code",
        "outputId": "0af3205d-503d-4cb1-e78f-11a5ad4d9da7",
        "colab": {
          "base_uri": "https://localhost:8080/",
          "height": 390
        }
      },
      "source": [
        "model = Model(x, y)\n",
        "model.summary()"
      ],
      "execution_count": 70,
      "outputs": [
        {
          "output_type": "stream",
          "text": [
            "Model: \"model_3\"\n",
            "__________________________________________________________________________________________________\n",
            "Layer (type)                    Output Shape         Param #     Connected to                     \n",
            "==================================================================================================\n",
            "input_6 (InputLayer)            [(None, 784)]        0                                            \n",
            "__________________________________________________________________________________________________\n",
            "dense_16 (Dense)                (None, 300)          235500      input_6[0][0]                    \n",
            "__________________________________________________________________________________________________\n",
            "dense_17 (Dense)                (None, 300)          235500      input_6[0][0]                    \n",
            "__________________________________________________________________________________________________\n",
            "concatenate_4 (Concatenate)     (None, 600)          0           dense_16[0][0]                   \n",
            "                                                                 dense_17[0][0]                   \n",
            "__________________________________________________________________________________________________\n",
            "dense_18 (Dense)                (None, 600)          360600      concatenate_4[0][0]              \n",
            "__________________________________________________________________________________________________\n",
            "dense_19 (Dense)                (None, 10)           6010        dense_18[0][0]                   \n",
            "==================================================================================================\n",
            "Total params: 837,610\n",
            "Trainable params: 837,610\n",
            "Non-trainable params: 0\n",
            "__________________________________________________________________________________________________\n"
          ],
          "name": "stdout"
        }
      ]
    },
    {
      "cell_type": "code",
      "metadata": {
        "id": "gqXmqwluxMJI",
        "colab_type": "code",
        "colab": {}
      },
      "source": [
        "model.compile(\n",
        "    loss='categorical_crossentropy',\n",
        "    optimizer = Adam(),\n",
        "    metrics = ['accuracy']\n",
        ")"
      ],
      "execution_count": 0,
      "outputs": []
    },
    {
      "cell_type": "markdown",
      "metadata": {
        "id": "vhQMrdnGxkHW",
        "colab_type": "text"
      },
      "source": [
        "### 載入資料集"
      ]
    },
    {
      "cell_type": "code",
      "metadata": {
        "id": "_uvVMGi0xiFc",
        "colab_type": "code",
        "colab": {}
      },
      "source": [
        "(x_train, y_train), (x_test, y_test) = datasets.fashion_mnist.load_data()"
      ],
      "execution_count": 0,
      "outputs": []
    },
    {
      "cell_type": "code",
      "metadata": {
        "id": "ycoEFJ66xyB4",
        "colab_type": "code",
        "outputId": "ecfb4380-4c98-45a3-b77b-00c103105645",
        "colab": {
          "base_uri": "https://localhost:8080/",
          "height": 50
        }
      },
      "source": [
        "print(x_train.shape)\n",
        "print(x_test.shape)"
      ],
      "execution_count": 73,
      "outputs": [
        {
          "output_type": "stream",
          "text": [
            "(60000, 28, 28)\n",
            "(10000, 28, 28)\n"
          ],
          "name": "stdout"
        }
      ]
    },
    {
      "cell_type": "code",
      "metadata": {
        "id": "JN2wcP2r3rts",
        "colab_type": "code",
        "colab": {}
      },
      "source": [
        "(x_train, y_train0), (x_test, y_test0) = datasets.fashion_mnist.load_data()"
      ],
      "execution_count": 0,
      "outputs": []
    },
    {
      "cell_type": "code",
      "metadata": {
        "id": "QKwiNI4dx2An",
        "colab_type": "code",
        "colab": {}
      },
      "source": [
        "x_train = x_train.reshape(-1, 28*28)\n",
        "x_test = x_test.reshape(-1, 28*28)"
      ],
      "execution_count": 0,
      "outputs": []
    },
    {
      "cell_type": "code",
      "metadata": {
        "id": "cKtidaJZyHB0",
        "colab_type": "code",
        "outputId": "ce7dd2f1-17b3-4e58-96b5-40936e13a7a0",
        "colab": {
          "base_uri": "https://localhost:8080/",
          "height": 34
        }
      },
      "source": [
        "x_train = x_train / x_train.max()\n",
        "x_test = x_test / x_test.max()\n",
        "print(x_train.shape)"
      ],
      "execution_count": 76,
      "outputs": [
        {
          "output_type": "stream",
          "text": [
            "(60000, 784)\n"
          ],
          "name": "stdout"
        }
      ]
    },
    {
      "cell_type": "code",
      "metadata": {
        "id": "LBB8-qOsyUcO",
        "colab_type": "code",
        "colab": {}
      },
      "source": [
        "y_train = to_categorical(y_train0, 10)\n",
        "y_test = to_categorical(y_test0, 10)"
      ],
      "execution_count": 0,
      "outputs": []
    },
    {
      "cell_type": "markdown",
      "metadata": {
        "id": "BpIg5OGFyuVt",
        "colab_type": "text"
      },
      "source": [
        "### 訓練步驟"
      ]
    },
    {
      "cell_type": "code",
      "metadata": {
        "id": "4pNRyhOHygEP",
        "colab_type": "code",
        "outputId": "85397dbc-075c-423a-9150-b53ea2a5c8ee",
        "colab": {
          "base_uri": "https://localhost:8080/",
          "height": 222
        }
      },
      "source": [
        "model.fit( x_train, y_train, batch_size = 256, epochs = 5 )"
      ],
      "execution_count": 78,
      "outputs": [
        {
          "output_type": "stream",
          "text": [
            "Epoch 1/5\n",
            "235/235 [==============================] - 7s 31ms/step - loss: 0.5371 - accuracy: 0.8090\n",
            "Epoch 2/5\n",
            "235/235 [==============================] - 7s 31ms/step - loss: 0.3723 - accuracy: 0.8650\n",
            "Epoch 3/5\n",
            "235/235 [==============================] - 7s 31ms/step - loss: 0.3297 - accuracy: 0.8796\n",
            "Epoch 4/5\n",
            "235/235 [==============================] - 7s 31ms/step - loss: 0.3098 - accuracy: 0.8859\n",
            "Epoch 5/5\n",
            "235/235 [==============================] - 8s 33ms/step - loss: 0.2826 - accuracy: 0.8955\n"
          ],
          "name": "stdout"
        },
        {
          "output_type": "execute_result",
          "data": {
            "text/plain": [
              "<tensorflow.python.keras.callbacks.History at 0x7ff543473048>"
            ]
          },
          "metadata": {
            "tags": []
          },
          "execution_count": 78
        }
      ]
    },
    {
      "cell_type": "code",
      "metadata": {
        "id": "p2aRXEuWzVBB",
        "colab_type": "code",
        "colab": {
          "base_uri": "https://localhost:8080/",
          "height": 70
        },
        "outputId": "a8bcdb68-cbd1-4ba6-c6e3-acd0f5d0750a"
      },
      "source": [
        "score = model.evaluate(x_train, y_train, batch_size=10000)\n",
        "print(f'Accuracy: {score[1]*100}')"
      ],
      "execution_count": 81,
      "outputs": [
        {
          "output_type": "stream",
          "text": [
            "6/6 [==============================] - 2s 265ms/step - loss: 0.2755 - accuracy: 0.8967\n",
            "Accuracy: 89.67499732971191\n"
          ],
          "name": "stdout"
        }
      ]
    },
    {
      "cell_type": "code",
      "metadata": {
        "id": "LggXgR_M56qp",
        "colab_type": "code",
        "colab": {}
      },
      "source": [
        ""
      ],
      "execution_count": 0,
      "outputs": []
    }
  ]
}