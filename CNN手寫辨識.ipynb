{
  "nbformat": 4,
  "nbformat_minor": 0,
  "metadata": {
    "colab": {
      "name": "CNN手寫辨識.ipynb",
      "provenance": [],
      "authorship_tag": "ABX9TyPB/Rve1RPliB/bojUMgnyj",
      "include_colab_link": true
    },
    "kernelspec": {
      "name": "python3",
      "display_name": "Python 3"
    },
    "accelerator": "TPU",
    "widgets": {
      "application/vnd.jupyter.widget-state+json": {
        "6230f1c06dd34e85a328a6135cf924ed": {
          "model_module": "@jupyter-widgets/controls",
          "model_name": "VBoxModel",
          "state": {
            "_view_name": "VBoxView",
            "_dom_classes": [
              "widget-interact"
            ],
            "_model_name": "VBoxModel",
            "_view_module": "@jupyter-widgets/controls",
            "_model_module_version": "1.5.0",
            "_view_count": null,
            "_view_module_version": "1.5.0",
            "box_style": "",
            "layout": "IPY_MODEL_172b6937b5dc442e887816c6aa467bc8",
            "_model_module": "@jupyter-widgets/controls",
            "children": [
              "IPY_MODEL_13d4591bd8f6417a92854a84980489ef",
              "IPY_MODEL_a250ace4eff24593ad80ba641ce5e5b9",
              "IPY_MODEL_5d9e14824efe463c884b99725f3594ce"
            ]
          }
        },
        "172b6937b5dc442e887816c6aa467bc8": {
          "model_module": "@jupyter-widgets/base",
          "model_name": "LayoutModel",
          "state": {
            "_view_name": "LayoutView",
            "grid_template_rows": null,
            "right": null,
            "justify_content": null,
            "_view_module": "@jupyter-widgets/base",
            "overflow": null,
            "_model_module_version": "1.2.0",
            "_view_count": null,
            "flex_flow": null,
            "width": null,
            "min_width": null,
            "border": null,
            "align_items": null,
            "bottom": null,
            "_model_module": "@jupyter-widgets/base",
            "top": null,
            "grid_column": null,
            "overflow_y": null,
            "overflow_x": null,
            "grid_auto_flow": null,
            "grid_area": null,
            "grid_template_columns": null,
            "flex": null,
            "_model_name": "LayoutModel",
            "justify_items": null,
            "grid_row": null,
            "max_height": null,
            "align_content": null,
            "visibility": null,
            "align_self": null,
            "height": null,
            "min_height": null,
            "padding": null,
            "grid_auto_rows": null,
            "grid_gap": null,
            "max_width": null,
            "order": null,
            "_view_module_version": "1.2.0",
            "grid_template_areas": null,
            "object_position": null,
            "object_fit": null,
            "grid_auto_columns": null,
            "margin": null,
            "display": null,
            "left": null
          }
        },
        "13d4591bd8f6417a92854a84980489ef": {
          "model_module": "@jupyter-widgets/controls",
          "model_name": "IntSliderModel",
          "state": {
            "_view_name": "IntSliderView",
            "style": "IPY_MODEL_2ad992d4ce4c460098b672a2939c9175",
            "_dom_classes": [],
            "description": "n",
            "step": 1,
            "_model_name": "IntSliderModel",
            "orientation": "horizontal",
            "max": 9999,
            "_view_module": "@jupyter-widgets/controls",
            "_model_module_version": "1.5.0",
            "value": 2172,
            "_view_count": null,
            "disabled": false,
            "_view_module_version": "1.5.0",
            "min": 0,
            "continuous_update": true,
            "readout_format": "d",
            "description_tooltip": null,
            "readout": true,
            "_model_module": "@jupyter-widgets/controls",
            "layout": "IPY_MODEL_3e2c5edb654a4e9791a2b4611698f57d"
          }
        },
        "a250ace4eff24593ad80ba641ce5e5b9": {
          "model_module": "@jupyter-widgets/controls",
          "model_name": "ButtonModel",
          "state": {
            "_view_name": "ButtonView",
            "style": "IPY_MODEL_03ae9effcddf4e3f9ded2df0ded4c9c3",
            "_dom_classes": [],
            "description": "Run Interact",
            "_model_name": "ButtonModel",
            "button_style": "",
            "_view_module": "@jupyter-widgets/controls",
            "_model_module_version": "1.5.0",
            "tooltip": "",
            "_view_count": null,
            "disabled": false,
            "_view_module_version": "1.5.0",
            "layout": "IPY_MODEL_52463beee5cc402396a65cff3867bb0f",
            "_model_module": "@jupyter-widgets/controls",
            "icon": ""
          }
        },
        "5d9e14824efe463c884b99725f3594ce": {
          "model_module": "@jupyter-widgets/output",
          "model_name": "OutputModel",
          "state": {
            "_view_name": "OutputView",
            "msg_id": "",
            "_dom_classes": [],
            "_model_name": "OutputModel",
            "outputs": [
              {
                "output_type": "stream",
                "metadata": {
                  "tags": []
                },
                "text": "我可愛的CNN預測是 8\n",
                "stream": "stdout"
              },
              {
                "output_type": "display_data",
                "metadata": {
                  "tags": []
                },
                "image/png": "iVBORw0KGgoAAAANSUhEUgAAAPsAAAD4CAYAAAAq5pAIAAAABHNCSVQICAgIfAhkiAAAAAlwSFlz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\nwg4EQdiBIAg7EARhB4L4P1fdYtda/fzHAAAAAElFTkSuQmCC\n",
                "text/plain": "<Figure size 432x288 with 1 Axes>"
              }
            ],
            "_view_module": "@jupyter-widgets/output",
            "_model_module_version": "1.0.0",
            "_view_count": null,
            "_view_module_version": "1.0.0",
            "layout": "IPY_MODEL_2c1114b9ba2a49249b0701ad769cecbe",
            "_model_module": "@jupyter-widgets/output"
          }
        },
        "2ad992d4ce4c460098b672a2939c9175": {
          "model_module": "@jupyter-widgets/controls",
          "model_name": "SliderStyleModel",
          "state": {
            "_view_name": "StyleView",
            "handle_color": null,
            "_model_name": "SliderStyleModel",
            "description_width": "",
            "_view_module": "@jupyter-widgets/base",
            "_model_module_version": "1.5.0",
            "_view_count": null,
            "_view_module_version": "1.2.0",
            "_model_module": "@jupyter-widgets/controls"
          }
        },
        "3e2c5edb654a4e9791a2b4611698f57d": {
          "model_module": "@jupyter-widgets/base",
          "model_name": "LayoutModel",
          "state": {
            "_view_name": "LayoutView",
            "grid_template_rows": null,
            "right": null,
            "justify_content": null,
            "_view_module": "@jupyter-widgets/base",
            "overflow": null,
            "_model_module_version": "1.2.0",
            "_view_count": null,
            "flex_flow": null,
            "width": null,
            "min_width": null,
            "border": null,
            "align_items": null,
            "bottom": null,
            "_model_module": "@jupyter-widgets/base",
            "top": null,
            "grid_column": null,
            "overflow_y": null,
            "overflow_x": null,
            "grid_auto_flow": null,
            "grid_area": null,
            "grid_template_columns": null,
            "flex": null,
            "_model_name": "LayoutModel",
            "justify_items": null,
            "grid_row": null,
            "max_height": null,
            "align_content": null,
            "visibility": null,
            "align_self": null,
            "height": null,
            "min_height": null,
            "padding": null,
            "grid_auto_rows": null,
            "grid_gap": null,
            "max_width": null,
            "order": null,
            "_view_module_version": "1.2.0",
            "grid_template_areas": null,
            "object_position": null,
            "object_fit": null,
            "grid_auto_columns": null,
            "margin": null,
            "display": null,
            "left": null
          }
        },
        "03ae9effcddf4e3f9ded2df0ded4c9c3": {
          "model_module": "@jupyter-widgets/controls",
          "model_name": "ButtonStyleModel",
          "state": {
            "_view_name": "StyleView",
            "_model_name": "ButtonStyleModel",
            "_view_module": "@jupyter-widgets/base",
            "_model_module_version": "1.5.0",
            "_view_count": null,
            "button_color": null,
            "font_weight": "",
            "_view_module_version": "1.2.0",
            "_model_module": "@jupyter-widgets/controls"
          }
        },
        "52463beee5cc402396a65cff3867bb0f": {
          "model_module": "@jupyter-widgets/base",
          "model_name": "LayoutModel",
          "state": {
            "_view_name": "LayoutView",
            "grid_template_rows": null,
            "right": null,
            "justify_content": null,
            "_view_module": "@jupyter-widgets/base",
            "overflow": null,
            "_model_module_version": "1.2.0",
            "_view_count": null,
            "flex_flow": null,
            "width": null,
            "min_width": null,
            "border": null,
            "align_items": null,
            "bottom": null,
            "_model_module": "@jupyter-widgets/base",
            "top": null,
            "grid_column": null,
            "overflow_y": null,
            "overflow_x": null,
            "grid_auto_flow": null,
            "grid_area": null,
            "grid_template_columns": null,
            "flex": null,
            "_model_name": "LayoutModel",
            "justify_items": null,
            "grid_row": null,
            "max_height": null,
            "align_content": null,
            "visibility": null,
            "align_self": null,
            "height": null,
            "min_height": null,
            "padding": null,
            "grid_auto_rows": null,
            "grid_gap": null,
            "max_width": null,
            "order": null,
            "_view_module_version": "1.2.0",
            "grid_template_areas": null,
            "object_position": null,
            "object_fit": null,
            "grid_auto_columns": null,
            "margin": null,
            "display": null,
            "left": null
          }
        }
      }
    }
  },
  "cells": [
    {
      "cell_type": "markdown",
      "metadata": {
        "id": "view-in-github",
        "colab_type": "text"
      },
      "source": [
        "<a href=\"https://colab.research.google.com/github/n23950629/My-python-work/blob/master/CNN%E6%89%8B%E5%AF%AB%E8%BE%A8%E8%AD%98.ipynb\" target=\"_parent\"><img src=\"https://colab.research.google.com/assets/colab-badge.svg\" alt=\"Open In Colab\"/></a>"
      ]
    },
    {
      "cell_type": "code",
      "metadata": {
        "id": "wJE9fy6-TDJZ",
        "colab_type": "code",
        "colab": {}
      },
      "source": [
        "%matplotlib inline\n",
        "\n",
        "import numpy as np\n",
        "import matplotlib.pyplot as plt\n",
        "import pandas as pd\n",
        "\n",
        "%tensorflow_version 2.x\n"
      ],
      "execution_count": 0,
      "outputs": []
    },
    {
      "cell_type": "code",
      "metadata": {
        "id": "GJSYwLXtTyGT",
        "colab_type": "code",
        "colab": {}
      },
      "source": [
        "from tensorflow.keras.datasets import mnist"
      ],
      "execution_count": 0,
      "outputs": []
    },
    {
      "cell_type": "code",
      "metadata": {
        "id": "mwY0NGqjUXEF",
        "colab_type": "code",
        "colab": {}
      },
      "source": [
        "(x_train, y_train),(x_test, y_test) = mnist.load_data()"
      ],
      "execution_count": 0,
      "outputs": []
    },
    {
      "cell_type": "code",
      "metadata": {
        "id": "qmhMqsT4Uh9V",
        "colab_type": "code",
        "colab": {
          "base_uri": "https://localhost:8080/",
          "height": 34
        },
        "outputId": "3ecdc26a-f90f-40f9-9290-fa77415be967"
      },
      "source": [
        "x_train.shape   #六萬筆資料，大小為28x28"
      ],
      "execution_count": 46,
      "outputs": [
        {
          "output_type": "execute_result",
          "data": {
            "text/plain": [
              "(60000, 28, 28)"
            ]
          },
          "metadata": {
            "tags": []
          },
          "execution_count": 46
        }
      ]
    },
    {
      "cell_type": "markdown",
      "metadata": {
        "id": "VImhPHsxVnL9",
        "colab_type": "text"
      },
      "source": [
        "### 一個channel，所以(28,28) --> (28,28,1)"
      ]
    },
    {
      "cell_type": "code",
      "metadata": {
        "id": "cG9szY2xXG4J",
        "colab_type": "code",
        "colab": {}
      },
      "source": [
        "x_train = x_train.reshape(60000,28,28,1) / 255"
      ],
      "execution_count": 0,
      "outputs": []
    },
    {
      "cell_type": "code",
      "metadata": {
        "id": "CLg85mmMXV61",
        "colab_type": "code",
        "colab": {}
      },
      "source": [
        "x_test = x_test.reshape(10000,28,28,1) / 255"
      ],
      "execution_count": 0,
      "outputs": []
    },
    {
      "cell_type": "code",
      "metadata": {
        "id": "JxSwheBNX2qb",
        "colab_type": "code",
        "colab": {
          "base_uri": "https://localhost:8080/",
          "height": 34
        },
        "outputId": "23e0c053-cf29-4e08-f2a3-75cc72235af5"
      },
      "source": [
        "x_train[87].shape  #28x28x1"
      ],
      "execution_count": 49,
      "outputs": [
        {
          "output_type": "execute_result",
          "data": {
            "text/plain": [
              "(28, 28, 1)"
            ]
          },
          "metadata": {
            "tags": []
          },
          "execution_count": 49
        }
      ]
    },
    {
      "cell_type": "code",
      "metadata": {
        "id": "TzqybYVbX-gv",
        "colab_type": "code",
        "colab": {
          "base_uri": "https://localhost:8080/",
          "height": 34
        },
        "outputId": "8fa62054-6219-47e4-c842-e9c36cec85b5"
      },
      "source": [
        "y_train[87]"
      ],
      "execution_count": 50,
      "outputs": [
        {
          "output_type": "execute_result",
          "data": {
            "text/plain": [
              "9"
            ]
          },
          "metadata": {
            "tags": []
          },
          "execution_count": 50
        }
      ]
    },
    {
      "cell_type": "code",
      "metadata": {
        "id": "GRQr_nhiYGJD",
        "colab_type": "code",
        "colab": {}
      },
      "source": [
        "from tensorflow.keras.utils import to_categorical"
      ],
      "execution_count": 0,
      "outputs": []
    },
    {
      "cell_type": "code",
      "metadata": {
        "id": "x9ph2v34YS1k",
        "colab_type": "code",
        "colab": {}
      },
      "source": [
        "y_train = to_categorical(y_train, 10)\n",
        "y_test = to_categorical(y_test, 10)   #10種資料"
      ],
      "execution_count": 0,
      "outputs": []
    },
    {
      "cell_type": "markdown",
      "metadata": {
        "id": "1sWcbMDeYbe2",
        "colab_type": "text"
      },
      "source": [
        "### 讀入必要的函式"
      ]
    },
    {
      "cell_type": "code",
      "metadata": {
        "id": "Wh-zSjzebeoT",
        "colab_type": "code",
        "colab": {}
      },
      "source": [
        "from tensorflow.keras.models import Sequential\n",
        "from tensorflow.keras.layers import Conv2D, MaxPooling2D\n",
        "from tensorflow.keras.layers import Dense, Flatten\n",
        "from tensorflow.keras.optimizers import  SGD"
      ],
      "execution_count": 0,
      "outputs": []
    },
    {
      "cell_type": "markdown",
      "metadata": {
        "id": "jTRUfzY2bg4d",
        "colab_type": "text"
      },
      "source": [
        "### Step1. 打造函數學習機(CNN)"
      ]
    },
    {
      "cell_type": "code",
      "metadata": {
        "id": "QVe3fs28c1n0",
        "colab_type": "code",
        "colab": {}
      },
      "source": [
        "model = Sequential()"
      ],
      "execution_count": 0,
      "outputs": []
    },
    {
      "cell_type": "code",
      "metadata": {
        "id": "klMMKrU1gwrT",
        "colab_type": "code",
        "colab": {}
      },
      "source": [
        "model.add(Conv2D(16,(3,3), padding=\"same\",\n",
        "                input_shape=(28,28,1),\n",
        "                 activation=\"relu\"))"
      ],
      "execution_count": 0,
      "outputs": []
    },
    {
      "cell_type": "code",
      "metadata": {
        "id": "GZJcK2FKhI6P",
        "colab_type": "code",
        "colab": {}
      },
      "source": [
        "# 輸入 16 個 28X28 矩陣\n",
        "# 事實上是 (28,28,16)"
      ],
      "execution_count": 0,
      "outputs": []
    },
    {
      "cell_type": "code",
      "metadata": {
        "id": "kzs0S41Lhcfg",
        "colab_type": "code",
        "colab": {}
      },
      "source": [
        "model.add(MaxPooling2D(pool_size=(2,2)))"
      ],
      "execution_count": 0,
      "outputs": []
    },
    {
      "cell_type": "code",
      "metadata": {
        "id": "3b53oDMzhowq",
        "colab_type": "code",
        "colab": {}
      },
      "source": [
        "# (14,14,16)"
      ],
      "execution_count": 0,
      "outputs": []
    },
    {
      "cell_type": "code",
      "metadata": {
        "id": "MFRwoFIJh6_h",
        "colab_type": "code",
        "colab": {}
      },
      "source": [
        "model.add(Conv2D(32,(3,3), padding=\"same\",\n",
        "                 activation=\"relu\"))"
      ],
      "execution_count": 0,
      "outputs": []
    },
    {
      "cell_type": "code",
      "metadata": {
        "id": "G6w8QyhMiHag",
        "colab_type": "code",
        "colab": {}
      },
      "source": [
        "# output (14, 14, 32)"
      ],
      "execution_count": 0,
      "outputs": []
    },
    {
      "cell_type": "code",
      "metadata": {
        "id": "hsxn5vgAiWdW",
        "colab_type": "code",
        "colab": {}
      },
      "source": [
        "model.add(MaxPooling2D(pool_size=(2,2)))"
      ],
      "execution_count": 0,
      "outputs": []
    },
    {
      "cell_type": "code",
      "metadata": {
        "id": "r6CGu197ijOc",
        "colab_type": "code",
        "colab": {}
      },
      "source": [
        "# output (7,7,32)"
      ],
      "execution_count": 0,
      "outputs": []
    },
    {
      "cell_type": "code",
      "metadata": {
        "id": "bAR3NRhSivIq",
        "colab_type": "code",
        "colab": {}
      },
      "source": [
        "model.add(Conv2D(64,(3,3),padding='same',\n",
        "                 activation='relu'))"
      ],
      "execution_count": 0,
      "outputs": []
    },
    {
      "cell_type": "code",
      "metadata": {
        "id": "DgQCw4dsi4Hn",
        "colab_type": "code",
        "colab": {}
      },
      "source": [
        "model.add(MaxPooling2D(pool_size=(2,2)))"
      ],
      "execution_count": 0,
      "outputs": []
    },
    {
      "cell_type": "code",
      "metadata": {
        "id": "M6NfWjmMi9iQ",
        "colab_type": "code",
        "colab": {}
      },
      "source": [
        "model.add(Flatten())"
      ],
      "execution_count": 0,
      "outputs": []
    },
    {
      "cell_type": "code",
      "metadata": {
        "id": "uhTN8EF6kge5",
        "colab_type": "code",
        "colab": {}
      },
      "source": [
        "model.add(Dense(54, activation='relu'))"
      ],
      "execution_count": 0,
      "outputs": []
    },
    {
      "cell_type": "code",
      "metadata": {
        "id": "GIhGS-ZUkmeD",
        "colab_type": "code",
        "colab": {}
      },
      "source": [
        "model.add(Dense(10, activation='softmax'))"
      ],
      "execution_count": 0,
      "outputs": []
    },
    {
      "cell_type": "markdown",
      "metadata": {
        "id": "z3048hIKkwb1",
        "colab_type": "text"
      },
      "source": [
        "### 看一下我們的神經網路"
      ]
    },
    {
      "cell_type": "code",
      "metadata": {
        "id": "W125XhH0k6_w",
        "colab_type": "code",
        "colab": {
          "base_uri": "https://localhost:8080/",
          "height": 454
        },
        "outputId": "db1448bb-c214-469f-e3bf-8c3b0d221c3f"
      },
      "source": [
        "model.summary()"
      ],
      "execution_count": 68,
      "outputs": [
        {
          "output_type": "stream",
          "text": [
            "Model: \"sequential_1\"\n",
            "_________________________________________________________________\n",
            "Layer (type)                 Output Shape              Param #   \n",
            "=================================================================\n",
            "conv2d_3 (Conv2D)            (None, 28, 28, 16)        160       \n",
            "_________________________________________________________________\n",
            "max_pooling2d_3 (MaxPooling2 (None, 14, 14, 16)        0         \n",
            "_________________________________________________________________\n",
            "conv2d_4 (Conv2D)            (None, 14, 14, 32)        4640      \n",
            "_________________________________________________________________\n",
            "max_pooling2d_4 (MaxPooling2 (None, 7, 7, 32)          0         \n",
            "_________________________________________________________________\n",
            "conv2d_5 (Conv2D)            (None, 7, 7, 64)          18496     \n",
            "_________________________________________________________________\n",
            "max_pooling2d_5 (MaxPooling2 (None, 3, 3, 64)          0         \n",
            "_________________________________________________________________\n",
            "flatten_1 (Flatten)          (None, 576)               0         \n",
            "_________________________________________________________________\n",
            "dense_2 (Dense)              (None, 54)                31158     \n",
            "_________________________________________________________________\n",
            "dense_3 (Dense)              (None, 10)                550       \n",
            "=================================================================\n",
            "Total params: 55,004\n",
            "Trainable params: 55,004\n",
            "Non-trainable params: 0\n",
            "_________________________________________________________________\n"
          ],
          "name": "stdout"
        }
      ]
    },
    {
      "cell_type": "code",
      "metadata": {
        "id": "YpGDZiQJlS0r",
        "colab_type": "code",
        "colab": {
          "base_uri": "https://localhost:8080/",
          "height": 34
        },
        "outputId": "810308c8-d2d1-4995-d1a1-e9b40eddbe68"
      },
      "source": [
        "# 3*3 (權重) + 1 (bias)\n",
        "(3*3+1)*16"
      ],
      "execution_count": 69,
      "outputs": [
        {
          "output_type": "execute_result",
          "data": {
            "text/plain": [
              "160"
            ]
          },
          "metadata": {
            "tags": []
          },
          "execution_count": 69
        }
      ]
    },
    {
      "cell_type": "code",
      "metadata": {
        "id": "tG7xelaxnywu",
        "colab_type": "code",
        "colab": {
          "base_uri": "https://localhost:8080/",
          "height": 34
        },
        "outputId": "cd8f7bf2-3486-4b77-d04f-03843ba9a179"
      },
      "source": [
        "#\n",
        "\n",
        "(3*3*16+1)*32"
      ],
      "execution_count": 70,
      "outputs": [
        {
          "output_type": "execute_result",
          "data": {
            "text/plain": [
              "4640"
            ]
          },
          "metadata": {
            "tags": []
          },
          "execution_count": 70
        }
      ]
    },
    {
      "cell_type": "code",
      "metadata": {
        "id": "D0dyiKpboY6T",
        "colab_type": "code",
        "colab": {}
      },
      "source": [
        "model.compile(loss='mse',optimizer=SGD(lr=0.087),\n",
        "              metrics=['accuracy'])"
      ],
      "execution_count": 0,
      "outputs": []
    },
    {
      "cell_type": "markdown",
      "metadata": {
        "id": "aZGg9lMAos4h",
        "colab_type": "text"
      },
      "source": [
        "### step 2. fit"
      ]
    },
    {
      "cell_type": "code",
      "metadata": {
        "id": "J4NM-I48ov3D",
        "colab_type": "code",
        "colab": {
          "base_uri": "https://localhost:8080/",
          "height": 437
        },
        "outputId": "058f28bc-6276-42b7-fda3-2f6e975c1cf9"
      },
      "source": [
        "model.fit(x_train, y_train, batch_size=128, epochs=12)"
      ],
      "execution_count": 72,
      "outputs": [
        {
          "output_type": "stream",
          "text": [
            "Epoch 1/12\n",
            "469/469 [==============================] - 41s 88ms/step - loss: 0.0895 - accuracy: 0.1540\n",
            "Epoch 2/12\n",
            "469/469 [==============================] - 41s 88ms/step - loss: 0.0866 - accuracy: 0.3369\n",
            "Epoch 3/12\n",
            "469/469 [==============================] - 41s 88ms/step - loss: 0.0602 - accuracy: 0.5855\n",
            "Epoch 4/12\n",
            "469/469 [==============================] - 41s 88ms/step - loss: 0.0252 - accuracy: 0.8395\n",
            "Epoch 5/12\n",
            "469/469 [==============================] - 41s 88ms/step - loss: 0.0161 - accuracy: 0.8956\n",
            "Epoch 6/12\n",
            "469/469 [==============================] - 41s 88ms/step - loss: 0.0126 - accuracy: 0.9182\n",
            "Epoch 7/12\n",
            "469/469 [==============================] - 41s 88ms/step - loss: 0.0105 - accuracy: 0.9318\n",
            "Epoch 8/12\n",
            "469/469 [==============================] - 41s 88ms/step - loss: 0.0090 - accuracy: 0.9413\n",
            "Epoch 9/12\n",
            "469/469 [==============================] - 42s 90ms/step - loss: 0.0081 - accuracy: 0.9485\n",
            "Epoch 10/12\n",
            "469/469 [==============================] - 42s 89ms/step - loss: 0.0073 - accuracy: 0.9530\n",
            "Epoch 11/12\n",
            "469/469 [==============================] - 42s 89ms/step - loss: 0.0066 - accuracy: 0.9573\n",
            "Epoch 12/12\n",
            "469/469 [==============================] - 42s 89ms/step - loss: 0.0061 - accuracy: 0.9609\n"
          ],
          "name": "stdout"
        },
        {
          "output_type": "execute_result",
          "data": {
            "text/plain": [
              "<tensorflow.python.keras.callbacks.History at 0x7f1c5531d9b0>"
            ]
          },
          "metadata": {
            "tags": []
          },
          "execution_count": 72
        }
      ]
    },
    {
      "cell_type": "markdown",
      "metadata": {
        "id": "6qHF7XCypAto",
        "colab_type": "text"
      },
      "source": [
        "### step3. 預測"
      ]
    },
    {
      "cell_type": "code",
      "metadata": {
        "id": "KubJ4D-KrxH1",
        "colab_type": "code",
        "colab": {
          "base_uri": "https://localhost:8080/",
          "height": 87
        },
        "outputId": "a59bfe8f-cbbd-4991-f0be-fe69828e30c3"
      },
      "source": [
        "result = model.predict_classes(x_test)"
      ],
      "execution_count": 73,
      "outputs": [
        {
          "output_type": "stream",
          "text": [
            "WARNING:tensorflow:From <ipython-input-73-63af5bb2f9b6>:1: Sequential.predict_classes (from tensorflow.python.keras.engine.sequential) is deprecated and will be removed after 2021-01-01.\n",
            "Instructions for updating:\n",
            "Please use instead:* `np.argmax(model.predict(x), axis=-1)`,   if your model does multi-class classification   (e.g. if it uses a `softmax` last-layer activation).* `(model.predict(x) > 0.5).astype(\"int32\")`,   if your model does binary classification   (e.g. if it uses a `sigmoid` last-layer activation).\n"
          ],
          "name": "stdout"
        }
      ]
    },
    {
      "cell_type": "code",
      "metadata": {
        "id": "-Ak9SzMer0d3",
        "colab_type": "code",
        "colab": {}
      },
      "source": [
        "def my_predict(n):\n",
        "\n",
        "    print('我可愛的CNN預測是', result[n])\n",
        "    X = x_test[n].reshape(28,28)\n",
        "    plt.imshow(X, cmap='Greys')"
      ],
      "execution_count": 0,
      "outputs": []
    },
    {
      "cell_type": "code",
      "metadata": {
        "id": "bHvL1LdisBLZ",
        "colab_type": "code",
        "colab": {}
      },
      "source": [
        "from ipywidgets import interact_manual"
      ],
      "execution_count": 0,
      "outputs": []
    },
    {
      "cell_type": "code",
      "metadata": {
        "id": "UbI7pI1ksEJ4",
        "colab_type": "code",
        "colab": {
          "base_uri": "https://localhost:8080/",
          "height": 362,
          "referenced_widgets": [
            "6230f1c06dd34e85a328a6135cf924ed",
            "172b6937b5dc442e887816c6aa467bc8",
            "13d4591bd8f6417a92854a84980489ef",
            "a250ace4eff24593ad80ba641ce5e5b9",
            "5d9e14824efe463c884b99725f3594ce",
            "2ad992d4ce4c460098b672a2939c9175",
            "3e2c5edb654a4e9791a2b4611698f57d",
            "03ae9effcddf4e3f9ded2df0ded4c9c3",
            "52463beee5cc402396a65cff3867bb0f"
          ]
        },
        "outputId": "04078283-db01-49fb-eea3-cdc130901bd4"
      },
      "source": [
        "interact_manual(my_predict, n=(0,9999))"
      ],
      "execution_count": 76,
      "outputs": [
        {
          "output_type": "display_data",
          "data": {
            "application/vnd.jupyter.widget-view+json": {
              "model_id": "6230f1c06dd34e85a328a6135cf924ed",
              "version_minor": 0,
              "version_major": 2
            },
            "text/plain": [
              "interactive(children=(IntSlider(value=4999, description='n', max=9999), Button(description='Run Interact', sty…"
            ]
          },
          "metadata": {
            "tags": []
          }
        },
        {
          "output_type": "execute_result",
          "data": {
            "text/plain": [
              "<function __main__.my_predict>"
            ]
          },
          "metadata": {
            "tags": []
          },
          "execution_count": 76
        }
      ]
    },
    {
      "cell_type": "code",
      "metadata": {
        "id": "vMtAwutHsGAP",
        "colab_type": "code",
        "colab": {
          "base_uri": "https://localhost:8080/",
          "height": 34
        },
        "outputId": "755255c0-9da4-4088-f461-a80c579f1dd8"
      },
      "source": [
        "score = model.evaluate(x_test, y_test)"
      ],
      "execution_count": 77,
      "outputs": [
        {
          "output_type": "stream",
          "text": [
            "313/313 [==============================] - 3s 10ms/step - loss: 0.0059 - accuracy: 0.9615\n"
          ],
          "name": "stdout"
        }
      ]
    },
    {
      "cell_type": "code",
      "metadata": {
        "id": "qjRZ5PJNu-No",
        "colab_type": "code",
        "colab": {}
      },
      "source": [
        "loss ,acc =score"
      ],
      "execution_count": 0,
      "outputs": []
    },
    {
      "cell_type": "code",
      "metadata": {
        "id": "hmX2SpfnvD6T",
        "colab_type": "code",
        "colab": {
          "base_uri": "https://localhost:8080/",
          "height": 34
        },
        "outputId": "8e3c7c33-2d77-42fa-b180-2257228c31b2"
      },
      "source": [
        "print('測試資料的正確率為', acc)"
      ],
      "execution_count": 80,
      "outputs": [
        {
          "output_type": "stream",
          "text": [
            "測試資料的正確率為 0.9614999890327454\n"
          ],
          "name": "stdout"
        }
      ]
    },
    {
      "cell_type": "markdown",
      "metadata": {
        "id": "2fV4S1GqvIot",
        "colab_type": "text"
      },
      "source": [
        "### 把我們的 model 存起來"
      ]
    },
    {
      "cell_type": "code",
      "metadata": {
        "id": "v3pH-89QwAwG",
        "colab_type": "code",
        "colab": {}
      },
      "source": [
        "from google.colab import drive"
      ],
      "execution_count": 0,
      "outputs": []
    },
    {
      "cell_type": "code",
      "metadata": {
        "id": "er9vg82PwMqa",
        "colab_type": "code",
        "colab": {
          "base_uri": "https://localhost:8080/",
          "height": 121
        },
        "outputId": "83983e4a-2135-4b87-de32-58e30c6c9308"
      },
      "source": [
        "drive.mount('/content/drive')"
      ],
      "execution_count": 83,
      "outputs": [
        {
          "output_type": "stream",
          "text": [
            "Go to this URL in a browser: https://accounts.google.com/o/oauth2/auth?client_id=947318989803-6bn6qk8qdgf4n4g3pfee6491hc0brc4i.apps.googleusercontent.com&redirect_uri=urn%3aietf%3awg%3aoauth%3a2.0%3aoob&response_type=code&scope=email%20https%3a%2f%2fwww.googleapis.com%2fauth%2fdocs.test%20https%3a%2f%2fwww.googleapis.com%2fauth%2fdrive%20https%3a%2f%2fwww.googleapis.com%2fauth%2fdrive.photos.readonly%20https%3a%2f%2fwww.googleapis.com%2fauth%2fpeopleapi.readonly\n",
            "\n",
            "Enter your authorization code:\n",
            "··········\n",
            "Mounted at /content/drive\n"
          ],
          "name": "stdout"
        }
      ]
    },
    {
      "cell_type": "code",
      "metadata": {
        "id": "BZxeng_D0t9x",
        "colab_type": "code",
        "colab": {
          "base_uri": "https://localhost:8080/",
          "height": 34
        },
        "outputId": "7d9ec81d-8840-471b-dc10-eb506d10a1d9"
      },
      "source": [
        "%ls /content/drive"
      ],
      "execution_count": 84,
      "outputs": [
        {
          "output_type": "stream",
          "text": [
            "\u001b[0m\u001b[01;34m'My Drive'\u001b[0m/\n"
          ],
          "name": "stdout"
        }
      ]
    },
    {
      "cell_type": "code",
      "metadata": {
        "id": "mRpCxWVs1M3-",
        "colab_type": "code",
        "colab": {
          "base_uri": "https://localhost:8080/",
          "height": 34
        },
        "outputId": "b99678fd-6818-412d-a726-66be20e6bda4"
      },
      "source": [
        "%cd /content/drive/My\\ Drive"
      ],
      "execution_count": 85,
      "outputs": [
        {
          "output_type": "stream",
          "text": [
            "/content/drive/My Drive\n"
          ],
          "name": "stdout"
        }
      ]
    },
    {
      "cell_type": "code",
      "metadata": {
        "id": "8UeH_HYW1V3P",
        "colab_type": "code",
        "colab": {}
      },
      "source": [
        "!mkdir my_ai_data"
      ],
      "execution_count": 0,
      "outputs": []
    },
    {
      "cell_type": "code",
      "metadata": {
        "id": "c10LsBKk1lkT",
        "colab_type": "code",
        "colab": {
          "base_uri": "https://localhost:8080/",
          "height": 34
        },
        "outputId": "f076985b-3356-41a1-db07-0ca9aa1deb4a"
      },
      "source": [
        "%cd my_ai_data"
      ],
      "execution_count": 87,
      "outputs": [
        {
          "output_type": "stream",
          "text": [
            "/content/drive/My Drive/my_ai_data\n"
          ],
          "name": "stdout"
        }
      ]
    },
    {
      "cell_type": "code",
      "metadata": {
        "id": "sOcAycys14Kc",
        "colab_type": "code",
        "colab": {}
      },
      "source": [
        "%ls"
      ],
      "execution_count": 0,
      "outputs": []
    },
    {
      "cell_type": "code",
      "metadata": {
        "id": "qEP3oFRD16gO",
        "colab_type": "code",
        "colab": {}
      },
      "source": [
        "model.save('myCNNmodel.h5')"
      ],
      "execution_count": 0,
      "outputs": []
    },
    {
      "cell_type": "code",
      "metadata": {
        "id": "0WXRD7XD2AQM",
        "colab_type": "code",
        "colab": {}
      },
      "source": [
        ""
      ],
      "execution_count": 0,
      "outputs": []
    }
  ]
}