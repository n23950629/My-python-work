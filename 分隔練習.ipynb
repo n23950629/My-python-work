{
 "cells": [
  {
   "cell_type": "code",
   "execution_count": 13,
   "metadata": {},
   "outputs": [
    {
     "name": "stdout",
     "output_type": "stream",
     "text": [
      "False\n",
      "Hello! I am Linda\n",
      "['Hello!', 'I', 'am', 'Linda']\n",
      "Hello!~~~~I~~~~am~~~~Linda\n"
     ]
    }
   ],
   "source": [
    "str1 = 'Hello!'\n",
    "str2 = str1\n",
    "str2 += ' I am Linda'\n",
    "print(str2 is str1)\n",
    "\n",
    "print(str2)\n",
    "A = str2.split(' ')\n",
    "print(A)\n",
    "B = '~~~~'.join(A)\n",
    "print(B)"
   ]
  },
  {
   "cell_type": "code",
   "execution_count": null,
   "metadata": {},
   "outputs": [],
   "source": []
  }
 ],
 "metadata": {
  "kernelspec": {
   "display_name": "Python 3",
   "language": "python",
   "name": "python3"
  },
  "language_info": {
   "codemirror_mode": {
    "name": "ipython",
    "version": 3
   },
   "file_extension": ".py",
   "mimetype": "text/x-python",
   "name": "python",
   "nbconvert_exporter": "python",
   "pygments_lexer": "ipython3",
   "version": "3.7.3"
  }
 },
 "nbformat": 4,
 "nbformat_minor": 2
}
