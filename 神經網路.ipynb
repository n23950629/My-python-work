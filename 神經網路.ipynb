{
  "nbformat": 4,
  "nbformat_minor": 0,
  "metadata": {
    "colab": {
      "name": "神經網路.ipynb",
      "provenance": [],
      "collapsed_sections": [],
      "authorship_tag": "ABX9TyO9USWrNBdEplfDtsU2EkhM",
      "include_colab_link": true
    },
    "kernelspec": {
      "name": "python3",
      "display_name": "Python 3"
    },
    "accelerator": "TPU"
  },
  "cells": [
    {
      "cell_type": "markdown",
      "metadata": {
        "id": "view-in-github",
        "colab_type": "text"
      },
      "source": [
        "<a href=\"https://colab.research.google.com/github/n23950629/My-python-work/blob/master/%E7%A5%9E%E7%B6%93%E7%B6%B2%E8%B7%AF.ipynb\" target=\"_parent\"><img src=\"https://colab.research.google.com/assets/colab-badge.svg\" alt=\"Open In Colab\"/></a>"
      ]
    },
    {
      "cell_type": "code",
      "metadata": {
        "id": "mA3XuSMxRsy_",
        "colab_type": "code",
        "colab": {}
      },
      "source": [
        "%tensorflow_version 2.x"
      ],
      "execution_count": 0,
      "outputs": []
    },
    {
      "cell_type": "code",
      "metadata": {
        "id": "m8b1dia3RLLF",
        "colab_type": "code",
        "outputId": "7c758ab1-bf4d-444a-d857-e20e5d2a1b0f",
        "colab": {
          "base_uri": "https://localhost:8080/",
          "height": 84
        }
      },
      "source": [
        "%tensorflow_version\n",
        "%matplotlib inline\n",
        "import numpy as np\n",
        "import matplotlib.pyplot as plt\n",
        "\n"
      ],
      "execution_count": 0,
      "outputs": [
        {
          "output_type": "stream",
          "text": [
            "Currently selected TF version: 2.x\n",
            "Available versions:\n",
            "* 1.x\n",
            "* 2.x\n"
          ],
          "name": "stdout"
        }
      ]
    },
    {
      "cell_type": "markdown",
      "metadata": {
        "id": "hGdHa_PpRx90",
        "colab_type": "text"
      },
      "source": [
        "### 讀入標準套件"
      ]
    },
    {
      "cell_type": "code",
      "metadata": {
        "id": "NgDxjdTYSPXu",
        "colab_type": "code",
        "colab": {}
      },
      "source": [
        "%matplotlib inline\n",
        "\n",
        "import numpy as np\n",
        "import matplotlib.pyplot as plt"
      ],
      "execution_count": 0,
      "outputs": []
    },
    {
      "cell_type": "code",
      "metadata": {
        "id": "chQZiSNuSZMN",
        "colab_type": "code",
        "colab": {}
      },
      "source": [
        "import tensorflow as tf"
      ],
      "execution_count": 0,
      "outputs": []
    },
    {
      "cell_type": "code",
      "metadata": {
        "id": "JSj2f1puSiKO",
        "colab_type": "code",
        "colab": {}
      },
      "source": [
        "from tensorflow.keras.datasets import fashion_mnist"
      ],
      "execution_count": 0,
      "outputs": []
    },
    {
      "cell_type": "code",
      "metadata": {
        "id": "kig86P5WSphy",
        "colab_type": "code",
        "colab": {}
      },
      "source": [
        "(x_train , y_train),(x_test, y_test)=fashion_mnist.load_data()"
      ],
      "execution_count": 0,
      "outputs": []
    },
    {
      "cell_type": "markdown",
      "metadata": {
        "id": "ftpK6sKJUPL8",
        "colab_type": "text"
      },
      "source": [
        "### 看數據內容"
      ]
    },
    {
      "cell_type": "code",
      "metadata": {
        "id": "ZAeEc6yaYrF2",
        "colab_type": "code",
        "colab": {}
      },
      "source": [
        "class_names = ['T-shirt','Trouser','Pullover','Dress','Coat','Sandal','Shirt','Sneaker','Bag','Ankle boot'] "
      ],
      "execution_count": 0,
      "outputs": []
    },
    {
      "cell_type": "code",
      "metadata": {
        "id": "vDPO8_ZCc_ZY",
        "colab_type": "code",
        "colab": {}
      },
      "source": [
        "n=9487"
      ],
      "execution_count": 0,
      "outputs": []
    },
    {
      "cell_type": "code",
      "metadata": {
        "id": "FIsYqd2QSyTG",
        "colab_type": "code",
        "outputId": "33391806-0b9a-46cf-f462-3c6360624d3f",
        "colab": {
          "base_uri": "https://localhost:8080/",
          "height": 1000
        }
      },
      "source": [
        "x_train[n]"
      ],
      "execution_count": 0,
      "outputs": [
        {
          "output_type": "execute_result",
          "data": {
            "text/plain": [
              "array([[  0,   0,   0,   0,   0,   0,   0,   0,   1,   0,  79, 116,  76,\n",
              "         28,  61, 116, 123,  52,   0,   0,   0,   0,   0,   0,   0,   0,\n",
              "          0,   0],\n",
              "       [  0,   0,   0,   0,   0,   0,   0,   0,   0,  87, 174, 166, 178,\n",
              "        107, 150, 150, 167, 157,  20,   0,   0,   0,   0,   0,   0,   0,\n",
              "          0,   0],\n",
              "       [  0,   0,   0,   0,   0,   0,   0,   0,   0,  88, 130, 148, 151,\n",
              "         84, 131, 159, 134, 123,  21,   0,   0,   0,   0,   0,   0,   0,\n",
              "          0,   0],\n",
              "       [  0,   0,   0,   0,   0,   0,   0,   0,   0,  97, 120, 111, 139,\n",
              "        163, 155, 111, 110, 139,  28,   0,   0,   0,   0,   0,   0,   0,\n",
              "          0,   0],\n",
              "       [  0,   0,   0,   0,   0,   0,   0,   0,   0,  99, 126, 112,  99,\n",
              "         97, 103, 108, 107, 139,  32,   0,   0,   0,   0,   0,   0,   0,\n",
              "          0,   0],\n",
              "       [  0,   0,   0,   0,   0,   0,   0,   0,   0, 106, 119, 104, 102,\n",
              "        111, 110, 103,  96, 136,  36,   0,   0,   0,   0,   0,   0,   0,\n",
              "          0,   0],\n",
              "       [  0,   0,   0,   0,   0,   0,   0,   0,   0, 110, 116,  93,  96,\n",
              "         96,  97,  92,  93, 138,  41,   0,   0,   0,   0,   0,   0,   0,\n",
              "          0,   0],\n",
              "       [  0,   0,   0,   0,   0,   0,   0,   0,   0, 112, 115,  95,  91,\n",
              "         96, 100,  96,  96, 143,  49,   0,   0,   0,   0,   0,   0,   0,\n",
              "          0,   0],\n",
              "       [  0,   0,   0,   0,   0,   0,   0,   0,   0, 122, 111,  93,  95,\n",
              "         97, 100,  97,  93, 135,  60,   0,   0,   0,   0,   0,   0,   0,\n",
              "          0,   0],\n",
              "       [  0,   0,   0,   0,   0,   0,   0,   0,   1, 128, 108,  95,  96,\n",
              "         95,  95,  93,  92, 128,  95,   0,   0,   0,   0,   0,   0,   0,\n",
              "          0,   0],\n",
              "       [  0,   0,   0,   0,   0,   0,   0,   0,  71, 130, 103,  97,  93,\n",
              "         93,  91,  92,  92, 111, 138,  20,   0,   0,   0,   0,   0,   0,\n",
              "          0,   0],\n",
              "       [  0,   0,   0,   0,   0,   0,   0,   0, 120, 122, 107,  97,  92,\n",
              "         97,  92,  96,  96, 111, 144,  59,   0,   0,   0,   0,   0,   0,\n",
              "          0,   0],\n",
              "       [  0,   0,   0,   0,   0,   0,   0,   0, 112, 119, 106,  99,  93,\n",
              "         95,  92,  92,  96, 103, 146,  48,   0,   0,   0,   0,   0,   0,\n",
              "          0,   0],\n",
              "       [  0,   0,   0,   0,   0,   0,   0,   0, 107, 119, 110,  97,  93,\n",
              "         92,  99,  92,  95, 103, 150,  56,   0,   0,   0,   0,   0,   0,\n",
              "          0,   0],\n",
              "       [  0,   0,   0,   0,   0,   0,   0,   0,  97, 116, 116,  95,  92,\n",
              "         96,  99,  92,  99, 102, 144,  52,   0,   0,   0,   0,   0,   0,\n",
              "          0,   0],\n",
              "       [  0,   0,   0,   0,   0,   0,   0,   0,  95, 116, 118, 100,  93,\n",
              "         96,  92,  96, 100, 102, 136,  51,   0,   0,   0,   0,   0,   0,\n",
              "          0,   0],\n",
              "       [  0,   0,   0,   0,   0,   0,   0,   0, 107, 119, 112, 103,  92,\n",
              "         95,  93,  97,  99,  97, 126,  59,   0,   0,   0,   0,   0,   0,\n",
              "          0,   0],\n",
              "       [  0,   0,   0,   0,   0,   0,   0,   0, 124, 116, 115, 112, 102,\n",
              "         99,  96,  99, 100,  95, 126,  63,   0,   0,   0,   0,   0,   0,\n",
              "          0,   0],\n",
              "       [  0,   0,   0,   0,   0,   0,   0,   0, 127, 112, 114, 114, 103,\n",
              "        102, 102, 102,  99,  99, 132,  55,   0,   0,   0,   0,   0,   0,\n",
              "          0,   0],\n",
              "       [  0,   0,   0,   0,   0,   0,   0,   0, 127, 110, 116, 114, 102,\n",
              "         99, 103, 103, 100, 102, 124,  52,   0,   0,   0,   0,   0,   0,\n",
              "          0,   0],\n",
              "       [  0,   0,   0,   0,   0,   0,   0,   0, 130, 110, 115, 112, 104,\n",
              "        100,  97, 103, 107,  91, 159,  68,   0,   0,   0,   0,   0,   0,\n",
              "          0,   0],\n",
              "       [  0,   0,   0,   0,   0,   0,   0,   0, 130, 110, 107, 118, 108,\n",
              "        102,  97, 107, 115,  92, 175,  67,   0,   0,   0,   0,   0,   0,\n",
              "          0,   0],\n",
              "       [  0,   0,   0,   0,   0,   0,   0,   0, 128, 118, 104, 123, 107,\n",
              "        106, 104, 110, 111, 100, 134,  53,   0,   0,   0,   0,   0,   0,\n",
              "          0,   0],\n",
              "       [  0,   0,   0,   0,   0,   0,   0,   0, 130, 119, 106, 124, 110,\n",
              "        110, 108, 110, 110, 106, 135,  73,   0,   0,   0,   0,   0,   0,\n",
              "          0,   0],\n",
              "       [  0,   0,   0,   0,   0,   0,   0,   0, 127, 107, 115, 136, 119,\n",
              "        110, 115, 114, 118, 107, 130, 108,   0,   0,   0,   0,   0,   0,\n",
              "          0,   0],\n",
              "       [  0,   0,   0,   0,   0,   0,   0,   0, 190, 110,  89, 115,  96,\n",
              "         92,  92,  99, 100,  87, 154, 134,   0,   0,   0,   0,   0,   0,\n",
              "          0,   0],\n",
              "       [  0,   0,   0,   0,   0,   0,   0,   0, 202, 255, 186, 185, 182,\n",
              "        178, 177, 179, 185, 199, 201, 140,   0,   0,   0,   0,   0,   0,\n",
              "          0,   0],\n",
              "       [  0,   0,   0,   0,   0,   0,   0,   0,  18,  85, 124, 134, 135,\n",
              "        135, 132, 127, 108,  95,  96,  22,   0,   0,   0,   0,   0,   0,\n",
              "          0,   0]], dtype=uint8)"
            ]
          },
          "metadata": {
            "tags": []
          },
          "execution_count": 141
        }
      ]
    },
    {
      "cell_type": "code",
      "metadata": {
        "id": "n2KnuMjJTb2L",
        "colab_type": "code",
        "outputId": "c06b8c24-e380-46da-9178-08dca67c50db",
        "colab": {
          "base_uri": "https://localhost:8080/",
          "height": 34
        }
      },
      "source": [
        "y_train[n]"
      ],
      "execution_count": 0,
      "outputs": [
        {
          "output_type": "execute_result",
          "data": {
            "text/plain": [
              "0"
            ]
          },
          "metadata": {
            "tags": []
          },
          "execution_count": 142
        }
      ]
    },
    {
      "cell_type": "code",
      "metadata": {
        "id": "VuItBYE6TfYb",
        "colab_type": "code",
        "outputId": "fc6182ed-537f-464f-bcee-15eb3f5a00f5",
        "colab": {
          "base_uri": "https://localhost:8080/",
          "height": 282
        }
      },
      "source": [
        "plt.imshow(x_train[n], cmap='Greys')\n",
        "print('這是', class_names[y_train[n]])"
      ],
      "execution_count": 0,
      "outputs": [
        {
          "output_type": "stream",
          "text": [
            "這是 T-shirt\n"
          ],
          "name": "stdout"
        },
        {
          "output_type": "display_data",
          "data": {
            "image/png": "[encoded data removed]",
            "text/plain": [
              "<Figure size 432x288 with 1 Axes>"
            ]
          },
          "metadata": {
            "tags": []
          }
        }
      ]
    },
    {
      "cell_type": "markdown",
      "metadata": {
        "id": "AVjeF9aBTfiD",
        "colab_type": "text"
      },
      "source": [
        "### 資料準備"
      ]
    },
    {
      "cell_type": "code",
      "metadata": {
        "id": "osypVRRSWrml",
        "colab_type": "code",
        "colab": {}
      },
      "source": [
        "x_train = x_train.reshape(60000,784)/255\n",
        "x_test = x_test.reshape(10000,784)/255"
      ],
      "execution_count": 0,
      "outputs": []
    },
    {
      "cell_type": "code",
      "metadata": {
        "id": "Ptg2ZaigW93p",
        "colab_type": "code",
        "colab": {}
      },
      "source": [
        "from tensorflow.keras.utils import to_categorical"
      ],
      "execution_count": 0,
      "outputs": []
    },
    {
      "cell_type": "code",
      "metadata": {
        "id": "cnLiQefwYZp0",
        "colab_type": "code",
        "colab": {}
      },
      "source": [
        "y_train = to_categorical(y_train,10)"
      ],
      "execution_count": 0,
      "outputs": []
    },
    {
      "cell_type": "code",
      "metadata": {
        "id": "6M4N05BdYc9i",
        "colab_type": "code",
        "colab": {}
      },
      "source": [
        "y_test = to_categorical(y_test,10)"
      ],
      "execution_count": 0,
      "outputs": []
    },
    {
      "cell_type": "code",
      "metadata": {
        "id": "wuUrOF3LYq_H",
        "colab_type": "code",
        "outputId": "54edee75-e351-4a20-cb5c-0946e274ded0",
        "colab": {
          "base_uri": "https://localhost:8080/",
          "height": 34
        }
      },
      "source": [
        "y_train[9487\n",
        "        ]"
      ],
      "execution_count": 0,
      "outputs": [
        {
          "output_type": "execute_result",
          "data": {
            "text/plain": [
              "array([1., 0., 0., 0., 0., 0., 0., 0., 0., 0.], dtype=float32)"
            ]
          },
          "metadata": {
            "tags": []
          },
          "execution_count": 148
        }
      ]
    },
    {
      "cell_type": "markdown",
      "metadata": {
        "id": "7UjUK6ZoZG1x",
        "colab_type": "text"
      },
      "source": [
        "### 打造神經網路"
      ]
    },
    {
      "cell_type": "code",
      "metadata": {
        "id": "swZJMI_8a1yo",
        "colab_type": "code",
        "colab": {}
      },
      "source": [
        "from tensorflow.keras.models import Sequential\n",
        "from tensorflow.keras.layers import Dense\n",
        "from tensorflow.keras.optimizers import SGD"
      ],
      "execution_count": 0,
      "outputs": []
    },
    {
      "cell_type": "code",
      "metadata": {
        "id": "zm-a0UjybiRe",
        "colab_type": "code",
        "colab": {}
      },
      "source": [
        "model = Sequential()"
      ],
      "execution_count": 0,
      "outputs": []
    },
    {
      "cell_type": "code",
      "metadata": {
        "id": "zD9BeXakboOY",
        "colab_type": "code",
        "colab": {}
      },
      "source": [
        "model.add(Dense(200, input_dim=784, activation=\"relu\"))"
      ],
      "execution_count": 0,
      "outputs": []
    },
    {
      "cell_type": "code",
      "metadata": {
        "id": "WFePUeUEb_xg",
        "colab_type": "code",
        "colab": {}
      },
      "source": [
        "model.add(Dense(200, activation=\"relu\"))"
      ],
      "execution_count": 0,
      "outputs": []
    },
    {
      "cell_type": "code",
      "metadata": {
        "id": "MJCpbG2zcEYg",
        "colab_type": "code",
        "colab": {}
      },
      "source": [
        "model.add(Dense(100, activation=\"relu\"))"
      ],
      "execution_count": 0,
      "outputs": []
    },
    {
      "cell_type": "code",
      "metadata": {
        "id": "k5-v0LxPaEiQ",
        "colab_type": "code",
        "colab": {}
      },
      "source": [
        "model.add(Dense(10, activation='softmax'))"
      ],
      "execution_count": 0,
      "outputs": []
    },
    {
      "cell_type": "markdown",
      "metadata": {
        "id": "l5uwfllSedD9",
        "colab_type": "text"
      },
      "source": [
        "### 4.組裝我們的神經網路"
      ]
    },
    {
      "cell_type": "code",
      "metadata": {
        "id": "B9QeCFxZeg9t",
        "colab_type": "code",
        "colab": {}
      },
      "source": [
        "model.compile(loss=\"mse\",optimizer=SGD(lr=0.087),metrics=[\"accuracy\"])"
      ],
      "execution_count": 0,
      "outputs": []
    },
    {
      "cell_type": "code",
      "metadata": {
        "id": "L9ZUeWiSepKM",
        "colab_type": "code",
        "outputId": "d2b1bf8f-044f-41be-8a14-22b9e5313a14",
        "colab": {
          "base_uri": "https://localhost:8080/",
          "height": 286
        }
      },
      "source": [
        "model.summary()"
      ],
      "execution_count": 0,
      "outputs": [
        {
          "output_type": "stream",
          "text": [
            "Model: \"sequential_4\"\n",
            "_________________________________________________________________\n",
            "Layer (type)                 Output Shape              Param #   \n",
            "=================================================================\n",
            "dense_19 (Dense)             (None, 200)               157000    \n",
            "_________________________________________________________________\n",
            "dense_20 (Dense)             (None, 200)               40200     \n",
            "_________________________________________________________________\n",
            "dense_21 (Dense)             (None, 100)               20100     \n",
            "_________________________________________________________________\n",
            "dense_22 (Dense)             (None, 10)                1010      \n",
            "=================================================================\n",
            "Total params: 218,310\n",
            "Trainable params: 218,310\n",
            "Non-trainable params: 0\n",
            "_________________________________________________________________\n"
          ],
          "name": "stdout"
        }
      ]
    },
    {
      "cell_type": "markdown",
      "metadata": {
        "id": "rhUaJeYrfXw3",
        "colab_type": "text"
      },
      "source": [
        "### 5.訓練"
      ]
    },
    {
      "cell_type": "code",
      "metadata": {
        "id": "gVlPkGvcgJQP",
        "colab_type": "code",
        "outputId": "da07d1fb-ecae-49e9-b10b-ca7387086a68",
        "colab": {
          "base_uri": "https://localhost:8080/",
          "height": 1000
        }
      },
      "source": [
        "model.fit(x_train, y_train, batch_size=25, epochs=40)"
      ],
      "execution_count": 0,
      "outputs": [
        {
          "output_type": "stream",
          "text": [
            "Train on 60000 samples\n",
            "Epoch 1/40\n",
            "60000/60000 [==============================] - 7s 122us/sample - loss: 0.0458 - accuracy: 0.6777\n",
            "Epoch 2/40\n",
            "60000/60000 [==============================] - 7s 120us/sample - loss: 0.0269 - accuracy: 0.8196\n",
            "Epoch 3/40\n",
            "60000/60000 [==============================] - 7s 120us/sample - loss: 0.0239 - accuracy: 0.8380\n",
            "Epoch 4/40\n",
            "60000/60000 [==============================] - 7s 120us/sample - loss: 0.0222 - accuracy: 0.8494\n",
            "Epoch 5/40\n",
            "60000/60000 [==============================] - 7s 120us/sample - loss: 0.0212 - accuracy: 0.8560\n",
            "Epoch 6/40\n",
            "60000/60000 [==============================] - 7s 120us/sample - loss: 0.0203 - accuracy: 0.8619\n",
            "Epoch 7/40\n",
            "60000/60000 [==============================] - 7s 120us/sample - loss: 0.0197 - accuracy: 0.8662\n",
            "Epoch 8/40\n",
            "60000/60000 [==============================] - 7s 120us/sample - loss: 0.0191 - accuracy: 0.8709\n",
            "Epoch 9/40\n",
            "60000/60000 [==============================] - 7s 120us/sample - loss: 0.0185 - accuracy: 0.8741\n",
            "Epoch 10/40\n",
            "60000/60000 [==============================] - 7s 122us/sample - loss: 0.0182 - accuracy: 0.8761\n",
            "Epoch 11/40\n",
            "60000/60000 [==============================] - 7s 122us/sample - loss: 0.0177 - accuracy: 0.8804\n",
            "Epoch 12/40\n",
            "60000/60000 [==============================] - 7s 122us/sample - loss: 0.0174 - accuracy: 0.8826\n",
            "Epoch 13/40\n",
            "60000/60000 [==============================] - 7s 123us/sample - loss: 0.0169 - accuracy: 0.8859\n",
            "Epoch 14/40\n",
            "60000/60000 [==============================] - 7s 121us/sample - loss: 0.0166 - accuracy: 0.8879\n",
            "Epoch 15/40\n",
            "60000/60000 [==============================] - 7s 120us/sample - loss: 0.0163 - accuracy: 0.8895\n",
            "Epoch 16/40\n",
            "60000/60000 [==============================] - 7s 123us/sample - loss: 0.0161 - accuracy: 0.8915\n",
            "Epoch 17/40\n",
            "60000/60000 [==============================] - 8s 126us/sample - loss: 0.0158 - accuracy: 0.8942\n",
            "Epoch 18/40\n",
            "60000/60000 [==============================] - 8s 126us/sample - loss: 0.0156 - accuracy: 0.8953\n",
            "Epoch 19/40\n",
            "60000/60000 [==============================] - 8s 127us/sample - loss: 0.0153 - accuracy: 0.8968\n",
            "Epoch 20/40\n",
            "60000/60000 [==============================] - 7s 124us/sample - loss: 0.0151 - accuracy: 0.8986\n",
            "Epoch 21/40\n",
            "60000/60000 [==============================] - 7s 124us/sample - loss: 0.0149 - accuracy: 0.8991\n",
            "Epoch 22/40\n",
            "60000/60000 [==============================] - 7s 123us/sample - loss: 0.0147 - accuracy: 0.9009\n",
            "Epoch 23/40\n",
            "60000/60000 [==============================] - 7s 121us/sample - loss: 0.0145 - accuracy: 0.9031\n",
            "Epoch 24/40\n",
            "60000/60000 [==============================] - 7s 120us/sample - loss: 0.0143 - accuracy: 0.9037\n",
            "Epoch 25/40\n",
            "60000/60000 [==============================] - 7s 121us/sample - loss: 0.0141 - accuracy: 0.9071\n",
            "Epoch 26/40\n",
            "60000/60000 [==============================] - 7s 122us/sample - loss: 0.0139 - accuracy: 0.9079\n",
            "Epoch 27/40\n",
            "60000/60000 [==============================] - 8s 132us/sample - loss: 0.0138 - accuracy: 0.9083\n",
            "Epoch 28/40\n",
            "60000/60000 [==============================] - 8s 130us/sample - loss: 0.0135 - accuracy: 0.9100\n",
            "Epoch 29/40\n",
            "60000/60000 [==============================] - 7s 124us/sample - loss: 0.0134 - accuracy: 0.9107\n",
            "Epoch 30/40\n",
            "60000/60000 [==============================] - 7s 121us/sample - loss: 0.0132 - accuracy: 0.9126\n",
            "Epoch 31/40\n",
            "60000/60000 [==============================] - 7s 122us/sample - loss: 0.0130 - accuracy: 0.9144\n",
            "Epoch 32/40\n",
            "60000/60000 [==============================] - 7s 125us/sample - loss: 0.0129 - accuracy: 0.9143\n",
            "Epoch 33/40\n",
            "60000/60000 [==============================] - 8s 128us/sample - loss: 0.0128 - accuracy: 0.9157\n",
            "Epoch 34/40\n",
            "60000/60000 [==============================] - 7s 123us/sample - loss: 0.0126 - accuracy: 0.9176\n",
            "Epoch 35/40\n",
            "60000/60000 [==============================] - 7s 123us/sample - loss: 0.0125 - accuracy: 0.9180\n",
            "Epoch 36/40\n",
            "60000/60000 [==============================] - 7s 120us/sample - loss: 0.0123 - accuracy: 0.9190\n",
            "Epoch 37/40\n",
            "60000/60000 [==============================] - 7s 121us/sample - loss: 0.0121 - accuracy: 0.9206\n",
            "Epoch 38/40\n",
            "60000/60000 [==============================] - 7s 120us/sample - loss: 0.0120 - accuracy: 0.9229\n",
            "Epoch 39/40\n",
            "60000/60000 [==============================] - 7s 121us/sample - loss: 0.0118 - accuracy: 0.9229\n",
            "Epoch 40/40\n",
            "60000/60000 [==============================] - 7s 121us/sample - loss: 0.0117 - accuracy: 0.9236\n"
          ],
          "name": "stdout"
        },
        {
          "output_type": "execute_result",
          "data": {
            "text/plain": [
              "<tensorflow.python.keras.callbacks.History at 0x7f2b391d7860>"
            ]
          },
          "metadata": {
            "tags": []
          },
          "execution_count": 157
        }
      ]
    },
    {
      "cell_type": "markdown",
      "metadata": {
        "id": "rQUZPPNXg2l3",
        "colab_type": "text"
      },
      "source": [
        "### 6.訓練成果"
      ]
    },
    {
      "cell_type": "code",
      "metadata": {
        "id": "Fqhy88rbhEHP",
        "colab_type": "code",
        "colab": {}
      },
      "source": [
        "result = model.predict_classes(x_test)"
      ],
      "execution_count": 0,
      "outputs": []
    },
    {
      "cell_type": "code",
      "metadata": {
        "id": "9ud9M2pShjMS",
        "colab_type": "code",
        "outputId": "5a99ba45-e82b-412d-8886-4d84f84acd39",
        "colab": {
          "base_uri": "https://localhost:8080/",
          "height": 298
        }
      },
      "source": [
        "n=487\n",
        "\n",
        "print('神經網路預測是:', class_names[result[n]])\n",
        "plt.imshow(x_test[n].reshape(28,28), cmap='Greys')"
      ],
      "execution_count": 0,
      "outputs": [
        {
          "output_type": "stream",
          "text": [
            "神經網路預測是: Trouser\n"
          ],
          "name": "stdout"
        },
        {
          "output_type": "execute_result",
          "data": {
            "text/plain": [
              "<matplotlib.image.AxesImage at 0x7f2b368d7940>"
            ]
          },
          "metadata": {
            "tags": []
          },
          "execution_count": 159
        },
        {
          "output_type": "display_data",
          "data": {
            "image/png": "[encoded data removed]",
            "text/plain": [
              "<Figure size 432x288 with 1 Axes>"
            ]
          },
          "metadata": {
            "tags": []
          }
        }
      ]
    },
    {
      "cell_type": "code",
      "metadata": {
        "id": "O_6bT6IMitQI",
        "colab_type": "code",
        "colab": {}
      },
      "source": [
        ""
      ],
      "execution_count": 0,
      "outputs": []
    }
  ]
}