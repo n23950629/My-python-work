{
  "nbformat": 4,
  "nbformat_minor": 0,
  "metadata": {
    "colab": {
      "name": "RNN情意分析 HW.ipynb",
      "provenance": [],
      "authorship_tag": "ABX9TyPNE7hv+IB+mua4IdHl8rRL",
      "include_colab_link": true
    },
    "kernelspec": {
      "name": "python3",
      "display_name": "Python 3"
    }
  },
  "cells": [
    {
      "cell_type": "markdown",
      "metadata": {
        "id": "view-in-github",
        "colab_type": "text"
      },
      "source": [
        "<a href=\"https://colab.research.google.com/github/n23950629/My-python-work/blob/master/RNN%E6%83%85%E6%84%8F%E5%88%86%E6%9E%90_HW.ipynb\" target=\"_parent\"><img src=\"https://colab.research.google.com/assets/colab-badge.svg\" alt=\"Open In Colab\"/></a>"
      ]
    },
    {
      "cell_type": "code",
      "metadata": {
        "id": "CUuOnyEwkMNg",
        "colab_type": "code",
        "colab": {}
      },
      "source": [
        "%tensorflow_version 2.x"
      ],
      "execution_count": 0,
      "outputs": []
    },
    {
      "cell_type": "code",
      "metadata": {
        "id": "jwfOH6A0kOXB",
        "colab_type": "code",
        "colab": {}
      },
      "source": [
        "%matplotlib inline\n",
        "import numpy as np\n",
        "import matplotlib.pyplot as plt\n",
        "import pandas as pd"
      ],
      "execution_count": 0,
      "outputs": []
    },
    {
      "cell_type": "markdown",
      "metadata": {
        "id": "yruLd48vl16i",
        "colab_type": "text"
      },
      "source": [
        "## 改變了什麼？\n",
        "\n",
        "* num_words : 10000 -> 20000\n",
        "* maxlen : 100 -> 90\n",
        "* Embedding : 20000 壓成 200 維\n",
        "* LSTM : 128 -> 120\n",
        "* dropout : 0.2 -> 0.15\n",
        "* recurrent_dropout : 0.2 -> 0.15\n",
        "* batch_size : 32 -> 30\n",
        "* epochs : 10 -> 5\n",
        "\n",
        "\n",
        "\n",
        "\n",
        "\n"
      ]
    },
    {
      "cell_type": "markdown",
      "metadata": {
        "id": "bpBjblwdkSqC",
        "colab_type": "text"
      },
      "source": [
        "## 1. 讀入深度學習套件"
      ]
    },
    {
      "cell_type": "code",
      "metadata": {
        "id": "t0zb6O-Xker3",
        "colab_type": "code",
        "colab": {}
      },
      "source": [
        "from tensorflow.keras.preprocessing import sequence\n",
        "from tensorflow.keras.models import Sequential\n",
        "from tensorflow.keras.layers import Dense, Embedding\n",
        "from tensorflow.keras.layers import LSTM\n",
        "from tensorflow.keras.datasets import imdb"
      ],
      "execution_count": 0,
      "outputs": []
    },
    {
      "cell_type": "markdown",
      "metadata": {
        "id": "1l1g1sFakhVk",
        "colab_type": "text"
      },
      "source": [
        "## 2. 讀入數據"
      ]
    },
    {
      "cell_type": "code",
      "metadata": {
        "id": "5vkPj8lrlpRV",
        "colab_type": "code",
        "colab": {}
      },
      "source": [
        "(x_train, y_train),(x_test, y_test) = imdb.load_data(num_words=20000)"
      ],
      "execution_count": 0,
      "outputs": []
    },
    {
      "cell_type": "code",
      "metadata": {
        "id": "DkNqnlWj6QD0",
        "colab_type": "code",
        "colab": {
          "base_uri": "https://localhost:8080/",
          "height": 34
        },
        "outputId": "295e7a91-0b54-4d8f-c478-2a0e6cee9101"
      },
      "source": [
        "len(x_train)"
      ],
      "execution_count": 45,
      "outputs": [
        {
          "output_type": "execute_result",
          "data": {
            "text/plain": [
              "25000"
            ]
          },
          "metadata": {
            "tags": []
          },
          "execution_count": 45
        }
      ]
    },
    {
      "cell_type": "code",
      "metadata": {
        "id": "lYhunTk-6Xg_",
        "colab_type": "code",
        "colab": {
          "base_uri": "https://localhost:8080/",
          "height": 34
        },
        "outputId": "e97e9c9b-59ad-4dd7-c2ed-885d70413051"
      },
      "source": [
        "len(x_test)"
      ],
      "execution_count": 46,
      "outputs": [
        {
          "output_type": "execute_result",
          "data": {
            "text/plain": [
              "25000"
            ]
          },
          "metadata": {
            "tags": []
          },
          "execution_count": 46
        }
      ]
    },
    {
      "cell_type": "code",
      "metadata": {
        "id": "NDFM7FHH7miF",
        "colab_type": "code",
        "colab": {
          "base_uri": "https://localhost:8080/",
          "height": 34
        },
        "outputId": "5a9b9872-21dc-40e4-cbaf-de5baec7a73d"
      },
      "source": [
        "len(x_train[0])"
      ],
      "execution_count": 47,
      "outputs": [
        {
          "output_type": "execute_result",
          "data": {
            "text/plain": [
              "218"
            ]
          },
          "metadata": {
            "tags": []
          },
          "execution_count": 47
        }
      ]
    },
    {
      "cell_type": "code",
      "metadata": {
        "id": "3F4jVa4Y7pR0",
        "colab_type": "code",
        "colab": {
          "base_uri": "https://localhost:8080/",
          "height": 34
        },
        "outputId": "82ea6ccc-4f7b-4472-bb0e-4de0f01c2616"
      },
      "source": [
        "len(x_train[1])"
      ],
      "execution_count": 48,
      "outputs": [
        {
          "output_type": "execute_result",
          "data": {
            "text/plain": [
              "189"
            ]
          },
          "metadata": {
            "tags": []
          },
          "execution_count": 48
        }
      ]
    },
    {
      "cell_type": "code",
      "metadata": {
        "id": "_OVUM7f57rDz",
        "colab_type": "code",
        "colab": {
          "base_uri": "https://localhost:8080/",
          "height": 34
        },
        "outputId": "c4a8192f-813a-4a53-8940-ec2e34a902f2"
      },
      "source": [
        "y_train[0]"
      ],
      "execution_count": 49,
      "outputs": [
        {
          "output_type": "execute_result",
          "data": {
            "text/plain": [
              "1"
            ]
          },
          "metadata": {
            "tags": []
          },
          "execution_count": 49
        }
      ]
    },
    {
      "cell_type": "code",
      "metadata": {
        "id": "DObkKga47srW",
        "colab_type": "code",
        "colab": {
          "base_uri": "https://localhost:8080/",
          "height": 34
        },
        "outputId": "2291bcb4-bebf-4750-9212-e2d2da68411b"
      },
      "source": [
        "y_train[1]"
      ],
      "execution_count": 50,
      "outputs": [
        {
          "output_type": "execute_result",
          "data": {
            "text/plain": [
              "0"
            ]
          },
          "metadata": {
            "tags": []
          },
          "execution_count": 50
        }
      ]
    },
    {
      "cell_type": "markdown",
      "metadata": {
        "id": "srkQPEgb7uRT",
        "colab_type": "text"
      },
      "source": [
        "### 3. 資料處理"
      ]
    },
    {
      "cell_type": "code",
      "metadata": {
        "id": "CLKEAxBo76dx",
        "colab_type": "code",
        "colab": {}
      },
      "source": [
        "x_train = sequence.pad_sequences(x_train, maxlen=90) # 太短補0，太長卡掉，最大長度90\n",
        "x_test = sequence.pad_sequences(x_test, maxlen=90)"
      ],
      "execution_count": 0,
      "outputs": []
    },
    {
      "cell_type": "markdown",
      "metadata": {
        "id": "aVGulEar78uR",
        "colab_type": "text"
      },
      "source": [
        "### 4. step1: 打造一個函數學習機"
      ]
    },
    {
      "cell_type": "code",
      "metadata": {
        "id": "tqloxxcK8AvV",
        "colab_type": "code",
        "colab": {}
      },
      "source": [
        "model = Sequential()"
      ],
      "execution_count": 0,
      "outputs": []
    },
    {
      "cell_type": "code",
      "metadata": {
        "id": "PdXDDYRU8CW9",
        "colab_type": "code",
        "colab": {}
      },
      "source": [
        "model.add(Embedding(20000, 200))"
      ],
      "execution_count": 0,
      "outputs": []
    },
    {
      "cell_type": "code",
      "metadata": {
        "id": "5OHGQ79E8yDw",
        "colab_type": "code",
        "colab": {}
      },
      "source": [
        "model.add(LSTM(120, dropout=0.15, recurrent_dropout=0.15))"
      ],
      "execution_count": 0,
      "outputs": []
    },
    {
      "cell_type": "code",
      "metadata": {
        "id": "Mcjl_qpe9B6d",
        "colab_type": "code",
        "colab": {}
      },
      "source": [
        "model.add(Dense(1, activation='sigmoid'))"
      ],
      "execution_count": 0,
      "outputs": []
    },
    {
      "cell_type": "code",
      "metadata": {
        "id": "vhQA0gMN9Vow",
        "colab_type": "code",
        "colab": {}
      },
      "source": [
        "model.compile(loss='binary_crossentropy',\n",
        "              optimizer='adam',\n",
        "              metrics=['accuracy'])"
      ],
      "execution_count": 0,
      "outputs": []
    },
    {
      "cell_type": "code",
      "metadata": {
        "id": "E5pXsQ5a9i2O",
        "colab_type": "code",
        "colab": {
          "base_uri": "https://localhost:8080/",
          "height": 252
        },
        "outputId": "81591475-790c-4986-e06e-542438fc2295"
      },
      "source": [
        "model.summary()"
      ],
      "execution_count": 57,
      "outputs": [
        {
          "output_type": "stream",
          "text": [
            "Model: \"sequential_1\"\n",
            "_________________________________________________________________\n",
            "Layer (type)                 Output Shape              Param #   \n",
            "=================================================================\n",
            "embedding_1 (Embedding)      (None, None, 200)         4000000   \n",
            "_________________________________________________________________\n",
            "lstm_1 (LSTM)                (None, 120)               154080    \n",
            "_________________________________________________________________\n",
            "dense_1 (Dense)              (None, 1)                 121       \n",
            "=================================================================\n",
            "Total params: 4,154,201\n",
            "Trainable params: 4,154,201\n",
            "Non-trainable params: 0\n",
            "_________________________________________________________________\n"
          ],
          "name": "stdout"
        }
      ]
    },
    {
      "cell_type": "code",
      "metadata": {
        "id": "PLYCTtGj9lKu",
        "colab_type": "code",
        "colab": {
          "base_uri": "https://localhost:8080/",
          "height": 34
        },
        "outputId": "9c5f8156-04b7-4e09-e8cb-d172ad30abd0"
      },
      "source": [
        "(200+120+1)*4*120"
      ],
      "execution_count": 58,
      "outputs": [
        {
          "output_type": "execute_result",
          "data": {
            "text/plain": [
              "154080"
            ]
          },
          "metadata": {
            "tags": []
          },
          "execution_count": 58
        }
      ]
    },
    {
      "cell_type": "markdown",
      "metadata": {
        "id": "HDP-sIzm91Py",
        "colab_type": "text"
      },
      "source": [
        "### 5. step02: 訓練"
      ]
    },
    {
      "cell_type": "code",
      "metadata": {
        "id": "z9YwlkTh98jo",
        "colab_type": "code",
        "colab": {
          "base_uri": "https://localhost:8080/",
          "height": 269
        },
        "outputId": "0bbcfc02-1074-4787-815e-e4079f137946"
      },
      "source": [
        "model.fit(x_train, y_train, batch_size=30, epochs=7,\n",
        "          validation_data=(x_test,y_test))"
      ],
      "execution_count": 62,
      "outputs": [
        {
          "output_type": "stream",
          "text": [
            "Epoch 1/7\n",
            "834/834 [==============================] - 294s 353ms/step - loss: 0.0400 - accuracy: 0.9862 - val_loss: 0.7449 - val_accuracy: 0.8237\n",
            "Epoch 2/7\n",
            "834/834 [==============================] - 293s 352ms/step - loss: 0.0236 - accuracy: 0.9927 - val_loss: 0.8673 - val_accuracy: 0.8172\n",
            "Epoch 3/7\n",
            "834/834 [==============================] - 294s 353ms/step - loss: 0.0210 - accuracy: 0.9932 - val_loss: 0.8927 - val_accuracy: 0.8258\n",
            "Epoch 4/7\n",
            "834/834 [==============================] - 301s 361ms/step - loss: 0.0173 - accuracy: 0.9944 - val_loss: 0.8896 - val_accuracy: 0.8250\n",
            "Epoch 5/7\n",
            "834/834 [==============================] - 304s 364ms/step - loss: 0.0151 - accuracy: 0.9950 - val_loss: 0.9749 - val_accuracy: 0.8233\n",
            "Epoch 6/7\n",
            "834/834 [==============================] - 296s 355ms/step - loss: 0.0117 - accuracy: 0.9965 - val_loss: 0.9809 - val_accuracy: 0.8134\n",
            "Epoch 7/7\n",
            "834/834 [==============================] - 294s 352ms/step - loss: 0.0080 - accuracy: 0.9973 - val_loss: 1.1161 - val_accuracy: 0.8173\n"
          ],
          "name": "stdout"
        },
        {
          "output_type": "execute_result",
          "data": {
            "text/plain": [
              "<tensorflow.python.keras.callbacks.History at 0x7f1955f481d0>"
            ]
          },
          "metadata": {
            "tags": []
          },
          "execution_count": 62
        }
      ]
    },
    {
      "cell_type": "markdown",
      "metadata": {
        "id": "n6zrbGjy-OzN",
        "colab_type": "text"
      },
      "source": [
        "#### 精準度 0.9973"
      ]
    },
    {
      "cell_type": "code",
      "metadata": {
        "id": "xvvZ5n4XOAbb",
        "colab_type": "code",
        "colab": {}
      },
      "source": [
        ""
      ],
      "execution_count": 0,
      "outputs": []
    }
  ]
}