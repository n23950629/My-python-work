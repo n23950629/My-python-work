{
  "nbformat": 4,
  "nbformat_minor": 0,
  "metadata": {
    "colab": {
      "name": "RNN情意分析 HW.ipynb",
      "provenance": [],
      "authorship_tag": "ABX9TyOOgiWkjk0BiXuqz2suKyfr",
      "include_colab_link": true
    },
    "kernelspec": {
      "name": "python3",
      "display_name": "Python 3"
    }
  },
  "cells": [
    {
      "cell_type": "markdown",
      "metadata": {
        "id": "view-in-github",
        "colab_type": "text"
      },
      "source": [
        "<a href=\"https://colab.research.google.com/github/n23950629/My-python-work/blob/master/RNN%E6%83%85%E6%84%8F%E5%88%86%E6%9E%90_HW.ipynb\" target=\"_parent\"><img src=\"https://colab.research.google.com/assets/colab-badge.svg\" alt=\"Open In Colab\"/></a>"
      ]
    },
    {
      "cell_type": "code",
      "metadata": {
        "id": "CUuOnyEwkMNg",
        "colab_type": "code",
        "colab": {}
      },
      "source": [
        "%tensorflow_version 2.x"
      ],
      "execution_count": 0,
      "outputs": []
    },
    {
      "cell_type": "code",
      "metadata": {
        "id": "jwfOH6A0kOXB",
        "colab_type": "code",
        "colab": {}
      },
      "source": [
        "%matplotlib inline\n",
        "import numpy as np\n",
        "import matplotlib.pyplot as plt\n",
        "import pandas as pd"
      ],
      "execution_count": 0,
      "outputs": []
    },
    {
      "cell_type": "markdown",
      "metadata": {
        "id": "yruLd48vl16i",
        "colab_type": "text"
      },
      "source": [
        "## 改變了什麼？\n",
        "\n",
        "* num_words : 10000 -> 20000\n",
        "* maxlen : 100 -> 90\n",
        "* Embedding : 20000 壓成 200 維\n",
        "* LSTM : 128 -> 120\n",
        "* dropout : 0.2 -> 0.15\n",
        "* recurrent_dropout : 0.2 -> 0.15\n",
        "* batch_size : 32 -> 30\n",
        "* epochs : 10 -> 5\n",
        "\n",
        "\n",
        "\n",
        "\n",
        "\n"
      ]
    },
    {
      "cell_type": "markdown",
      "metadata": {
        "id": "bpBjblwdkSqC",
        "colab_type": "text"
      },
      "source": [
        "## 1. 讀入深度學習套件"
      ]
    },
    {
      "cell_type": "code",
      "metadata": {
        "id": "t0zb6O-Xker3",
        "colab_type": "code",
        "colab": {}
      },
      "source": [
        "from tensorflow.keras.preprocessing import sequence\n",
        "from tensorflow.keras.models import Sequential\n",
        "from tensorflow.keras.layers import Dense, Embedding\n",
        "from tensorflow.keras.layers import LSTM\n",
        "from tensorflow.keras.datasets import imdb"
      ],
      "execution_count": 0,
      "outputs": []
    },
    {
      "cell_type": "markdown",
      "metadata": {
        "id": "1l1g1sFakhVk",
        "colab_type": "text"
      },
      "source": [
        "## 2. 讀入數據"
      ]
    },
    {
      "cell_type": "code",
      "metadata": {
        "id": "5vkPj8lrlpRV",
        "colab_type": "code",
        "colab": {}
      },
      "source": [
        "(x_train, y_train),(x_test, y_test) = imdb.load_data(num_words=20000)"
      ],
      "execution_count": 0,
      "outputs": []
    },
    {
      "cell_type": "code",
      "metadata": {
        "id": "DkNqnlWj6QD0",
        "colab_type": "code",
        "colab": {
          "base_uri": "https://localhost:8080/",
          "height": 34
        },
        "outputId": "295e7a91-0b54-4d8f-c478-2a0e6cee9101"
      },
      "source": [
        "len(x_train)"
      ],
      "execution_count": 45,
      "outputs": [
        {
          "output_type": "execute_result",
          "data": {
            "text/plain": [
              "25000"
            ]
          },
          "metadata": {
            "tags": []
          },
          "execution_count": 45
        }
      ]
    },
    {
      "cell_type": "code",
      "metadata": {
        "id": "lYhunTk-6Xg_",
        "colab_type": "code",
        "colab": {
          "base_uri": "https://localhost:8080/",
          "height": 34
        },
        "outputId": "e97e9c9b-59ad-4dd7-c2ed-885d70413051"
      },
      "source": [
        "len(x_test)"
      ],
      "execution_count": 46,
      "outputs": [
        {
          "output_type": "execute_result",
          "data": {
            "text/plain": [
              "25000"
            ]
          },
          "metadata": {
            "tags": []
          },
          "execution_count": 46
        }
      ]
    },
    {
      "cell_type": "code",
      "metadata": {
        "id": "NDFM7FHH7miF",
        "colab_type": "code",
        "colab": {
          "base_uri": "https://localhost:8080/",
          "height": 34
        },
        "outputId": "5a9b9872-21dc-40e4-cbaf-de5baec7a73d"
      },
      "source": [
        "len(x_train[0])"
      ],
      "execution_count": 47,
      "outputs": [
        {
          "output_type": "execute_result",
          "data": {
            "text/plain": [
              "218"
            ]
          },
          "metadata": {
            "tags": []
          },
          "execution_count": 47
        }
      ]
    },
    {
      "cell_type": "code",
      "metadata": {
        "id": "3F4jVa4Y7pR0",
        "colab_type": "code",
        "colab": {
          "base_uri": "https://localhost:8080/",
          "height": 34
        },
        "outputId": "82ea6ccc-4f7b-4472-bb0e-4de0f01c2616"
      },
      "source": [
        "len(x_train[1])"
      ],
      "execution_count": 48,
      "outputs": [
        {
          "output_type": "execute_result",
          "data": {
            "text/plain": [
              "189"
            ]
          },
          "metadata": {
            "tags": []
          },
          "execution_count": 48
        }
      ]
    },
    {
      "cell_type": "code",
      "metadata": {
        "id": "_OVUM7f57rDz",
        "colab_type": "code",
        "colab": {
          "base_uri": "https://localhost:8080/",
          "height": 34
        },
        "outputId": "c4a8192f-813a-4a53-8940-ec2e34a902f2"
      },
      "source": [
        "y_train[0]"
      ],
      "execution_count": 49,
      "outputs": [
        {
          "output_type": "execute_result",
          "data": {
            "text/plain": [
              "1"
            ]
          },
          "metadata": {
            "tags": []
          },
          "execution_count": 49
        }
      ]
    },
    {
      "cell_type": "code",
      "metadata": {
        "id": "DObkKga47srW",
        "colab_type": "code",
        "colab": {
          "base_uri": "https://localhost:8080/",
          "height": 34
        },
        "outputId": "2291bcb4-bebf-4750-9212-e2d2da68411b"
      },
      "source": [
        "y_train[1]"
      ],
      "execution_count": 50,
      "outputs": [
        {
          "output_type": "execute_result",
          "data": {
            "text/plain": [
              "0"
            ]
          },
          "metadata": {
            "tags": []
          },
          "execution_count": 50
        }
      ]
    },
    {
      "cell_type": "markdown",
      "metadata": {
        "id": "srkQPEgb7uRT",
        "colab_type": "text"
      },
      "source": [
        "### 3. 資料處理"
      ]
    },
    {
      "cell_type": "code",
      "metadata": {
        "id": "CLKEAxBo76dx",
        "colab_type": "code",
        "colab": {}
      },
      "source": [
        "x_train = sequence.pad_sequences(x_train, maxlen=90) # 太短補0，太長卡掉，最大長度90\n",
        "x_test = sequence.pad_sequences(x_test, maxlen=90)"
      ],
      "execution_count": 0,
      "outputs": []
    },
    {
      "cell_type": "markdown",
      "metadata": {
        "id": "aVGulEar78uR",
        "colab_type": "text"
      },
      "source": [
        "### 4. step1: 打造一個函數學習機"
      ]
    },
    {
      "cell_type": "code",
      "metadata": {
        "id": "tqloxxcK8AvV",
        "colab_type": "code",
        "colab": {}
      },
      "source": [
        "model = Sequential()"
      ],
      "execution_count": 0,
      "outputs": []
    },
    {
      "cell_type": "code",
      "metadata": {
        "id": "PdXDDYRU8CW9",
        "colab_type": "code",
        "colab": {}
      },
      "source": [
        "model.add(Embedding(20000, 200))"
      ],
      "execution_count": 0,
      "outputs": []
    },
    {
      "cell_type": "code",
      "metadata": {
        "id": "5OHGQ79E8yDw",
        "colab_type": "code",
        "colab": {}
      },
      "source": [
        "model.add(LSTM(120, dropout=0.15, recurrent_dropout=0.15))"
      ],
      "execution_count": 0,
      "outputs": []
    },
    {
      "cell_type": "code",
      "metadata": {
        "id": "Mcjl_qpe9B6d",
        "colab_type": "code",
        "colab": {}
      },
      "source": [
        "model.add(Dense(1, activation='sigmoid'))"
      ],
      "execution_count": 0,
      "outputs": []
    },
    {
      "cell_type": "code",
      "metadata": {
        "id": "vhQA0gMN9Vow",
        "colab_type": "code",
        "colab": {}
      },
      "source": [
        "model.compile(loss='binary_crossentropy',\n",
        "              optimizer='adam',\n",
        "              metrics=['accuracy'])"
      ],
      "execution_count": 0,
      "outputs": []
    },
    {
      "cell_type": "code",
      "metadata": {
        "id": "E5pXsQ5a9i2O",
        "colab_type": "code",
        "colab": {
          "base_uri": "https://localhost:8080/",
          "height": 252
        },
        "outputId": "81591475-790c-4986-e06e-542438fc2295"
      },
      "source": [
        "model.summary()"
      ],
      "execution_count": 57,
      "outputs": [
        {
          "output_type": "stream",
          "text": [
            "Model: \"sequential_1\"\n",
            "_________________________________________________________________\n",
            "Layer (type)                 Output Shape              Param #   \n",
            "=================================================================\n",
            "embedding_1 (Embedding)      (None, None, 200)         4000000   \n",
            "_________________________________________________________________\n",
            "lstm_1 (LSTM)                (None, 120)               154080    \n",
            "_________________________________________________________________\n",
            "dense_1 (Dense)              (None, 1)                 121       \n",
            "=================================================================\n",
            "Total params: 4,154,201\n",
            "Trainable params: 4,154,201\n",
            "Non-trainable params: 0\n",
            "_________________________________________________________________\n"
          ],
          "name": "stdout"
        }
      ]
    },
    {
      "cell_type": "code",
      "metadata": {
        "id": "PLYCTtGj9lKu",
        "colab_type": "code",
        "colab": {
          "base_uri": "https://localhost:8080/",
          "height": 34
        },
        "outputId": "9c5f8156-04b7-4e09-e8cb-d172ad30abd0"
      },
      "source": [
        "(200+120+1)*4*120"
      ],
      "execution_count": 58,
      "outputs": [
        {
          "output_type": "execute_result",
          "data": {
            "text/plain": [
              "154080"
            ]
          },
          "metadata": {
            "tags": []
          },
          "execution_count": 58
        }
      ]
    },
    {
      "cell_type": "markdown",
      "metadata": {
        "id": "HDP-sIzm91Py",
        "colab_type": "text"
      },
      "source": [
        "### 5. step02: 訓練"
      ]
    },
    {
      "cell_type": "code",
      "metadata": {
        "id": "z9YwlkTh98jo",
        "colab_type": "code",
        "colab": {
          "base_uri": "https://localhost:8080/",
          "height": 202
        },
        "outputId": "afbc7227-273a-4178-9f0a-0eb8d785c5ee"
      },
      "source": [
        "model.fit(x_train, y_train, batch_size=30, epochs=5,\n",
        "          validation_data=(x_test,y_test))"
      ],
      "execution_count": 61,
      "outputs": [
        {
          "output_type": "stream",
          "text": [
            "Epoch 1/5\n",
            "834/834 [==============================] - 298s 357ms/step - loss: 0.3431 - accuracy: 0.8532 - val_loss: 0.3508 - val_accuracy: 0.8449\n",
            "Epoch 2/5\n",
            "834/834 [==============================] - 327s 392ms/step - loss: 0.2093 - accuracy: 0.9192 - val_loss: 0.4252 - val_accuracy: 0.8224\n",
            "Epoch 3/5\n",
            "834/834 [==============================] - 337s 404ms/step - loss: 0.1382 - accuracy: 0.9494 - val_loss: 0.5219 - val_accuracy: 0.8217\n",
            "Epoch 4/5\n",
            "834/834 [==============================] - 319s 383ms/step - loss: 0.0795 - accuracy: 0.9728 - val_loss: 0.6109 - val_accuracy: 0.8305\n",
            "Epoch 5/5\n",
            "834/834 [==============================] - 309s 371ms/step - loss: 0.0593 - accuracy: 0.9808 - val_loss: 0.6850 - val_accuracy: 0.8309\n"
          ],
          "name": "stdout"
        },
        {
          "output_type": "execute_result",
          "data": {
            "text/plain": [
              "<tensorflow.python.keras.callbacks.History at 0x7f1956067b70>"
            ]
          },
          "metadata": {
            "tags": []
          },
          "execution_count": 61
        }
      ]
    },
    {
      "cell_type": "markdown",
      "metadata": {
        "id": "n6zrbGjy-OzN",
        "colab_type": "text"
      },
      "source": [
        "#### 精準度 0.83"
      ]
    },
    {
      "cell_type": "code",
      "metadata": {
        "id": "xvvZ5n4XOAbb",
        "colab_type": "code",
        "colab": {}
      },
      "source": [
        ""
      ],
      "execution_count": 0,
      "outputs": []
    }
  ]
}