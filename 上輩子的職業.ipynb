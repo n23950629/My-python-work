{
 "cells": [
  {
   "cell_type": "code",
   "execution_count": 38,
   "metadata": {},
   "outputs": [],
   "source": [
    "%matplotlib inline\n",
    "import numpy as np\n",
    "import matplotlib.pyplot as plt\n",
    "import pandas as pd\n",
    "from ipywidgets import interact"
   ]
  },
  {
   "cell_type": "code",
   "execution_count": 62,
   "metadata": {},
   "outputs": [],
   "source": [
    "def f(x):\n",
    "    print()\n",
    "f={0:\"你是一位擁有浪漫情懷詩人❤\",1:\"恭喜你是一位皇帝！身旁的婢女～\",2:\"你是一位英勇的軍人！表揚！\",3:\"你是一位富有的商人喔💎！\"\n",
    "   ,4:\"你是一位出家人～\",5:\"你是一位農夫！\",6:\"你是一位捕頭！\",7:\"你是一位老師～\",8:\"你是一位乞丐，但經過七七四十九年修練後變為仙人\"\n",
    "   ,9:\"你是皇帝後宮中的一位憂愁女子\"}\n"
   ]
  },
  {
   "cell_type": "code",
   "execution_count": 70,
   "metadata": {},
   "outputs": [
    {
     "name": "stdout",
     "output_type": "stream",
     "text": [
      "🙋‍：哈囉！你／妳想不想知道如果穿越回唐代你自己可能的職業咧～？\n",
      "🙋‍：請先默想一個10~20的數字，再加上您生日的月份，再減五，取最後一個數字\n"
     ]
    },
    {
     "data": {
      "application/vnd.jupyter.widget-view+json": {
       "model_id": "5a8f8cf3dd514bd5b09e16f0ceed9cd7",
       "version_major": 2,
       "version_minor": 0
      },
      "text/plain": [
       "interactive(children=(Dropdown(description='這個數字是', options={'零': '你是一位擁有浪漫情懷詩人❤', '壹': '恭喜你是一位皇帝！身旁的婢女～', '貳'…"
      ]
     },
     "metadata": {},
     "output_type": "display_data"
    }
   ],
   "source": [
    "print(\"🙋‍：哈囉！你／妳想不想知道如果穿越回唐代你自己可能的職業咧～？\")\n",
    "print(\"🙋‍：請先默想一個10~20的數字，再加上您生日的月份，再減五，取最後一個數字\")\n",
    "def n(這個數字是):\n",
    "    print(這個數字是)\n",
    "interact(n,這個數字是=dict(零=f[0],壹=f[1],貳=f[2],參=f[3],肆=f[4],伍=f[5],陸=f[6],柒=f[7],捌=f[8],玖=f[9]));\n"
   ]
  }
 ],
 "metadata": {
  "kernelspec": {
   "display_name": "Python 3",
   "language": "python",
   "name": "python3"
  },
  "language_info": {
   "codemirror_mode": {
    "name": "ipython",
    "version": 3
   },
   "file_extension": ".py",
   "mimetype": "text/x-python",
   "name": "python",
   "nbconvert_exporter": "python",
   "pygments_lexer": "ipython3",
   "version": "3.7.3"
  }
 },
 "nbformat": 4,
 "nbformat_minor": 2
}
