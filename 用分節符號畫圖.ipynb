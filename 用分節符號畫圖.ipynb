{
 "cells": [
  {
   "cell_type": "code",
   "execution_count": 19,
   "metadata": {},
   "outputs": [
    {
     "name": "stdout",
     "output_type": "stream",
     "text": [
      "\n",
      "        █\n",
      "        █\n",
      "        █\n",
      "        █\n",
      "        ████████  \n",
      "\n",
      "\n",
      "           ████  \n",
      "         ██    ██\n",
      "        ██      ██\n",
      "         ██    ██\n",
      "           ████  \n",
      "\n",
      "\n",
      "        ██      ██ \n",
      "         ██    ██ \n",
      "          ██  ██ \n",
      "           ████ \n",
      "            ██ \n",
      "         \n",
      "\n",
      "\n",
      "        █████████ \n",
      "        █\n",
      "        █████████ \n",
      "        █ \n",
      "        █████████ \n",
      "\n"
     ]
    }
   ],
   "source": [
    "text=\"LOVE\"\n",
    "long=len(text) \n",
    "  \n",
    "for x in range(0, long): \n",
    "    c=text[x] \n",
    "    c=c.upper() \n",
    "      \n",
    "    if(c==\"L\"): \n",
    "        print('''\n",
    "        █\n",
    "        █\n",
    "        █\n",
    "        █\n",
    "        ████████ ''','\\n')\n",
    "         \n",
    "    elif (c==\"O\"): \n",
    "        print('''\n",
    "           ████  \n",
    "         ██    ██\n",
    "        ██      ██\n",
    "         ██    ██\n",
    "           ████ ''','\\n')\n",
    " \n",
    "    elif (c==\"V\"): \n",
    "        print('''\n",
    "        ██      ██ \n",
    "         ██    ██ \n",
    "          ██  ██ \n",
    "           ████ \n",
    "            ██ \n",
    "        ''','\\n')\n",
    "          \n",
    "    elif (c==\"E\"): \n",
    "        print('''\n",
    "        █████████ \n",
    "        █\n",
    "        █████████ \n",
    "        █ \n",
    "        █████████''','\\n')\n",
    "          "
   ]
  },
  {
   "cell_type": "code",
   "execution_count": null,
   "metadata": {},
   "outputs": [],
   "source": []
  }
 ],
 "metadata": {
  "kernelspec": {
   "display_name": "Python 3",
   "language": "python",
   "name": "python3"
  },
  "language_info": {
   "codemirror_mode": {
    "name": "ipython",
    "version": 3
   },
   "file_extension": ".py",
   "mimetype": "text/x-python",
   "name": "python",
   "nbconvert_exporter": "python",
   "pygments_lexer": "ipython3",
   "version": "3.7.3"
  }
 },
 "nbformat": 4,
 "nbformat_minor": 2
}
