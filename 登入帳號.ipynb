{
 "cells": [
  {
   "cell_type": "code",
   "execution_count": 1,
   "metadata": {},
   "outputs": [],
   "source": [
    "%matplotlib inline\n",
    "import numpy as np"
   ]
  },
  {
   "cell_type": "code",
   "execution_count": 13,
   "metadata": {},
   "outputs": [
    {
     "name": "stdout",
     "output_type": "stream",
     "text": [
      "請注意！登入僅三次機會\n",
      "請輸入帳號：nn\n",
      "請輸入密碼：nnn\n",
      "輸入錯誤已達1次\n",
      "請輸入帳號：nancy\n",
      "請輸入密碼：fff\n",
      "輸入錯誤已達2次\n",
      "請輸入帳號：nancy\n",
      "請輸入密碼：jjj\n",
      "輸入錯誤已達3次\n",
      "[系統公告]輸入錯誤已達三次。\n"
     ]
    }
   ],
   "source": [
    "print(\"請注意！登入僅三次機會\")\n",
    "t = 0\n",
    "while t<3:\n",
    "    name = input(\"請輸入帳號：\")\n",
    "    key = input(\"請輸入密碼：\")\n",
    "    t = t+1\n",
    "    if name == \"nancy\" and key == \"0727\":\n",
    "        print(\"登入成功！\")\n",
    "        exit()\n",
    "    else:\n",
    "        print(\"輸入錯誤已達\"+str(t)+\"次\")\n",
    "\n",
    "while t>=3:\n",
    "    print(\"[系統公告]輸入錯誤已達三次。\")\n",
    "    break"
   ]
  },
  {
   "cell_type": "code",
   "execution_count": null,
   "metadata": {},
   "outputs": [],
   "source": []
  }
 ],
 "metadata": {
  "kernelspec": {
   "display_name": "Python 3",
   "language": "python",
   "name": "python3"
  },
  "language_info": {
   "codemirror_mode": {
    "name": "ipython",
    "version": 3
   },
   "file_extension": ".py",
   "mimetype": "text/x-python",
   "name": "python",
   "nbconvert_exporter": "python",
   "pygments_lexer": "ipython3",
   "version": "3.7.3"
  }
 },
 "nbformat": 4,
 "nbformat_minor": 2
}
