{
  "nbformat": 4,
  "nbformat_minor": 0,
  "metadata": {
    "colab": {
      "name": "CNN cifar10.ipynb",
      "provenance": [],
      "collapsed_sections": [],
      "authorship_tag": "ABX9TyNM4IGkR0CsGSUYmhg0vFln",
      "include_colab_link": true
    },
    "kernelspec": {
      "name": "python3",
      "display_name": "Python 3"
    },
    "accelerator": "TPU",
    "widgets": {
      "application/vnd.jupyter.widget-state+json": {
        "2681cc68eb9841828bab22b883e9e1f1": {
          "model_module": "@jupyter-widgets/controls",
          "model_name": "VBoxModel",
          "state": {
            "_view_name": "VBoxView",
            "_dom_classes": [
              "widget-interact"
            ],
            "_model_name": "VBoxModel",
            "_view_module": "@jupyter-widgets/controls",
            "_model_module_version": "1.5.0",
            "_view_count": null,
            "_view_module_version": "1.5.0",
            "box_style": "",
            "layout": "IPY_MODEL_913718cf2bf5473396989812e940e14d",
            "_model_module": "@jupyter-widgets/controls",
            "children": [
              "IPY_MODEL_e3d7d324c8344c239dd411da0f80f424",
              "IPY_MODEL_c4ecd00878314afcb13934f1cfcbfc3b",
              "IPY_MODEL_34f08fd5d23f40868bf962df1356fdac"
            ]
          }
        },
        "913718cf2bf5473396989812e940e14d": {
          "model_module": "@jupyter-widgets/base",
          "model_name": "LayoutModel",
          "state": {
            "_view_name": "LayoutView",
            "grid_template_rows": null,
            "right": null,
            "justify_content": null,
            "_view_module": "@jupyter-widgets/base",
            "overflow": null,
            "_model_module_version": "1.2.0",
            "_view_count": null,
            "flex_flow": null,
            "width": null,
            "min_width": null,
            "border": null,
            "align_items": null,
            "bottom": null,
            "_model_module": "@jupyter-widgets/base",
            "top": null,
            "grid_column": null,
            "overflow_y": null,
            "overflow_x": null,
            "grid_auto_flow": null,
            "grid_area": null,
            "grid_template_columns": null,
            "flex": null,
            "_model_name": "LayoutModel",
            "justify_items": null,
            "grid_row": null,
            "max_height": null,
            "align_content": null,
            "visibility": null,
            "align_self": null,
            "height": null,
            "min_height": null,
            "padding": null,
            "grid_auto_rows": null,
            "grid_gap": null,
            "max_width": null,
            "order": null,
            "_view_module_version": "1.2.0",
            "grid_template_areas": null,
            "object_position": null,
            "object_fit": null,
            "grid_auto_columns": null,
            "margin": null,
            "display": null,
            "left": null
          }
        },
        "e3d7d324c8344c239dd411da0f80f424": {
          "model_module": "@jupyter-widgets/controls",
          "model_name": "IntSliderModel",
          "state": {
            "_view_name": "IntSliderView",
            "style": "IPY_MODEL_852a68710fee4a50b072ede6d26bf2d1",
            "_dom_classes": [],
            "description": "n",
            "step": 1,
            "_model_name": "IntSliderModel",
            "orientation": "horizontal",
            "max": 9999,
            "_view_module": "@jupyter-widgets/controls",
            "_model_module_version": "1.5.0",
            "value": 2649,
            "_view_count": null,
            "disabled": false,
            "_view_module_version": "1.5.0",
            "min": 0,
            "continuous_update": true,
            "readout_format": "d",
            "description_tooltip": null,
            "readout": true,
            "_model_module": "@jupyter-widgets/controls",
            "layout": "IPY_MODEL_c17c20e4d0c5480f985e4c8afae91787"
          }
        },
        "c4ecd00878314afcb13934f1cfcbfc3b": {
          "model_module": "@jupyter-widgets/controls",
          "model_name": "ButtonModel",
          "state": {
            "_view_name": "ButtonView",
            "style": "IPY_MODEL_8dadcf3d7c8d401dab7169392e9e64d2",
            "_dom_classes": [],
            "description": "Run Interact",
            "_model_name": "ButtonModel",
            "button_style": "",
            "_view_module": "@jupyter-widgets/controls",
            "_model_module_version": "1.5.0",
            "tooltip": "",
            "_view_count": null,
            "disabled": false,
            "_view_module_version": "1.5.0",
            "layout": "IPY_MODEL_a4fffae8a72e4dc2ac498786dd0a9ecc",
            "_model_module": "@jupyter-widgets/controls",
            "icon": ""
          }
        },
        "34f08fd5d23f40868bf962df1356fdac": {
          "model_module": "@jupyter-widgets/output",
          "model_name": "OutputModel",
          "state": {
            "_view_name": "OutputView",
            "msg_id": "",
            "_dom_classes": [],
            "_model_name": "OutputModel",
            "outputs": [
              {
                "output_type": "stream",
                "metadata": {
                  "tags": []
                },
                "text": "我可愛的CNN預測是 cat\n",
                "stream": "stdout"
              },
              {
                "output_type": "display_data",
                "metadata": {
                  "tags": [],
                  "needs_background": "light"
                },
                "image/png": "iVBORw0KGgoAAAANSUhEUgAAAPsAAAD5CAYAAADhukOtAAAABHNCSVQICAgIfAhkiAAAAAlwSFlzAAALEgAACxIB0t1+/AAAADh0RVh0U29mdHdhcmUAbWF0cGxvdGxpYiB2ZXJzaW9uMy4yLjEsIGh0dHA6Ly9tYXRwbG90bGliLm9yZy+j8jraAAAay0lEQVR4nO2dW4xlZ3Xnf2ufS92rL2676XQ7NDZkAiGJQS2LUUhEEhF5UCSDNELwgPyA0lEUpCAlDxaRApHykIwGEE+MmrEVZ8RwSYDBGqGZMFYklBfHbcYYgxNsGBva9MXt7uqqruqqOpeVh3OsKTt7rao6VXWq8ff/Sa0+9a369l77O3vVOef7n7WWuTtCiNc+1X47IIQYDwp2IQpBwS5EISjYhSgEBbsQhaBgF6IQmjuZbGb3AJ8BGsB/dfe/3OT33SywjebAKLN2HSeRLxOTJf7niuj25dJRFdbMx11f/uR4NtodQrxWu3/vZEs8rrP1+06/77Wns1F1djNrAD8A3g2cAx4DPuju34/mVJX5ZKv+zUR241RVNCe5EavY1tvlZ6Xf749kazQaoc37if+9+JjxnF5oy9ax2Yp9bDZ3941hlTxnZvG5Mi8suL8tuKcAPPGjn8RLPwn3KvG/EUzrp89z/aTF66t0u/U3z06erbuBZ939R+6+DnwRuHcHxxNC7CE7CfbjwE82/HxuOCaEuAnZ0Wf2rWBmp4HTsBefW4QQW2Unwf4CcPuGn08Mx16Bu58BzsDgM/sOzieE2AE7eRv/GPAmM3uDmbWBDwAP745bQojdZuRXdnfvmtlHgP/NQHp70N2/l0+Cbmf7O8lY/ZxsFzkj3pfeRNQKjJn0lu1YN5Jd391+CxQpGpvRT6SLjm9/JbPnLFMnms1kXqsd2lqBrdlshXOqTIGYiM/VnpgIbZEqALC+vFw7fuPGjXjO2nr9eax+HHb4md3dvwF8YyfHEEKMB32DTohCULALUQgKdiEKQcEuRCEo2IUohD3/Bt2/ZQS5LJK8Rks2S6Wy/giaV5pI0oilmkz+6XY7oc2T7yZFvoyarNPPFiRT3gIs8b3fSxJQet3Y5rFU1g/Wo0pkssnpmdDWnornhSmdQCeR0TrBpXW7iewZSKJZTOiVXYhCULALUQgKdiEKQcEuRCEo2IUohJ+N3fhdJ/Mh38evPVpScij7e5rtnGZJIa1m/LRFu/Fr63GCxKi18NKKZsExs5XP1jEtS1XFqkZzcrp2fHr+UDjnttcdDW3tyXg3frUTr/HKtYXQ5uv1ysvK6mo4pxOUrMqUJr2yC1EICnYhCkHBLkQhKNiFKAQFuxCFoGAXohDGL72NlGgywpxE5Mld2H67mKox2t/MbjdO7piZjZMxjhy5ZdvHXFpcih1J1jdLhFlfi5N1+kEHmux4WUeYZiI3ttpJslFQey85FZOJvDZ/+HBoW+smmUFJstHaUv1zUzWSOnlhTcH4wvTKLkQhKNiFKAQFuxCFoGAXohAU7EIUgoJdiELYkfRmZs8BSwyqkXXd/dSmc9h++6dMRotJJLREy8uzsuqtjaS1knt8vd1AnoK8ldCtt8VZWdPT9VleP/3pT8M5WZshT6W3tdDWCTK5esk1t1qJvNaKZShL1r/Rrs8enGrH57p29Upou+W2W0Pbkde9LrStLC2GNg9ecz1JK8xsEbuhs/+mu1/eheMIIfYQvY0XohB2GuwO/L2ZPW5mp3fDISHE3rDTt/HvdPcXzOw24Jtm9s/u/q2NvzD8I6A/BELsMzt6ZXf3F4b/XwK+Btxd8ztn3P2Uu5+6GQpSCVEqIwe7mc2Y2dzLj4HfAZ7aLceEELvLTt7GHwW+NpSjmsB/d/f/tSte/YwxigwCeVHJjGvXroW2SNpqJ5lhnST7LspeA5hu1st8AL3Jesmx34+Pl63HqMU5j77uWP2cdixtvrQYy2SZBDg3NxfPayfSYVScM5WIt/8+eeRgd/cfAb866nwhxHiR9CZEISjYhSgEBbsQhaBgF6IQFOxCFMLYC05mcsJukophoyllocTWT4oJxoUBYSKRwyaSrLes+GIkvWXyYJU8J1mOYj95KpuB1OQkElRyrkZyzTNBph/Ez83lS5fCOb1kPVZWVkLb8vJyaGs2Yv+je6SZZAE2mvVyYxZeemUXohAU7EIUgoJdiEJQsAtRCAp2IQph/O2fRiDawR+5Rle2Y5nsnoeHS7ZA013w5FzZDn9WMy6at7q6Gs5ZSXaRLUkyaaS7xYEteVqqYIcZ8pp8JOsYJflka7/WidtaLQWtmgAOJDX5MgGoCtY4TYQJbWr/JETxKNiFKAQFuxCFoGAXohAU7EIUgoJdiELYB+ltNxNhRjtWJoOkyRiBRJLJa6Mm/ngivbWSpJD19fVt+zE3Px8fL6lPN3Mgnhe1tsqu6+DBg6EtkxvXOvXXDGDB6VZXE/kyWatOcq7JpM5cldx13bV6WbQXPJcA3guel0zqDS1CiNcUCnYhCkHBLkQhKNiFKAQFuxCFoGAXohA2ld7M7EHgd4FL7v7W4dhh4EvASeA54P3ufnUrJzQb19+XrHpaJpVlwlz9Masqlmoajex6k9p1iQg4kbQuann9MbOssamZmdC2sh5ncv3cG+8MbS+ev1g73r8RH+/gfCy9razHNeOy9lXNqv75tCpe+2aSEVd14+zBSz/+YWh7/p+/F9quXfxp7Xg3kfkaoYS5M+ntr4F7XjV2P/CIu78JeGT4sxDiJmbTYB/2W7/yquF7gYeGjx8C3rvLfgkhdplR31Mfdffzw8cXGHR0FULcxOz467Lu7pZ80DWz08DpnZ5HCLEzRn1lv2hmxwCG/4e7J+5+xt1Pufup8bSHEELUMWqwPwzcN3x8H/D13XFHCLFXWFqYETCzLwDvAo4AF4GPA/8D+DLw88DzDKS3V2/i/RsqM5+odi/RbtSCk/24riFVIpVFRQqz4oVZq6apqanQNjcTZ5TNzc+FtpnAlhVR7Hp9hhrA4dtuC213//qvh7Zn/+UHtePnfvhcOCdrQ3X9Rtx2qdGM178RXNvy9evhnLWkcGQmpa6sxJl0nSCzDQgbYmXrESmzFy68xNp6p9a6aeS5+wcD029vNlcIcfOgb9AJUQgKdiEKQcEuRCEo2IUoBAW7EIUw9oKTFlQAzBTAyORJhk9mq6pYe8tktKjgZDS+2fHa7XZsm4qz1HqJItMLst66wTjAStIH7mjSz21mMva/1ah3cmExVmizhMO52dl4XjyNbrdeeuslUuR6Ir1NTcZy6ez0dGizzBZeeJKdGVz1pcsL4Ry9sgtRCAp2IQpBwS5EISjYhSgEBbsQhaBgF6IQxiq9VZXRnohyfJJeWIF80u9n0lssyFgilTWSLLUogy3LbEult6QI5GQi1XSCPmoAi8vLteMHDh8K5/ziL/9SaDtx4kRoayR66R0nX187vnx9MZzz4//3fGhbC64L8lesXtATrd+J17BK7qsq6+uX1Di1pChpVuAyPF6QERdJcqBXdiGKQcEuRCEo2IUoBAW7EIWgYBeiEMa8G18xO1u/y9zrxVuZa0H9rk4nbvuTMkKducyW7cZnSTLRjipAlcw7eCCuTzczX58w8sZf+IVwzr9785tD27WFuKvX5QvnQ9vJO++oHT/67ria2eOPPRbanv72d0JbJ2kp1WzUPzfTk5PhnEZ2DyS73f3kHk536j04X5YdFt07yRy9sgtRCAp2IQpBwS5EISjYhSgEBbsQhaBgF6IQNpXezOxB4HeBS+7+1uHYJ4DfA14c/trH3P0bWzgWzWa9pJS1a4pUhjR/IJG1LJHeRkmEycjmTCbyz/Rc3OLpxB1vCG23/dyx2vG5RK5bWImTTK7fiOvT9ZJafpeu1NeamztwIJxz4mR8Xc1mXO9uaSFOrllYqK/JtnQlrtXWTq45k/k63fXQ1uvHiTdr3Xpdrt+NpeWobF2WHLaVV/a/Bu6pGf+0u981/LdpoAsh9pdNg93dvwVs2rRRCHFzs5PP7B8xsyfN7EEzi5OlhRA3BaMG+2eBO4G7gPPAJ6NfNLPTZnbWzM72+sl3BoUQe8pIwe7uF9295+594HPA3cnvnnH3U+5+KvvOsRBibxkp+sxs45bv+4CndscdIcResRXp7QvAu4AjZnYO+DjwLjO7i0HhuOeA39/KycyMZqteQjGLZZxuIEFkMkMmvZGca7fbP2W2yaSV0ERis2ZUxw9oB7aJWLqqEllrZi6WyqZmspZG9eOeyHWHbr0ttM0ejLeFlpaWQtvFCxdqx1/6SZyxt3ThxdC2cONyaFtfj+U1C9phAfSDxXKS+2qEGnSbBru7f7Bm+IHN5gkhbi70IVqIQlCwC1EICnYhCkHBLkQhKNiFKISxFpzs9/usrdZnDUUtngA6QaseT76QVzXjv2NZK56sCGRky+S6brcT2lZXb4S2qFAiAInkuLpSf8z5uTjrbXo2lvmmDxyM/UiqKEZrHMmoAKurcbZZagsKkkL8nLUjiRKw5PnsJa23svsgk4JbgTxrjURiDbJE0yKm8dGEEK8lFOxCFIKCXYhCULALUQgKdiEKQcEuRCGMVXoDiJQL7yfZOoEE0Y16ZAGVZdLbaFlvkS2bk0k1q0lhw+Ukk2v+cJwB1q7qn9Kpibi45WSQiQgwnWTfNdqJ5Nivl9hWllfCOdlaZYU752bj4pwr1+uLaa6uxYUjV1YSHxOJOKOZZD9OtCZqx9vt+HnpBBJmev+GFiHEawoFuxCFoGAXohAU7EIUgoJdiEIY6268WUW7Vb8rbO2kZtwI3EiSTPpR7xzymnHRjmq2Uxy1u9qMG8mu9fXFeKd+6tq1+vHpZFc9SyhKyn9X7fja+tTvWq+vxy2SsiSOVitOCol2pgE6nfpEpGvBOgEsJjZP2jhl9HvJIge2fqJORMpF1kZNr+xCFIKCXYhCULALUQgKdiEKQcEuRCEo2IUohK20f7od+BvgKIN2T2fc/TNmdhj4EnCSQQuo97v71U2OxUS7/kv//UQyiCSZRiZrJTLOejeWf2ZnZpNj1g9nvWmzZAaS7lXdQDICuHwpbk90bblelnvpcty26PixY6HtxPHjoW1yPpHzWvW3VlZLLqtPt5YkDZ07dy62Pf/j2vFrCwvhnLzbcCLbJglWrWA9IJbY1laTJKpAwuxnUmlo+f90gT9297cA7wD+0MzeAtwPPOLubwIeGf4shLhJ2TTY3f28u397+HgJeBo4DtwLPDT8tYeA9+6Vk0KInbOtz+xmdhJ4G/AocNTdX26FeYHB23whxE3KloPdzGaBrwAfdffFjTYffEev9sOMmZ02s7NmdraXfWVQCLGnbCnYzazFINA/7+5fHQ5fNLNjQ/sx4FLdXHc/4+6n3P1Uo6HNfyH2i02jzwZb4Q8AT7v7pzaYHgbuGz6+D/j67rsnhNgttpL19mvAh4DvmtkTw7GPAX8JfNnMPgw8D7x/swM1qoq5mUCuSWpnWfCOIBoHmIrOA3RvxPXHpufjemYT8/Wy3Gra4imWjHqJvGaJqthI2i71g1ZINxZjqWn1YHzN15YSiaqZZFhNBHUDs0yuTiyJric14xYu1L6pBODquQu1452gTRbEmXKQP2eTSebmenLd/U695OhJm69OcM9lWW+bBru7/yOhwsxvbzZfCHFzoA/RQhSCgl2IQlCwC1EICnYhCkHBLkQhjLXgZFVVTE3VS2LNdlxQsAoKPfaTP1VZm55O0CIJYHpmJrTd/sY7a8fbicx39cqV0PaT5+ozsgBIZJdmkkHVmqjPsmsl65tlmy1ci6U3a8d+TNp07XiVZCp2k+csK8DZSnTKyeC5do9lsipoNwbQa8XzsjZarcTWbdavf9oOq1d/XVWVXFdoEUK8plCwC1EICnYhCkHBLkQhKNiFKAQFuxCFMFbpDSzspZbJP1WUydOIZYZm0hvM6mteArDei/2IChEeOnw4nDM3Px8fL5Garl6Ja3dOTMYXUAV95w7dEvs4ezD28aWXYukwOhckPlr8+jLRiI/34vXroW1pIe7N1gpez6qJWC6tJutlQ4Bmkp1JL6kgmkhiXQ96vSXFI6PMvCrxT6/sQhSCgl2IQlCwC1EICnYhCkHBLkQhjHU33gxawQ5uN2hnA7Ae2ZIadFVStjqr7VUlSRUT0/U7uAcOHwrnZCrDxEy86zuT1LU7cuRIaJuarU/kOfH6nw/nHDwU+//MM8+EtvWkJdPcdL0fFqgxAMud+tZVAKvX40SYpcXF0Eavfh0bzfjeydo4ZS27+v2kvl5yH3SDedlufFhrLhMEYpMQ4rWEgl2IQlCwC1EICnYhCkHBLkQhKNiFKIRNpTczux34GwYtmR044+6fMbNPAL8HvDj81Y+5+zc2O14/kAwmgtppAP1AT+gm0kQjqdOWyWuezGsHyR2tie0npgxssR/XEjnp5B13hLY3v/WXascPH7klnLOeyELzBw6EtuuJhDkb1PKbnI7lxtXry6HtapKQk7VrirSoTj++5kaQmAJgibSVyWue1JOL6g1m0lt4nsS2FZ29C/yxu3/bzOaAx83sm0Pbp939P2/bIyHE2NlKr7fzwPnh4yUzexo4vteOCSF2l219Zjezk8DbgEeHQx8xsyfN7EEzi7+GJYTYd7Yc7GY2C3wF+Ki7LwKfBe4E7mLwyv/JYN5pMztrZmfX089WQoi9ZEvBbmYtBoH+eXf/KoC7X3T3nrv3gc8Bd9fNdfcz7n7K3U+1k+oxQoi9ZdNgNzMDHgCedvdPbRg/tuHX3gc8tfvuCSF2i63sxv8a8CHgu2b2xHDsY8AHzewuBrv9zwG/v+mRzEIpKsuGagXZbUkpOTLRIpPssr9+3ZX6LK+lSy+FczqdOJtv+UrcWmk1aXd0Y/VGaKuilkxJhiCJKnQ9qf12ZSmu/eaBrBhlDkKS3QisJLJcldS1a00F7yaz7LVEJsvORSvJluskx+xuvwbd4DV46+Owtd34fwTqjrCppi6EuHnQN+iEKAQFuxCFoGAXohAU7EIUgoJdiEIYc8FJo9GOs9siopY2YdE98r9ijaRtVNY+Z+HS5drxtaVYFupl2U5rcZbUXNKC6MqLsdS3GLRCmp+Ps9caHq/Hgdm50Jat/1SQ3Ra1/wLorMffsJyanIxtjeTLWsGljSJrQX7N2TdEq0Qnbka1IxMfe0FBVbV/EkIo2IUoBQW7EIWgYBeiEBTsQhSCgl2IQhi79NYOpLdMConkmkwGyWxJblLqx/JSfQZYVmgwk0ImmrFkdHAmlrzoxOdbXaz3cS3wHcCTvnhHZudD2y3zB0NbtV7vY8fjjL3JpN5BJr3dWI+vrZtJnwHNpEhoJh1mkh3J/RjKsx7fO30L7oHEBb2yC1EICnYhCkHBLkQhKNiFKAQFuxCFoGAXohDGKr1BLolFRHJYJpFk57FEXoukQYillel2LAtVWaHHZCmmm7EfjcnYdvX8xdrx5atxcUhLerZ5N5GuElnRm/W2fiINddbWQtt8kn03lUiYkY/9pJ9bln2XZTFmBTOzeZE8G2W2ATSiPoGJ/KdXdiEKQcEuRCEo2IUoBAW7EIWgYBeiEDbdjTezSeBbDLotNYG/c/ePm9kbgC8CtwCPAx9y93g7cnCscAc9TSIIyHbcs536mam4vtvERFwsLFIFsh38KkmcINltbSV14bpJc6vFoBXVWlIfzbKkocSPTGnwoA1V1Y53zrO1n02esyqxrXbrr3t5Oa4bOGp9uskkWaefJEt50BqqaiWtnAIFolnF99tWXtnXgN9y919l0J75HjN7B/BXwKfd/Y3AVeDDWziWEGKf2DTYfcDLOYSt4T8Hfgv4u+H4Q8B798RDIcSusNX+7I1hB9dLwDeBHwIL7v7ye5NzwPG9cVEIsRtsKdjdvefudwEngLuBX9zqCczstJmdNbOza8k3jIQQe8u2duPdfQH4B+DfAwfN7OVdmBPAC8GcM+5+yt1PTYzQIEIIsTtsGuxmdquZHRw+ngLeDTzNIOj/4/DX7gO+vldOCiF2zlYSYY4BD5lZg8Efhy+7+/80s+8DXzSzvwD+L/DAZgdqNBocOlhftyx7i18FckczqVk20Y5lnMlW/A6jnyQsRFJflRX+6sWyVqsRL3/LYgllvZ8kYwQJHp1E+mkm8mDmRy+R7KLcmlTmS2StViteq05y7/QTeTNiZmYmtGWSblZvMJNZ16+v1I5nvjcC2bOqErkutAxx9yeBt9WM/4jB53chxM8A+gadEIWgYBeiEBTsQhSCgl2IQlCwC1EINkpNuJFPZvYi8PzwxyPA5bGdPEZ+vBL58Up+1vx4vbvfWmcYa7C/4sRmZ9391L6cXH7IjwL90Nt4IQpBwS5EIexnsJ/Zx3NvRH68EvnxSl4zfuzbZ3YhxHjR23ghCmFfgt3M7jGzfzGzZ83s/v3wYejHc2b2XTN7wszOjvG8D5rZJTN7asPYYTP7ppk9M/z/0D758Qkze2G4Jk+Y2XvG4MftZvYPZvZ9M/uemf3RcHysa5L4MdY1MbNJM/snM/vO0I8/H46/wcweHcbNl8xsewUi3H2s/4AGg7JWdwBt4DvAW8btx9CX54Aj+3De3wDeDjy1Yew/AfcPH98P/NU++fEJ4E/GvB7HgLcPH88BPwDeMu41SfwY65oABswOH7eAR4F3AF8GPjAc/y/AH2znuPvxyn438Ky7/8gHpae/CNy7D37sG+7+LeDKq4bvZVC4E8ZUwDPwY+y4+3l3//bw8RKD4ijHGfOaJH6MFR+w60Ve9yPYjwM/2fDzfhardODvzexxMzu9Tz68zFF3Pz98fAE4uo++fMTMnhy+zd/zjxMbMbOTDOonPMo+rsmr/IAxr8leFHktfYPune7+duA/AH9oZr+x3w7B4C87aUPnPeWzwJ0MegScBz45rhOb2SzwFeCj7r640TbONanxY+xr4jso8hqxH8H+AnD7hp/DYpV7jbu/MPz/EvA19rfyzkUzOwYw/P/Sfjjh7heHN1of+BxjWhMzazEIsM+7+1eHw2Nfkzo/9mtNhufedpHXiP0I9seANw13FtvAB4CHx+2Emc2Y2dzLj4HfAZ7KZ+0pDzMo3An7WMDz5eAa8j7GsCY26Kn0APC0u39qg2msaxL5Me412bMir+PaYXzVbuN7GOx0/hD4033y4Q4GSsB3gO+N0w/gCwzeDnYYfPb6MIOeeY8AzwD/Bzi8T378N+C7wJMMgu3YGPx4J4O36E8CTwz/vWfca5L4MdY1AX6FQRHXJxn8YfmzDffsPwHPAn8LTGznuPoGnRCFUPoGnRDFoGAXohAU7EIUgoJdiEJQsAtRCAp2IQpBwS5EISjYhSiEfwWHyR/as7ru7QAAAABJRU5ErkJggg==\n",
                "text/plain": "<Figure size 432x288 with 1 Axes>"
              }
            ],
            "_view_module": "@jupyter-widgets/output",
            "_model_module_version": "1.0.0",
            "_view_count": null,
            "_view_module_version": "1.0.0",
            "layout": "IPY_MODEL_45b9e9dbe4924d89938f92fd62f01673",
            "_model_module": "@jupyter-widgets/output"
          }
        },
        "852a68710fee4a50b072ede6d26bf2d1": {
          "model_module": "@jupyter-widgets/controls",
          "model_name": "SliderStyleModel",
          "state": {
            "_view_name": "StyleView",
            "handle_color": null,
            "_model_name": "SliderStyleModel",
            "description_width": "",
            "_view_module": "@jupyter-widgets/base",
            "_model_module_version": "1.5.0",
            "_view_count": null,
            "_view_module_version": "1.2.0",
            "_model_module": "@jupyter-widgets/controls"
          }
        },
        "c17c20e4d0c5480f985e4c8afae91787": {
          "model_module": "@jupyter-widgets/base",
          "model_name": "LayoutModel",
          "state": {
            "_view_name": "LayoutView",
            "grid_template_rows": null,
            "right": null,
            "justify_content": null,
            "_view_module": "@jupyter-widgets/base",
            "overflow": null,
            "_model_module_version": "1.2.0",
            "_view_count": null,
            "flex_flow": null,
            "width": null,
            "min_width": null,
            "border": null,
            "align_items": null,
            "bottom": null,
            "_model_module": "@jupyter-widgets/base",
            "top": null,
            "grid_column": null,
            "overflow_y": null,
            "overflow_x": null,
            "grid_auto_flow": null,
            "grid_area": null,
            "grid_template_columns": null,
            "flex": null,
            "_model_name": "LayoutModel",
            "justify_items": null,
            "grid_row": null,
            "max_height": null,
            "align_content": null,
            "visibility": null,
            "align_self": null,
            "height": null,
            "min_height": null,
            "padding": null,
            "grid_auto_rows": null,
            "grid_gap": null,
            "max_width": null,
            "order": null,
            "_view_module_version": "1.2.0",
            "grid_template_areas": null,
            "object_position": null,
            "object_fit": null,
            "grid_auto_columns": null,
            "margin": null,
            "display": null,
            "left": null
          }
        },
        "8dadcf3d7c8d401dab7169392e9e64d2": {
          "model_module": "@jupyter-widgets/controls",
          "model_name": "ButtonStyleModel",
          "state": {
            "_view_name": "StyleView",
            "_model_name": "ButtonStyleModel",
            "_view_module": "@jupyter-widgets/base",
            "_model_module_version": "1.5.0",
            "_view_count": null,
            "button_color": null,
            "font_weight": "",
            "_view_module_version": "1.2.0",
            "_model_module": "@jupyter-widgets/controls"
          }
        },
        "a4fffae8a72e4dc2ac498786dd0a9ecc": {
          "model_module": "@jupyter-widgets/base",
          "model_name": "LayoutModel",
          "state": {
            "_view_name": "LayoutView",
            "grid_template_rows": null,
            "right": null,
            "justify_content": null,
            "_view_module": "@jupyter-widgets/base",
            "overflow": null,
            "_model_module_version": "1.2.0",
            "_view_count": null,
            "flex_flow": null,
            "width": null,
            "min_width": null,
            "border": null,
            "align_items": null,
            "bottom": null,
            "_model_module": "@jupyter-widgets/base",
            "top": null,
            "grid_column": null,
            "overflow_y": null,
            "overflow_x": null,
            "grid_auto_flow": null,
            "grid_area": null,
            "grid_template_columns": null,
            "flex": null,
            "_model_name": "LayoutModel",
            "justify_items": null,
            "grid_row": null,
            "max_height": null,
            "align_content": null,
            "visibility": null,
            "align_self": null,
            "height": null,
            "min_height": null,
            "padding": null,
            "grid_auto_rows": null,
            "grid_gap": null,
            "max_width": null,
            "order": null,
            "_view_module_version": "1.2.0",
            "grid_template_areas": null,
            "object_position": null,
            "object_fit": null,
            "grid_auto_columns": null,
            "margin": null,
            "display": null,
            "left": null
          }
        },
        "45b9e9dbe4924d89938f92fd62f01673": {
          "model_module": "@jupyter-widgets/base",
          "model_name": "LayoutModel",
          "state": {
            "_view_name": "LayoutView",
            "grid_template_rows": null,
            "right": null,
            "justify_content": null,
            "_view_module": "@jupyter-widgets/base",
            "overflow": null,
            "_model_module_version": "1.2.0",
            "_view_count": null,
            "flex_flow": null,
            "width": null,
            "min_width": null,
            "border": null,
            "align_items": null,
            "bottom": null,
            "_model_module": "@jupyter-widgets/base",
            "top": null,
            "grid_column": null,
            "overflow_y": null,
            "overflow_x": null,
            "grid_auto_flow": null,
            "grid_area": null,
            "grid_template_columns": null,
            "flex": null,
            "_model_name": "LayoutModel",
            "justify_items": null,
            "grid_row": null,
            "max_height": null,
            "align_content": null,
            "visibility": null,
            "align_self": null,
            "height": null,
            "min_height": null,
            "padding": null,
            "grid_auto_rows": null,
            "grid_gap": null,
            "max_width": null,
            "order": null,
            "_view_module_version": "1.2.0",
            "grid_template_areas": null,
            "object_position": null,
            "object_fit": null,
            "grid_auto_columns": null,
            "margin": null,
            "display": null,
            "left": null
          }
        }
      }
    }
  },
  "cells": [
    {
      "cell_type": "markdown",
      "metadata": {
        "id": "view-in-github",
        "colab_type": "text"
      },
      "source": [
        "<a href=\"https://colab.research.google.com/github/n23950629/My-python-work/blob/master/CNN_cifar10.ipynb\" target=\"_parent\"><img src=\"https://colab.research.google.com/assets/colab-badge.svg\" alt=\"Open In Colab\"/></a>"
      ]
    },
    {
      "cell_type": "code",
      "metadata": {
        "id": "DjS2ERyje1nd",
        "colab_type": "code",
        "colab": {}
      },
      "source": [
        "%tensorflow_version 2.x\n",
        "%matplotlib inline\n",
        "import numpy as np\n",
        "import matplotlib.pyplot as plt"
      ],
      "execution_count": 0,
      "outputs": []
    },
    {
      "cell_type": "markdown",
      "metadata": {
        "id": "Cx5-EK6qd-c0",
        "colab_type": "text"
      },
      "source": [
        "### 讀入套件"
      ]
    },
    {
      "cell_type": "code",
      "metadata": {
        "id": "ClmojlXtcOXD",
        "colab_type": "code",
        "colab": {}
      },
      "source": [
        "from keras.datasets import cifar10"
      ],
      "execution_count": 0,
      "outputs": []
    },
    {
      "cell_type": "code",
      "metadata": {
        "id": "NwwsY78FcTcK",
        "colab_type": "code",
        "colab": {}
      },
      "source": [
        "(x_train, y_train), (x_test, y_test) = cifar10.load_data()"
      ],
      "execution_count": 0,
      "outputs": []
    },
    {
      "cell_type": "markdown",
      "metadata": {
        "id": "H05ahdHXegar",
        "colab_type": "text"
      },
      "source": [
        "###看數據內容"
      ]
    },
    {
      "cell_type": "code",
      "metadata": {
        "id": "OZYuqJ02go3U",
        "colab_type": "code",
        "colab": {}
      },
      "source": [
        "class_names = ['airplain','automobile' ,'bird','cat','deer','dog','frog','horse','ship','truck'] "
      ],
      "execution_count": 0,
      "outputs": []
    },
    {
      "cell_type": "code",
      "metadata": {
        "id": "NEsjFFpYcgCL",
        "colab_type": "code",
        "colab": {
          "base_uri": "https://localhost:8080/",
          "height": 50
        },
        "outputId": "240043cc-b921-4b27-b178-09c432ab1686"
      },
      "source": [
        "print( 'train feature datas =', x_train.shape )\n",
        "print( 'test feature datas =', x_test.shape )"
      ],
      "execution_count": 65,
      "outputs": [
        {
          "output_type": "stream",
          "text": [
            "train feature datas = (50000, 32, 32, 3)\n",
            "test feature datas = (10000, 32, 32, 3)\n"
          ],
          "name": "stdout"
        }
      ]
    },
    {
      "cell_type": "code",
      "metadata": {
        "id": "6bJ2ecexcxLd",
        "colab_type": "code",
        "colab": {}
      },
      "source": [
        "# 訓練資料：測試用圖片資料有 50000 筆，每個圖片長寬為 32X32，3 表示RGB三原色\n",
        "# 測試資料：測試用圖片資料有 10000 筆，每個圖片長寬為 32X32，3 表示RGB三原色"
      ],
      "execution_count": 0,
      "outputs": []
    },
    {
      "cell_type": "code",
      "metadata": {
        "id": "_qZ4DtNohwSj",
        "colab_type": "code",
        "colab": {
          "base_uri": "https://localhost:8080/",
          "height": 840
        },
        "outputId": "799c4a47-07cc-44fa-a110-5e78930334d1"
      },
      "source": [
        "x_train[n]"
      ],
      "execution_count": 67,
      "outputs": [
        {
          "output_type": "execute_result",
          "data": {
            "text/plain": [
              "array([[[244, 244, 244],\n",
              "        [243, 243, 243],\n",
              "        [243, 243, 243],\n",
              "        ...,\n",
              "        [117, 117, 117],\n",
              "        [131, 131, 131],\n",
              "        [138, 138, 138]],\n",
              "\n",
              "       [[244, 244, 244],\n",
              "        [242, 242, 242],\n",
              "        [242, 242, 242],\n",
              "        ...,\n",
              "        [123, 123, 123],\n",
              "        [134, 134, 134],\n",
              "        [138, 138, 138]],\n",
              "\n",
              "       [[248, 248, 248],\n",
              "        [243, 243, 243],\n",
              "        [243, 243, 243],\n",
              "        ...,\n",
              "        [121, 121, 121],\n",
              "        [125, 125, 125],\n",
              "        [127, 127, 127]],\n",
              "\n",
              "       ...,\n",
              "\n",
              "       [[133, 133, 133],\n",
              "        [125, 125, 125],\n",
              "        [122, 122, 122],\n",
              "        ...,\n",
              "        [ 41,  41,  41],\n",
              "        [ 62,  62,  62],\n",
              "        [ 74,  74,  74]],\n",
              "\n",
              "       [[132, 132, 132],\n",
              "        [128, 128, 128],\n",
              "        [127, 127, 127],\n",
              "        ...,\n",
              "        [ 45,  45,  45],\n",
              "        [ 60,  60,  60],\n",
              "        [ 70,  70,  70]],\n",
              "\n",
              "       [[134, 134, 134],\n",
              "        [130, 130, 130],\n",
              "        [128, 128, 128],\n",
              "        ...,\n",
              "        [ 53,  53,  53],\n",
              "        [ 62,  62,  62],\n",
              "        [ 68,  68,  68]]], dtype=uint8)"
            ]
          },
          "metadata": {
            "tags": []
          },
          "execution_count": 67
        }
      ]
    },
    {
      "cell_type": "code",
      "metadata": {
        "id": "ez6LVu3mhznc",
        "colab_type": "code",
        "colab": {
          "base_uri": "https://localhost:8080/",
          "height": 34
        },
        "outputId": "c846cd65-ac34-416b-cf34-cd70c5196cd2"
      },
      "source": [
        "y_train[n]"
      ],
      "execution_count": 68,
      "outputs": [
        {
          "output_type": "execute_result",
          "data": {
            "text/plain": [
              "array([9], dtype=uint8)"
            ]
          },
          "metadata": {
            "tags": []
          },
          "execution_count": 68
        }
      ]
    },
    {
      "cell_type": "code",
      "metadata": {
        "id": "swZWtjKKdy3d",
        "colab_type": "code",
        "colab": {
          "base_uri": "https://localhost:8080/",
          "height": 283
        },
        "outputId": "7a8dfa1f-bd5d-4d30-a91b-3bc3d6a10239"
      },
      "source": [
        "n=9487\n",
        "plt.imshow(x_train[n])\n",
        "print('這是', [y_train[n]])"
      ],
      "execution_count": 69,
      "outputs": [
        {
          "output_type": "stream",
          "text": [
            "這是 [array([9], dtype=uint8)]\n"
          ],
          "name": "stdout"
        },
        {
          "output_type": "display_data",
          "data": {
            "image/png": "[encoded data removed]",
            "text/plain": [
              "<Figure size 432x288 with 1 Axes>"
            ]
          },
          "metadata": {
            "tags": [],
            "needs_background": "light"
          }
        }
      ]
    },
    {
      "cell_type": "markdown",
      "metadata": {
        "id": "67yh1Cf6fGkb",
        "colab_type": "text"
      },
      "source": [
        "### 資料準備"
      ]
    },
    {
      "cell_type": "code",
      "metadata": {
        "id": "3bA0lQOqeyKm",
        "colab_type": "code",
        "colab": {}
      },
      "source": [
        "x_train = x_train / 255  # RGB 顏色數值為 0~255, 除以 255, 讓顏色數值收斂到 0~1"
      ],
      "execution_count": 0,
      "outputs": []
    },
    {
      "cell_type": "code",
      "metadata": {
        "id": "JUub98m7k6Hh",
        "colab_type": "code",
        "colab": {}
      },
      "source": [
        "x_test = x_test / 255 "
      ],
      "execution_count": 0,
      "outputs": []
    },
    {
      "cell_type": "code",
      "metadata": {
        "id": "_NwLy8e9fQxz",
        "colab_type": "code",
        "colab": {
          "base_uri": "https://localhost:8080/",
          "height": 1000
        },
        "outputId": "72310669-2f25-4361-9f81-2ccff36e0656"
      },
      "source": [
        "print( 'train feature vector datas =', x_train )"
      ],
      "execution_count": 72,
      "outputs": [
        {
          "output_type": "stream",
          "text": [
            "train feature vector datas = [[[[0.23137255 0.24313725 0.24705882]\n",
            "   [0.16862745 0.18039216 0.17647059]\n",
            "   [0.19607843 0.18823529 0.16862745]\n",
            "   ...\n",
            "   [0.61960784 0.51764706 0.42352941]\n",
            "   [0.59607843 0.49019608 0.4       ]\n",
            "   [0.58039216 0.48627451 0.40392157]]\n",
            "\n",
            "  [[0.0627451  0.07843137 0.07843137]\n",
            "   [0.         0.         0.        ]\n",
            "   [0.07058824 0.03137255 0.        ]\n",
            "   ...\n",
            "   [0.48235294 0.34509804 0.21568627]\n",
            "   [0.46666667 0.3254902  0.19607843]\n",
            "   [0.47843137 0.34117647 0.22352941]]\n",
            "\n",
            "  [[0.09803922 0.09411765 0.08235294]\n",
            "   [0.0627451  0.02745098 0.        ]\n",
            "   [0.19215686 0.10588235 0.03137255]\n",
            "   ...\n",
            "   [0.4627451  0.32941176 0.19607843]\n",
            "   [0.47058824 0.32941176 0.19607843]\n",
            "   [0.42745098 0.28627451 0.16470588]]\n",
            "\n",
            "  ...\n",
            "\n",
            "  [[0.81568627 0.66666667 0.37647059]\n",
            "   [0.78823529 0.6        0.13333333]\n",
            "   [0.77647059 0.63137255 0.10196078]\n",
            "   ...\n",
            "   [0.62745098 0.52156863 0.2745098 ]\n",
            "   [0.21960784 0.12156863 0.02745098]\n",
            "   [0.20784314 0.13333333 0.07843137]]\n",
            "\n",
            "  [[0.70588235 0.54509804 0.37647059]\n",
            "   [0.67843137 0.48235294 0.16470588]\n",
            "   [0.72941176 0.56470588 0.11764706]\n",
            "   ...\n",
            "   [0.72156863 0.58039216 0.36862745]\n",
            "   [0.38039216 0.24313725 0.13333333]\n",
            "   [0.3254902  0.20784314 0.13333333]]\n",
            "\n",
            "  [[0.69411765 0.56470588 0.45490196]\n",
            "   [0.65882353 0.50588235 0.36862745]\n",
            "   [0.70196078 0.55686275 0.34117647]\n",
            "   ...\n",
            "   [0.84705882 0.72156863 0.54901961]\n",
            "   [0.59215686 0.4627451  0.32941176]\n",
            "   [0.48235294 0.36078431 0.28235294]]]\n",
            "\n",
            "\n",
            " [[[0.60392157 0.69411765 0.73333333]\n",
            "   [0.49411765 0.5372549  0.53333333]\n",
            "   [0.41176471 0.40784314 0.37254902]\n",
            "   ...\n",
            "   [0.35686275 0.37254902 0.27843137]\n",
            "   [0.34117647 0.35294118 0.27843137]\n",
            "   [0.30980392 0.31764706 0.2745098 ]]\n",
            "\n",
            "  [[0.54901961 0.62745098 0.6627451 ]\n",
            "   [0.56862745 0.6        0.60392157]\n",
            "   [0.49019608 0.49019608 0.4627451 ]\n",
            "   ...\n",
            "   [0.37647059 0.38823529 0.30588235]\n",
            "   [0.30196078 0.31372549 0.24313725]\n",
            "   [0.27843137 0.28627451 0.23921569]]\n",
            "\n",
            "  [[0.54901961 0.60784314 0.64313725]\n",
            "   [0.54509804 0.57254902 0.58431373]\n",
            "   [0.45098039 0.45098039 0.43921569]\n",
            "   ...\n",
            "   [0.30980392 0.32156863 0.25098039]\n",
            "   [0.26666667 0.2745098  0.21568627]\n",
            "   [0.2627451  0.27058824 0.21568627]]\n",
            "\n",
            "  ...\n",
            "\n",
            "  [[0.68627451 0.65490196 0.65098039]\n",
            "   [0.61176471 0.60392157 0.62745098]\n",
            "   [0.60392157 0.62745098 0.66666667]\n",
            "   ...\n",
            "   [0.16470588 0.13333333 0.14117647]\n",
            "   [0.23921569 0.20784314 0.22352941]\n",
            "   [0.36470588 0.3254902  0.35686275]]\n",
            "\n",
            "  [[0.64705882 0.60392157 0.50196078]\n",
            "   [0.61176471 0.59607843 0.50980392]\n",
            "   [0.62352941 0.63137255 0.55686275]\n",
            "   ...\n",
            "   [0.40392157 0.36470588 0.37647059]\n",
            "   [0.48235294 0.44705882 0.47058824]\n",
            "   [0.51372549 0.4745098  0.51372549]]\n",
            "\n",
            "  [[0.63921569 0.58039216 0.47058824]\n",
            "   [0.61960784 0.58039216 0.47843137]\n",
            "   [0.63921569 0.61176471 0.52156863]\n",
            "   ...\n",
            "   [0.56078431 0.52156863 0.54509804]\n",
            "   [0.56078431 0.5254902  0.55686275]\n",
            "   [0.56078431 0.52156863 0.56470588]]]\n",
            "\n",
            "\n",
            " [[[1.         1.         1.        ]\n",
            "   [0.99215686 0.99215686 0.99215686]\n",
            "   [0.99215686 0.99215686 0.99215686]\n",
            "   ...\n",
            "   [0.99215686 0.99215686 0.99215686]\n",
            "   [0.99215686 0.99215686 0.99215686]\n",
            "   [0.99215686 0.99215686 0.99215686]]\n",
            "\n",
            "  [[1.         1.         1.        ]\n",
            "   [1.         1.         1.        ]\n",
            "   [1.         1.         1.        ]\n",
            "   ...\n",
            "   [1.         1.         1.        ]\n",
            "   [1.         1.         1.        ]\n",
            "   [1.         1.         1.        ]]\n",
            "\n",
            "  [[1.         1.         1.        ]\n",
            "   [0.99607843 0.99607843 0.99607843]\n",
            "   [0.99607843 0.99607843 0.99607843]\n",
            "   ...\n",
            "   [0.99607843 0.99607843 0.99607843]\n",
            "   [0.99607843 0.99607843 0.99607843]\n",
            "   [0.99607843 0.99607843 0.99607843]]\n",
            "\n",
            "  ...\n",
            "\n",
            "  [[0.44313725 0.47058824 0.43921569]\n",
            "   [0.43529412 0.4627451  0.43529412]\n",
            "   [0.41176471 0.43921569 0.41568627]\n",
            "   ...\n",
            "   [0.28235294 0.31764706 0.31372549]\n",
            "   [0.28235294 0.31372549 0.30980392]\n",
            "   [0.28235294 0.31372549 0.30980392]]\n",
            "\n",
            "  [[0.43529412 0.4627451  0.43137255]\n",
            "   [0.40784314 0.43529412 0.40784314]\n",
            "   [0.38823529 0.41568627 0.38431373]\n",
            "   ...\n",
            "   [0.26666667 0.29411765 0.28627451]\n",
            "   [0.2745098  0.29803922 0.29411765]\n",
            "   [0.30588235 0.32941176 0.32156863]]\n",
            "\n",
            "  [[0.41568627 0.44313725 0.41176471]\n",
            "   [0.38823529 0.41568627 0.38431373]\n",
            "   [0.37254902 0.4        0.36862745]\n",
            "   ...\n",
            "   [0.30588235 0.33333333 0.3254902 ]\n",
            "   [0.30980392 0.33333333 0.3254902 ]\n",
            "   [0.31372549 0.3372549  0.32941176]]]\n",
            "\n",
            "\n",
            " ...\n",
            "\n",
            "\n",
            " [[[0.1372549  0.69803922 0.92156863]\n",
            "   [0.15686275 0.69019608 0.9372549 ]\n",
            "   [0.16470588 0.69019608 0.94509804]\n",
            "   ...\n",
            "   [0.38823529 0.69411765 0.85882353]\n",
            "   [0.30980392 0.57647059 0.77254902]\n",
            "   [0.34901961 0.58039216 0.74117647]]\n",
            "\n",
            "  [[0.22352941 0.71372549 0.91764706]\n",
            "   [0.17254902 0.72156863 0.98039216]\n",
            "   [0.19607843 0.71764706 0.94117647]\n",
            "   ...\n",
            "   [0.61176471 0.71372549 0.78431373]\n",
            "   [0.55294118 0.69411765 0.80784314]\n",
            "   [0.45490196 0.58431373 0.68627451]]\n",
            "\n",
            "  [[0.38431373 0.77254902 0.92941176]\n",
            "   [0.25098039 0.74117647 0.98823529]\n",
            "   [0.27058824 0.75294118 0.96078431]\n",
            "   ...\n",
            "   [0.7372549  0.76470588 0.80784314]\n",
            "   [0.46666667 0.52941176 0.57647059]\n",
            "   [0.23921569 0.30980392 0.35294118]]\n",
            "\n",
            "  ...\n",
            "\n",
            "  [[0.28627451 0.30980392 0.30196078]\n",
            "   [0.20784314 0.24705882 0.26666667]\n",
            "   [0.21176471 0.26666667 0.31372549]\n",
            "   ...\n",
            "   [0.06666667 0.15686275 0.25098039]\n",
            "   [0.08235294 0.14117647 0.2       ]\n",
            "   [0.12941176 0.18823529 0.19215686]]\n",
            "\n",
            "  [[0.23921569 0.26666667 0.29411765]\n",
            "   [0.21568627 0.2745098  0.3372549 ]\n",
            "   [0.22352941 0.30980392 0.40392157]\n",
            "   ...\n",
            "   [0.09411765 0.18823529 0.28235294]\n",
            "   [0.06666667 0.1372549  0.20784314]\n",
            "   [0.02745098 0.09019608 0.1254902 ]]\n",
            "\n",
            "  [[0.17254902 0.21960784 0.28627451]\n",
            "   [0.18039216 0.25882353 0.34509804]\n",
            "   [0.19215686 0.30196078 0.41176471]\n",
            "   ...\n",
            "   [0.10588235 0.20392157 0.30196078]\n",
            "   [0.08235294 0.16862745 0.25882353]\n",
            "   [0.04705882 0.12156863 0.19607843]]]\n",
            "\n",
            "\n",
            " [[[0.74117647 0.82745098 0.94117647]\n",
            "   [0.72941176 0.81568627 0.9254902 ]\n",
            "   [0.7254902  0.81176471 0.92156863]\n",
            "   ...\n",
            "   [0.68627451 0.76470588 0.87843137]\n",
            "   [0.6745098  0.76078431 0.87058824]\n",
            "   [0.6627451  0.76078431 0.8627451 ]]\n",
            "\n",
            "  [[0.76078431 0.82352941 0.9372549 ]\n",
            "   [0.74901961 0.81176471 0.9254902 ]\n",
            "   [0.74509804 0.80784314 0.92156863]\n",
            "   ...\n",
            "   [0.67843137 0.75294118 0.8627451 ]\n",
            "   [0.67058824 0.74901961 0.85490196]\n",
            "   [0.65490196 0.74509804 0.84705882]]\n",
            "\n",
            "  [[0.81568627 0.85882353 0.95686275]\n",
            "   [0.80392157 0.84705882 0.94117647]\n",
            "   [0.8        0.84313725 0.9372549 ]\n",
            "   ...\n",
            "   [0.68627451 0.74901961 0.85098039]\n",
            "   [0.6745098  0.74509804 0.84705882]\n",
            "   [0.6627451  0.74901961 0.84313725]]\n",
            "\n",
            "  ...\n",
            "\n",
            "  [[0.81176471 0.78039216 0.70980392]\n",
            "   [0.79607843 0.76470588 0.68627451]\n",
            "   [0.79607843 0.76862745 0.67843137]\n",
            "   ...\n",
            "   [0.52941176 0.51764706 0.49803922]\n",
            "   [0.63529412 0.61960784 0.58823529]\n",
            "   [0.65882353 0.63921569 0.59215686]]\n",
            "\n",
            "  [[0.77647059 0.74509804 0.66666667]\n",
            "   [0.74117647 0.70980392 0.62352941]\n",
            "   [0.70588235 0.6745098  0.57647059]\n",
            "   ...\n",
            "   [0.69803922 0.67058824 0.62745098]\n",
            "   [0.68627451 0.6627451  0.61176471]\n",
            "   [0.68627451 0.6627451  0.60392157]]\n",
            "\n",
            "  [[0.77647059 0.74117647 0.67843137]\n",
            "   [0.74117647 0.70980392 0.63529412]\n",
            "   [0.69803922 0.66666667 0.58431373]\n",
            "   ...\n",
            "   [0.76470588 0.72156863 0.6627451 ]\n",
            "   [0.76862745 0.74117647 0.67058824]\n",
            "   [0.76470588 0.74509804 0.67058824]]]\n",
            "\n",
            "\n",
            " [[[0.89803922 0.89803922 0.9372549 ]\n",
            "   [0.9254902  0.92941176 0.96862745]\n",
            "   [0.91764706 0.9254902  0.96862745]\n",
            "   ...\n",
            "   [0.85098039 0.85882353 0.91372549]\n",
            "   [0.86666667 0.8745098  0.91764706]\n",
            "   [0.87058824 0.8745098  0.91372549]]\n",
            "\n",
            "  [[0.87058824 0.86666667 0.89803922]\n",
            "   [0.9372549  0.9372549  0.97647059]\n",
            "   [0.91372549 0.91764706 0.96470588]\n",
            "   ...\n",
            "   [0.8745098  0.8745098  0.9254902 ]\n",
            "   [0.89019608 0.89411765 0.93333333]\n",
            "   [0.82352941 0.82745098 0.8627451 ]]\n",
            "\n",
            "  [[0.83529412 0.80784314 0.82745098]\n",
            "   [0.91764706 0.90980392 0.9372549 ]\n",
            "   [0.90588235 0.91372549 0.95686275]\n",
            "   ...\n",
            "   [0.8627451  0.8627451  0.90980392]\n",
            "   [0.8627451  0.85882353 0.90980392]\n",
            "   [0.79215686 0.79607843 0.84313725]]\n",
            "\n",
            "  ...\n",
            "\n",
            "  [[0.58823529 0.56078431 0.52941176]\n",
            "   [0.54901961 0.52941176 0.49803922]\n",
            "   [0.51764706 0.49803922 0.47058824]\n",
            "   ...\n",
            "   [0.87843137 0.87058824 0.85490196]\n",
            "   [0.90196078 0.89411765 0.88235294]\n",
            "   [0.94509804 0.94509804 0.93333333]]\n",
            "\n",
            "  [[0.5372549  0.51764706 0.49411765]\n",
            "   [0.50980392 0.49803922 0.47058824]\n",
            "   [0.49019608 0.4745098  0.45098039]\n",
            "   ...\n",
            "   [0.70980392 0.70588235 0.69803922]\n",
            "   [0.79215686 0.78823529 0.77647059]\n",
            "   [0.83137255 0.82745098 0.81176471]]\n",
            "\n",
            "  [[0.47843137 0.46666667 0.44705882]\n",
            "   [0.4627451  0.45490196 0.43137255]\n",
            "   [0.47058824 0.45490196 0.43529412]\n",
            "   ...\n",
            "   [0.70196078 0.69411765 0.67843137]\n",
            "   [0.64313725 0.64313725 0.63529412]\n",
            "   [0.63921569 0.63921569 0.63137255]]]]\n"
          ],
          "name": "stdout"
        }
      ]
    },
    {
      "cell_type": "markdown",
      "metadata": {
        "id": "Doycg8WXqC-v",
        "colab_type": "text"
      },
      "source": [
        "### 建造"
      ]
    },
    {
      "cell_type": "code",
      "metadata": {
        "id": "HZMyLjM6fe5h",
        "colab_type": "code",
        "colab": {}
      },
      "source": [
        "from tensorflow.keras.utils import to_categorical\n",
        "y_train = to_categorical(y_train,10)\n",
        "y_test = to_categorical(y_test,10)"
      ],
      "execution_count": 0,
      "outputs": []
    },
    {
      "cell_type": "code",
      "metadata": {
        "id": "cxN59G5xf2CJ",
        "colab_type": "code",
        "colab": {
          "base_uri": "https://localhost:8080/",
          "height": 34
        },
        "outputId": "70fb898e-a030-4a2e-8cd2-bc0790725a9d"
      },
      "source": [
        "y_train[9487]"
      ],
      "execution_count": 74,
      "outputs": [
        {
          "output_type": "execute_result",
          "data": {
            "text/plain": [
              "array([0., 0., 0., 0., 0., 0., 0., 0., 0., 1.], dtype=float32)"
            ]
          },
          "metadata": {
            "tags": []
          },
          "execution_count": 74
        }
      ]
    },
    {
      "cell_type": "code",
      "metadata": {
        "id": "QWWAWqNziiLa",
        "colab_type": "code",
        "colab": {}
      },
      "source": [
        "model = Sequential()\n",
        "from tensorflow.keras.models import Sequential\n",
        "from tensorflow.keras.layers import Conv2D, MaxPooling2D\n",
        "from tensorflow.keras.layers import Dense, Flatten\n",
        "from tensorflow.keras.optimizers import  SGD\n"
      ],
      "execution_count": 0,
      "outputs": []
    },
    {
      "cell_type": "code",
      "metadata": {
        "id": "-1mH1XD5ikoH",
        "colab_type": "code",
        "colab": {}
      },
      "source": [
        "model.add( Conv2D( input_shape = (32, 32, 3),\n",
        "                  filters = 8 ,\n",
        "                  kernel_size = (5, 5) ,\n",
        "                  padding = 'same' , \n",
        "                  activation = 'relu'))          "
      ],
      "execution_count": 0,
      "outputs": []
    },
    {
      "cell_type": "code",
      "metadata": {
        "id": "TjVnVTuci0Uq",
        "colab_type": "code",
        "colab": {}
      },
      "source": [
        "model.add( MaxPooling2D( pool_size = (2, 2) ) )"
      ],
      "execution_count": 0,
      "outputs": []
    },
    {
      "cell_type": "code",
      "metadata": {
        "id": "l261Ph1hj1Ws",
        "colab_type": "code",
        "colab": {}
      },
      "source": [
        "model.add( Flatten() )"
      ],
      "execution_count": 0,
      "outputs": []
    },
    {
      "cell_type": "code",
      "metadata": {
        "id": "lcLyRo0Qj39X",
        "colab_type": "code",
        "colab": {}
      },
      "source": [
        "model.add( Dense( units = 256                   \n",
        "                , kernel_initializer = 'normal' \n",
        "                , activation = 'relu'          \n",
        "                ))"
      ],
      "execution_count": 0,
      "outputs": []
    },
    {
      "cell_type": "code",
      "metadata": {
        "id": "fX88zRobj-Sq",
        "colab_type": "code",
        "colab": {}
      },
      "source": [
        "model.add( Dense( units = 10                   \n",
        "                , kernel_initializer = 'normal'\n",
        "                , activation = 'softmax'       \n",
        "                ))"
      ],
      "execution_count": 0,
      "outputs": []
    },
    {
      "cell_type": "markdown",
      "metadata": {
        "id": "MIREMlPrqT9Z",
        "colab_type": "text"
      },
      "source": [
        "### 組裝"
      ]
    },
    {
      "cell_type": "code",
      "metadata": {
        "id": "m7R4OevBkE2O",
        "colab_type": "code",
        "colab": {}
      },
      "source": [
        "model.compile( loss='categorical_crossentropy' \n",
        "             , optimizer = 'adam'              \n",
        "             , metrics = ['accuracy'] \n",
        "             )"
      ],
      "execution_count": 0,
      "outputs": []
    },
    {
      "cell_type": "code",
      "metadata": {
        "id": "GjTF5XdakOmC",
        "colab_type": "code",
        "colab": {
          "base_uri": "https://localhost:8080/",
          "height": 319
        },
        "outputId": "e3b3ad09-2223-4612-d2f9-4c197c5b42df"
      },
      "source": [
        "model.summary()"
      ],
      "execution_count": 81,
      "outputs": [
        {
          "output_type": "stream",
          "text": [
            "Model: \"sequential_5\"\n",
            "_________________________________________________________________\n",
            "Layer (type)                 Output Shape              Param #   \n",
            "=================================================================\n",
            "conv2d_4 (Conv2D)            (None, 32, 32, 8)         608       \n",
            "_________________________________________________________________\n",
            "max_pooling2d_2 (MaxPooling2 (None, 16, 16, 8)         0         \n",
            "_________________________________________________________________\n",
            "flatten_2 (Flatten)          (None, 2048)              0         \n",
            "_________________________________________________________________\n",
            "dense_5 (Dense)              (None, 256)               524544    \n",
            "_________________________________________________________________\n",
            "dense_6 (Dense)              (None, 10)                2570      \n",
            "=================================================================\n",
            "Total params: 527,722\n",
            "Trainable params: 527,722\n",
            "Non-trainable params: 0\n",
            "_________________________________________________________________\n"
          ],
          "name": "stdout"
        }
      ]
    },
    {
      "cell_type": "markdown",
      "metadata": {
        "id": "pM7r4HB8qFQJ",
        "colab_type": "text"
      },
      "source": [
        "### 訓練"
      ]
    },
    {
      "cell_type": "code",
      "metadata": {
        "id": "XDiS3WRPkJFg",
        "colab_type": "code",
        "colab": {
          "base_uri": "https://localhost:8080/",
          "height": 185
        },
        "outputId": "1e9edb0b-13cf-439a-9697-366133bb2981"
      },
      "source": [
        "result=model.fit(x_train, y_train, batch_size=200, epochs=5)"
      ],
      "execution_count": 83,
      "outputs": [
        {
          "output_type": "stream",
          "text": [
            "Epoch 1/5\n",
            "250/250 [==============================] - 36s 143ms/step - loss: 1.6661 - accuracy: 0.4040\n",
            "Epoch 2/5\n",
            "250/250 [==============================] - 33s 130ms/step - loss: 1.3661 - accuracy: 0.5132\n",
            "Epoch 3/5\n",
            "250/250 [==============================] - 33s 131ms/step - loss: 1.2670 - accuracy: 0.5502\n",
            "Epoch 4/5\n",
            "250/250 [==============================] - 33s 131ms/step - loss: 1.1850 - accuracy: 0.5819\n",
            "Epoch 5/5\n",
            "250/250 [==============================] - 33s 131ms/step - loss: 1.1294 - accuracy: 0.6017\n"
          ],
          "name": "stdout"
        }
      ]
    },
    {
      "cell_type": "markdown",
      "metadata": {
        "id": "-cQ3hrAup3Gh",
        "colab_type": "text"
      },
      "source": [
        "### 訓練成果"
      ]
    },
    {
      "cell_type": "code",
      "metadata": {
        "id": "xK0sc8VYkzDd",
        "colab_type": "code",
        "colab": {
          "base_uri": "https://localhost:8080/",
          "height": 87
        },
        "outputId": "9561e276-0392-4532-df21-05c15502d641"
      },
      "source": [
        "final_result = model.predict_classes(x_test)"
      ],
      "execution_count": 84,
      "outputs": [
        {
          "output_type": "stream",
          "text": [
            "WARNING:tensorflow:From <ipython-input-84-19e875092a64>:1: Sequential.predict_classes (from tensorflow.python.keras.engine.sequential) is deprecated and will be removed after 2021-01-01.\n",
            "Instructions for updating:\n",
            "Please use instead:* `np.argmax(model.predict(x), axis=-1)`,   if your model does multi-class classification   (e.g. if it uses a `softmax` last-layer activation).* `(model.predict(x) > 0.5).astype(\"int32\")`,   if your model does binary classification   (e.g. if it uses a `sigmoid` last-layer activation).\n"
          ],
          "name": "stdout"
        }
      ]
    },
    {
      "cell_type": "code",
      "metadata": {
        "id": "w4JIiWSNmL_m",
        "colab_type": "code",
        "colab": {}
      },
      "source": [
        "def my_predict(n):\n",
        "\n",
        "    print('我可愛的CNN預測是', class_names[final_result[n]])\n",
        "    X = x_test[n].reshape(32,32,3)\n",
        "    plt.imshow(X)"
      ],
      "execution_count": 0,
      "outputs": []
    },
    {
      "cell_type": "code",
      "metadata": {
        "id": "WoK8YJSjmZ5c",
        "colab_type": "code",
        "colab": {}
      },
      "source": [
        "from ipywidgets import interact_manual"
      ],
      "execution_count": 0,
      "outputs": []
    },
    {
      "cell_type": "code",
      "metadata": {
        "id": "JxX7-X20mb9-",
        "colab_type": "code",
        "colab": {
          "base_uri": "https://localhost:8080/",
          "height": 364,
          "referenced_widgets": [
            "2681cc68eb9841828bab22b883e9e1f1",
            "913718cf2bf5473396989812e940e14d",
            "e3d7d324c8344c239dd411da0f80f424",
            "c4ecd00878314afcb13934f1cfcbfc3b",
            "34f08fd5d23f40868bf962df1356fdac",
            "852a68710fee4a50b072ede6d26bf2d1",
            "c17c20e4d0c5480f985e4c8afae91787",
            "8dadcf3d7c8d401dab7169392e9e64d2",
            "a4fffae8a72e4dc2ac498786dd0a9ecc",
            "45b9e9dbe4924d89938f92fd62f01673"
          ]
        },
        "outputId": "01f7d01a-a421-4ad9-82fc-b13cd6849153"
      },
      "source": [
        "interact_manual(my_predict, n=(0,9999))"
      ],
      "execution_count": 125,
      "outputs": [
        {
          "output_type": "display_data",
          "data": {
            "application/vnd.jupyter.widget-view+json": {
              "model_id": "2681cc68eb9841828bab22b883e9e1f1",
              "version_minor": 0,
              "version_major": 2
            },
            "text/plain": [
              "interactive(children=(IntSlider(value=4999, description='n', max=9999), Button(description='Run Interact', sty…"
            ]
          },
          "metadata": {
            "tags": []
          }
        },
        {
          "output_type": "execute_result",
          "data": {
            "text/plain": [
              "<function __main__.my_predict>"
            ]
          },
          "metadata": {
            "tags": []
          },
          "execution_count": 125
        }
      ]
    },
    {
      "cell_type": "code",
      "metadata": {
        "id": "P3RDQZpXmd2e",
        "colab_type": "code",
        "colab": {}
      },
      "source": [
        ""
      ],
      "execution_count": 0,
      "outputs": []
    }
  ]
}