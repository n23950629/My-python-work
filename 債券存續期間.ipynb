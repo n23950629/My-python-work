{
  "nbformat": 4,
  "nbformat_minor": 0,
  "metadata": {
    "colab": {
      "name": "債券存續期間.ipynb",
      "provenance": [],
      "authorship_tag": "ABX9TyOwPOrs/5gvhLq2bjK9AvrQ",
      "include_colab_link": true
    },
    "kernelspec": {
      "name": "python3",
      "display_name": "Python 3"
    }
  },
  "cells": [
    {
      "cell_type": "markdown",
      "metadata": {
        "id": "view-in-github",
        "colab_type": "text"
      },
      "source": [
        "<a href=\"https://colab.research.google.com/github/n23950629/My-python-work/blob/master/%E5%82%B5%E5%88%B8%E5%AD%98%E7%BA%8C%E6%9C%9F%E9%96%93.ipynb\" target=\"_parent\"><img src=\"https://colab.research.google.com/assets/colab-badge.svg\" alt=\"Open In Colab\"/></a>"
      ]
    },
    {
      "cell_type": "markdown",
      "metadata": {
        "id": "dTzuRx4_l_hD",
        "colab_type": "text"
      },
      "source": [
        "## 債券存續期間\n",
        "\n",
        "輸入欲分析債券的年期、利率(%)、本金(票面價值)、市場利率，即可算出債券存續期間\n",
        "\n",
        "讓使用者馬上知道自己的債券需要多久才會回本！\n",
        "\n",
        "運用到的公式：\n",
        "\n",
        "1.   每期利息（除最後一期） = 本金 * 利率(%)\n",
        "2.   末期利息 = 本金 * 利率(%) + 本金\n",
        "3.   現值 = 每期利息 / (1 + 市場利率(%))^y，y為第y年\n",
        "4.   存續期間 = 算出每期利息佔債券現值總和的百分比，每期百分比再乘上時間權重(第1年乘1，第2年乘2….)，各自乘完後再全部加起來為債券存續期間\n",
        "\n",
        "範例：\n",
        "\n",
        "－－－－－－－－－－－－－－－－－－－利息－－－－－－－－－－－－－－－－\n",
        "\n",
        "假設本金是10000，利率2%，市場利率5%\n",
        "\n",
        "第1年：10000 * 2% = $200\n",
        "\n",
        "第2年：10000 * 2% = $200\n",
        "\n",
        "…….\n",
        "\n",
        "第n年：10000 * 2% + 10000 = $ 10200 （最後一期）\n",
        "\n",
        "－－－－－－－－－－－－－－－－－－－現值－－－－－－－－－－－－－－－－\n",
        "\n",
        "第1年：$200/(1+5%) = 第1年的現值\n",
        "\n",
        "第2年：$200/(1+5%)^2 = 第2年的現值\n",
        "\n",
        "…….\n",
        "\n",
        "第n年：$10200/(1+5%)^n = 第n年的現值（最後一期）\n",
        "\n",
        "－－－－－－－－－－－－－－－－－－－－－－－－－－－－－－－－－－－－－\n",
        "\n",
        "\n"
      ]
    },
    {
      "cell_type": "code",
      "metadata": {
        "id": "mnV9Ir0ol0Gm",
        "colab_type": "code",
        "colab": {}
      },
      "source": [
        "#這是一個要算債券存續期間的程式，讓你知道你的債券平均回本時間：\n",
        "\n",
        "bond=int(input(\"請輸入這是幾年期的債券:\"))\n",
        "interest_rate=int(input(\"請輸入此債券的利率為幾%:\"))\n",
        "face_value=int(input(\"請輸入這個債券的票面價值(本金):\"))\n",
        "market_interest_rate=int(input(\"請輸入此債券的市場利率為幾%:\"))\n",
        "if bond<0 or interest_rate<0 or face_value<0 or market_interest_rate<0:\n",
        "    print('錯誤訊息')\n",
        "else:\n",
        "    list=[]\n",
        "    for i in range(1,bond):\n",
        "        list.append('第 %d 年:$ %d '%(i,face_value*interest_rate/100))\n",
        "    list.append('第 %d 年:$ %d '%(bond,face_value*interest_rate/100+face_value))\n",
        "    print('\\n'.join(list))\n",
        "    list1=[]\n",
        "    for i in range(1,bond):\n",
        "        list1.append((face_value*interest_rate/100)/((1+market_interest_rate/100)**i))\n",
        "    list1.append((face_value*interest_rate/100+face_value)/((1+market_interest_rate/100)**bond))\n",
        "\n",
        "    list2=[]\n",
        "    for i in list1:\n",
        "        list2.append(i/sum(list1))\n",
        "    total=0\n",
        "    year=1\n",
        "    for i in list2:\n",
        "        total+=i*year\n",
        "        year+=1\n",
        "    print('債券存續期間:',round(total,2))\n",
        "\n",
        "\n",
        "\n"
      ],
      "execution_count": 0,
      "outputs": []
    }
  ]
}