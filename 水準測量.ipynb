{
  "nbformat": 4,
  "nbformat_minor": 0,
  "metadata": {
    "colab": {
      "name": "水準測量.ipynb",
      "provenance": [],
      "authorship_tag": "ABX9TyOh6qLhaoz4dPXUb5ZpSMMd",
      "include_colab_link": true
    },
    "kernelspec": {
      "name": "python3",
      "display_name": "Python 3"
    }
  },
  "cells": [
    {
      "cell_type": "markdown",
      "metadata": {
        "id": "view-in-github",
        "colab_type": "text"
      },
      "source": [
        "<a href=\"https://colab.research.google.com/github/n23950629/My-python-work/blob/master/%E6%B0%B4%E6%BA%96%E6%B8%AC%E9%87%8F.ipynb\" target=\"_parent\"><img src=\"https://colab.research.google.com/assets/colab-badge.svg\" alt=\"Open In Colab\"/></a>"
      ]
    },
    {
      "cell_type": "markdown",
      "metadata": {
        "id": "mI6nKVPajqMU",
        "colab_type": "text"
      },
      "source": [
        "## **水準測量**\n",
        "\n",
        "目的：\n",
        "\n",
        "以A點的高程（海拔高度）透過水準儀計算出B點的高程，並檢查誤差有沒有在可接受範圍內。"
      ]
    },
    {
      "cell_type": "code",
      "metadata": {
        "id": "CxZpw65IjtDO",
        "colab_type": "code",
        "colab": {
          "base_uri": "https://localhost:8080/",
          "height": 454
        },
        "outputId": "e4974ea2-8fd3-4fe7-c4fc-03c43aac8964"
      },
      "source": [
        "list1 = []\n",
        "t_high1 = float(input(\"請輸入A實際高度：\"))\n",
        "t_high2 = float(input(\"請輸入B實際高度：\"))\n",
        "name1 = input(\"請輸入A點名稱：\")\n",
        "list1.append(name1)\n",
        "data1 = [\"上絲：\",\"中絲：\",\"下絲：\"]\n",
        "for i in data1:\n",
        "    a=float(input(\"請輸入\"+i))\n",
        "    list1.append(a)\n",
        "dis_1= (list1[1]-list1[3])*100\n",
        "dis1 = round(dis_1,0)\n",
        "list1.insert(1,dis1)\n",
        "list1.insert(5,t_high1)\n",
        "print(list1)\n",
        "\n",
        "list2 = []\n",
        "name2 = input(\"請輸入TP1名稱：\")\n",
        "list2.append(name2)\n",
        "data2 = [\"在S1觀看之TP1點之上絲：\",\"中絲：\",\"下絲：\"]\n",
        "for i in data2:\n",
        "    b=float(input(\"請輸入\"+i))\n",
        "    list2.append(b)\n",
        "dis_2= (list2[1]-list2[3])*100\n",
        "dis2 = round(dis_2,0)\n",
        "list2.insert(1,dis2)\n",
        "A_TP1_high=list1[3]-list2[3]\n",
        "TP1_high = t_high1+A_TP1_high\n",
        "list2.insert(5,A_TP1_high)\n",
        "list2.insert(6,TP1_high)\n",
        "print(list2)\n",
        "\n",
        "list3 = []\n",
        "name3 = input(\"請輸入TP1名稱：\")\n",
        "list3.append(name3)\n",
        "data3 = [\"在S2觀看TP1點之上絲：\",\"中絲：\",\"下絲：\"]\n",
        "for i in data3:\n",
        "    c=float(input(\"請輸入\"+i))\n",
        "    list3.append(c)\n",
        "dis_3 = (list3[1]-list3[3])*100\n",
        "dis3 = round(dis_3,1)\n",
        "list3.insert(1,dis3)\n",
        "list3.insert(5,TP1_high)\n",
        "print(list3)\n",
        "\n",
        "list4=[]\n",
        "name4 = input(\"請輸入B點名稱：\")\n",
        "list4.append(name4)\n",
        "data4 = [\"在S2觀看B點之上絲：\",\"中絲：\",\"下絲：\"]\n",
        "for i in data4:\n",
        "    d=float(input(\"請輸入\"+i))\n",
        "    list4.append(d)\n",
        "dis_4 = (list4[1]-list4[3])*100\n",
        "dis4 = round(dis_4,0)\n",
        "list4.insert(1,dis4)\n",
        "B_TP1_high=list3[3]-list4[3]\n",
        "B_high = TP1_high+B_TP1_high\n",
        "list4.insert(5,B_TP1_high)\n",
        "list4.insert(6,B_high)\n",
        "print(list4)\n",
        "\n",
        "k = (dis1+dis2+dis3+dis4)/1000\n",
        "print(\"總路徑長=\",k,'mm')\n",
        "need1 = 17*(k**(1/2))\n",
        "need = round(need1,3)\n",
        "print(\"誤差需小於等於\",need,'mm')\n",
        "e1 = (t_high2 - B_high)*1000\n",
        "e = round(e1,1)\n",
        "print(\"您B點真實高度與測量所得高度的誤差=\",e,'mm')\n",
        "if e <= need:\n",
        "    print(\"測量成功！\")\n",
        "else:\n",
        "    print('錯誤！')"
      ],
      "execution_count": 1,
      "outputs": [
        {
          "output_type": "stream",
          "text": [
            "請輸入A實際高度：18.1012\n",
            "請輸入B實際高度：18.0488\n",
            "請輸入A點名稱：A\n",
            "請輸入上絲：1.268\n",
            "請輸入中絲：1.168\n",
            "請輸入下絲：1.058\n",
            "['A', 21.0, 1.268, 1.168, 1.058, 18.1012]\n",
            "請輸入TP1名稱：1\n",
            "請輸入在S1觀看之TP1點之上絲：2.332\n",
            "請輸入中絲：2.222\n",
            "請輸入下絲：2.112\n",
            "['1', 22.0, 2.332, 2.222, 2.112, -1.054, 17.0472]\n",
            "請輸入TP1名稱：1\n",
            "請輸入在S2觀看TP1點之上絲：1.787\n",
            "請輸入中絲：1.556\n",
            "請輸入下絲：1.325\n",
            "['1', 46.2, 1.787, 1.556, 1.325, 17.0472]\n",
            "請輸入B點名稱：B\n",
            "請輸入在S2觀看B點之上絲：0.795\n",
            "請輸入中絲：0.555\n",
            "請輸入下絲：0.315\n",
            "['B', 48.0, 0.795, 0.555, 0.315, 1.001, 18.0482]\n",
            "總路徑長= 0.1372 mm\n",
            "誤差需小於等於 6.297 mm\n",
            "您B點真實高度與測量所得高度的誤差= 0.6 mm\n",
            "測量成功！\n"
          ],
          "name": "stdout"
        }
      ]
    },
    {
      "cell_type": "code",
      "metadata": {
        "id": "vLOiWjXtkiz2",
        "colab_type": "code",
        "colab": {}
      },
      "source": [
        ""
      ],
      "execution_count": 0,
      "outputs": []
    }
  ]
}